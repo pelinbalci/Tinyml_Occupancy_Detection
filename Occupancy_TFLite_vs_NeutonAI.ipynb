{
  "nbformat": 4,
  "nbformat_minor": 0,
  "metadata": {
    "colab": {
      "name": "Occupancy_TFLite_vs_NeutonAI.ipynb",
      "provenance": [],
      "collapsed_sections": [
        "5lqfetIMK1_a",
        "MgSg05UrMhNo",
        "ncei_PkyxKvM",
        "AS3hKzYv2yXn",
        "fqRFZ3cwzAoa",
        "cEq5DB8nLKJY",
        "KN4ol1LehqHC",
        "uIVDlcGhZlw1",
        "9Z5ZL7D6x0nB",
        "_cV6z6nVyPMF",
        "UV09SR9hbR8p",
        "HyGcvanzC1dS"
      ],
      "include_colab_link": true
    },
    "kernelspec": {
      "display_name": "Python 3",
      "name": "python3"
    }
  },
  "cells": [
    {
      "cell_type": "markdown",
      "metadata": {
        "id": "view-in-github",
        "colab_type": "text"
      },
      "source": [
        "<a href=\"https://colab.research.google.com/github/pelinbalci/Tinyml_Occupancy_Detection/blob/main/Occupancy_TFLite_vs_NeutonAI.ipynb\" target=\"_parent\"><img src=\"https://colab.research.google.com/assets/colab-badge.svg\" alt=\"Open In Colab\"/></a>"
      ]
    },
    {
      "cell_type": "markdown",
      "metadata": {
        "id": "qFdPvlXBOdUN"
      },
      "source": [
        "In this colab, I will use the Occupancy Detection Data Set to generate TensorFlow and TensorFlow Lite models. The  Then I upload the datasets to Neuton.AI platform and compare the results. \n",
        "\n",
        "**The problem is:**\n",
        "\n",
        "Recognize whether someone is in the room or not based on measurements of temperature, humidity, light, and CO2. Ground-truth occupancy was obtained from time stamped pictures that were taken every minute.\n",
        "\n",
        "**Features and Target**\n",
        "- Temperature Humidity\n",
        "- Light\n",
        "- CO2\n",
        "- Humidity Ratio\n",
        "- Occupancy – 0 - not occupied; 1 - occupied status.\n",
        "\n",
        "**Content of the Notebook:**\n",
        "\n",
        "- Data Analysis: read and analyze the dataset.\n",
        "- Prepare Data: prepare & normalize data to training phase \n",
        "- Tensor Flow Model: Train data with tensorflow model\n",
        "- TensorFlow Lite Model Explanation: Explain each step for tflite model\n",
        "- Converted model with no quantization\n",
        "- Convert using dynamic range quantization\n",
        "- Convert using float fallback quantization\n",
        "- Neuton AI Results\n",
        "- Summary: Compare the tensorflow model with tensorflow lite models\n",
        "\n",
        "**References:**\n",
        "\n",
        "Neuton AI Platform: https://neuton.ai/\n",
        "\n",
        "[1] https://colab.research.google.com/github/tinyMLx/colabs/blob/master/3-3-12-QAT.ipynb\n",
        "\n",
        "[2] https://www.tensorflow.org/lite/performance/post_training_integer_quant\n",
        "\n",
        "[3] https://studymachinelearning.com/model-quantization-methods-in-tensorflow-lite/\n",
        "\n",
        "[4] https://towardsdatascience.com/tensorflow-on-arduino-b336f08fa0e9\n",
        "\n",
        "[5] https://www.youtube.com/watch?v=HXzz87WVm6c\n",
        "\n",
        "Data: https://archive.ics.uci.edu/ml/datasets/Occupancy+Detection+# \n",
        "\n",
        "The dataset is preprocessed earlier: The DateTime column was deleted before training. Then the original dataset was divided into train and test sets before training."
      ]
    },
    {
      "cell_type": "markdown",
      "source": [
        "# Data Analysis"
      ],
      "metadata": {
        "id": "5lqfetIMK1_a"
      }
    },
    {
      "cell_type": "markdown",
      "source": [
        "Load Data"
      ],
      "metadata": {
        "id": "_ffTh70WLAYe"
      }
    },
    {
      "cell_type": "code",
      "source": [
        "import pandas as pd\n",
        "import numpy as np\n",
        "import matplotlib.pyplot as plt\n",
        "import seaborn as sns"
      ],
      "metadata": {
        "id": "CGflLi4VLUNw"
      },
      "execution_count": null,
      "outputs": []
    },
    {
      "cell_type": "code",
      "source": [
        "data_set = pd.read_csv('/content/occupancy_detection_training.csv')\n",
        "data_set_test = pd.read_csv('/content/occupancy_detection_valid.csv')"
      ],
      "metadata": {
        "id": "D1o_k2geK_Nq"
      },
      "execution_count": null,
      "outputs": []
    },
    {
      "cell_type": "code",
      "source": [
        "data_set.head(5)"
      ],
      "metadata": {
        "colab": {
          "base_uri": "https://localhost:8080/",
          "height": 206
        },
        "id": "ALqmPq5mLxrp",
        "outputId": "7257db87-4073-477b-a5b4-eb5f198fb5c4"
      },
      "execution_count": null,
      "outputs": [
        {
          "output_type": "execute_result",
          "data": {
            "text/plain": [
              "   Temperature   Humidity       Light          CO2  HumidityRatio  Occupancy\n",
              "0    22.600000  17.166667  140.666667   446.000000       0.002904          0\n",
              "1    19.633333  30.100000  226.000000   423.000000       0.004253          0\n",
              "2    21.500000  20.840000  528.500000   832.500000       0.003299          1\n",
              "3    22.200000  21.290000  528.666667   895.333333       0.003518          1\n",
              "4    22.100000  38.200000  433.000000  1880.000000       0.006303          1"
            ],
            "text/html": [
              "\n",
              "  <div id=\"df-edc84a0e-d08a-4907-b302-4a736218496c\">\n",
              "    <div class=\"colab-df-container\">\n",
              "      <div>\n",
              "<style scoped>\n",
              "    .dataframe tbody tr th:only-of-type {\n",
              "        vertical-align: middle;\n",
              "    }\n",
              "\n",
              "    .dataframe tbody tr th {\n",
              "        vertical-align: top;\n",
              "    }\n",
              "\n",
              "    .dataframe thead th {\n",
              "        text-align: right;\n",
              "    }\n",
              "</style>\n",
              "<table border=\"1\" class=\"dataframe\">\n",
              "  <thead>\n",
              "    <tr style=\"text-align: right;\">\n",
              "      <th></th>\n",
              "      <th>Temperature</th>\n",
              "      <th>Humidity</th>\n",
              "      <th>Light</th>\n",
              "      <th>CO2</th>\n",
              "      <th>HumidityRatio</th>\n",
              "      <th>Occupancy</th>\n",
              "    </tr>\n",
              "  </thead>\n",
              "  <tbody>\n",
              "    <tr>\n",
              "      <th>0</th>\n",
              "      <td>22.600000</td>\n",
              "      <td>17.166667</td>\n",
              "      <td>140.666667</td>\n",
              "      <td>446.000000</td>\n",
              "      <td>0.002904</td>\n",
              "      <td>0</td>\n",
              "    </tr>\n",
              "    <tr>\n",
              "      <th>1</th>\n",
              "      <td>19.633333</td>\n",
              "      <td>30.100000</td>\n",
              "      <td>226.000000</td>\n",
              "      <td>423.000000</td>\n",
              "      <td>0.004253</td>\n",
              "      <td>0</td>\n",
              "    </tr>\n",
              "    <tr>\n",
              "      <th>2</th>\n",
              "      <td>21.500000</td>\n",
              "      <td>20.840000</td>\n",
              "      <td>528.500000</td>\n",
              "      <td>832.500000</td>\n",
              "      <td>0.003299</td>\n",
              "      <td>1</td>\n",
              "    </tr>\n",
              "    <tr>\n",
              "      <th>3</th>\n",
              "      <td>22.200000</td>\n",
              "      <td>21.290000</td>\n",
              "      <td>528.666667</td>\n",
              "      <td>895.333333</td>\n",
              "      <td>0.003518</td>\n",
              "      <td>1</td>\n",
              "    </tr>\n",
              "    <tr>\n",
              "      <th>4</th>\n",
              "      <td>22.100000</td>\n",
              "      <td>38.200000</td>\n",
              "      <td>433.000000</td>\n",
              "      <td>1880.000000</td>\n",
              "      <td>0.006303</td>\n",
              "      <td>1</td>\n",
              "    </tr>\n",
              "  </tbody>\n",
              "</table>\n",
              "</div>\n",
              "      <button class=\"colab-df-convert\" onclick=\"convertToInteractive('df-edc84a0e-d08a-4907-b302-4a736218496c')\"\n",
              "              title=\"Convert this dataframe to an interactive table.\"\n",
              "              style=\"display:none;\">\n",
              "        \n",
              "  <svg xmlns=\"http://www.w3.org/2000/svg\" height=\"24px\"viewBox=\"0 0 24 24\"\n",
              "       width=\"24px\">\n",
              "    <path d=\"M0 0h24v24H0V0z\" fill=\"none\"/>\n",
              "    <path d=\"M18.56 5.44l.94 2.06.94-2.06 2.06-.94-2.06-.94-.94-2.06-.94 2.06-2.06.94zm-11 1L8.5 8.5l.94-2.06 2.06-.94-2.06-.94L8.5 2.5l-.94 2.06-2.06.94zm10 10l.94 2.06.94-2.06 2.06-.94-2.06-.94-.94-2.06-.94 2.06-2.06.94z\"/><path d=\"M17.41 7.96l-1.37-1.37c-.4-.4-.92-.59-1.43-.59-.52 0-1.04.2-1.43.59L10.3 9.45l-7.72 7.72c-.78.78-.78 2.05 0 2.83L4 21.41c.39.39.9.59 1.41.59.51 0 1.02-.2 1.41-.59l7.78-7.78 2.81-2.81c.8-.78.8-2.07 0-2.86zM5.41 20L4 18.59l7.72-7.72 1.47 1.35L5.41 20z\"/>\n",
              "  </svg>\n",
              "      </button>\n",
              "      \n",
              "  <style>\n",
              "    .colab-df-container {\n",
              "      display:flex;\n",
              "      flex-wrap:wrap;\n",
              "      gap: 12px;\n",
              "    }\n",
              "\n",
              "    .colab-df-convert {\n",
              "      background-color: #E8F0FE;\n",
              "      border: none;\n",
              "      border-radius: 50%;\n",
              "      cursor: pointer;\n",
              "      display: none;\n",
              "      fill: #1967D2;\n",
              "      height: 32px;\n",
              "      padding: 0 0 0 0;\n",
              "      width: 32px;\n",
              "    }\n",
              "\n",
              "    .colab-df-convert:hover {\n",
              "      background-color: #E2EBFA;\n",
              "      box-shadow: 0px 1px 2px rgba(60, 64, 67, 0.3), 0px 1px 3px 1px rgba(60, 64, 67, 0.15);\n",
              "      fill: #174EA6;\n",
              "    }\n",
              "\n",
              "    [theme=dark] .colab-df-convert {\n",
              "      background-color: #3B4455;\n",
              "      fill: #D2E3FC;\n",
              "    }\n",
              "\n",
              "    [theme=dark] .colab-df-convert:hover {\n",
              "      background-color: #434B5C;\n",
              "      box-shadow: 0px 1px 3px 1px rgba(0, 0, 0, 0.15);\n",
              "      filter: drop-shadow(0px 1px 2px rgba(0, 0, 0, 0.3));\n",
              "      fill: #FFFFFF;\n",
              "    }\n",
              "  </style>\n",
              "\n",
              "      <script>\n",
              "        const buttonEl =\n",
              "          document.querySelector('#df-edc84a0e-d08a-4907-b302-4a736218496c button.colab-df-convert');\n",
              "        buttonEl.style.display =\n",
              "          google.colab.kernel.accessAllowed ? 'block' : 'none';\n",
              "\n",
              "        async function convertToInteractive(key) {\n",
              "          const element = document.querySelector('#df-edc84a0e-d08a-4907-b302-4a736218496c');\n",
              "          const dataTable =\n",
              "            await google.colab.kernel.invokeFunction('convertToInteractive',\n",
              "                                                     [key], {});\n",
              "          if (!dataTable) return;\n",
              "\n",
              "          const docLinkHtml = 'Like what you see? Visit the ' +\n",
              "            '<a target=\"_blank\" href=https://colab.research.google.com/notebooks/data_table.ipynb>data table notebook</a>'\n",
              "            + ' to learn more about interactive tables.';\n",
              "          element.innerHTML = '';\n",
              "          dataTable['output_type'] = 'display_data';\n",
              "          await google.colab.output.renderOutput(dataTable, element);\n",
              "          const docLink = document.createElement('div');\n",
              "          docLink.innerHTML = docLinkHtml;\n",
              "          element.appendChild(docLink);\n",
              "        }\n",
              "      </script>\n",
              "    </div>\n",
              "  </div>\n",
              "  "
            ]
          },
          "metadata": {},
          "execution_count": 3
        }
      ]
    },
    {
      "cell_type": "code",
      "source": [
        "data_set_test.head()"
      ],
      "metadata": {
        "colab": {
          "base_uri": "https://localhost:8080/",
          "height": 206
        },
        "id": "rD4kVSBiY6KS",
        "outputId": "124b56f2-7a64-4b47-9487-5e1ea2ed5c3f"
      },
      "execution_count": null,
      "outputs": [
        {
          "output_type": "execute_result",
          "data": {
            "text/plain": [
              "   Temperature   Humidity   Light          CO2  HumidityRatio  Occupancy\n",
              "0        20.29  26.175000   60.75   417.750000       0.003850          0\n",
              "1        22.10  37.817500  426.00  1801.750000       0.006239          1\n",
              "2        19.23  30.533333   24.00   435.000000       0.004207          0\n",
              "3        22.29  26.100000  112.75   898.500000       0.004343          0\n",
              "4        21.50  33.290000  471.00  1255.333333       0.005286          1"
            ],
            "text/html": [
              "\n",
              "  <div id=\"df-90804179-ce91-44da-be66-48f612077206\">\n",
              "    <div class=\"colab-df-container\">\n",
              "      <div>\n",
              "<style scoped>\n",
              "    .dataframe tbody tr th:only-of-type {\n",
              "        vertical-align: middle;\n",
              "    }\n",
              "\n",
              "    .dataframe tbody tr th {\n",
              "        vertical-align: top;\n",
              "    }\n",
              "\n",
              "    .dataframe thead th {\n",
              "        text-align: right;\n",
              "    }\n",
              "</style>\n",
              "<table border=\"1\" class=\"dataframe\">\n",
              "  <thead>\n",
              "    <tr style=\"text-align: right;\">\n",
              "      <th></th>\n",
              "      <th>Temperature</th>\n",
              "      <th>Humidity</th>\n",
              "      <th>Light</th>\n",
              "      <th>CO2</th>\n",
              "      <th>HumidityRatio</th>\n",
              "      <th>Occupancy</th>\n",
              "    </tr>\n",
              "  </thead>\n",
              "  <tbody>\n",
              "    <tr>\n",
              "      <th>0</th>\n",
              "      <td>20.29</td>\n",
              "      <td>26.175000</td>\n",
              "      <td>60.75</td>\n",
              "      <td>417.750000</td>\n",
              "      <td>0.003850</td>\n",
              "      <td>0</td>\n",
              "    </tr>\n",
              "    <tr>\n",
              "      <th>1</th>\n",
              "      <td>22.10</td>\n",
              "      <td>37.817500</td>\n",
              "      <td>426.00</td>\n",
              "      <td>1801.750000</td>\n",
              "      <td>0.006239</td>\n",
              "      <td>1</td>\n",
              "    </tr>\n",
              "    <tr>\n",
              "      <th>2</th>\n",
              "      <td>19.23</td>\n",
              "      <td>30.533333</td>\n",
              "      <td>24.00</td>\n",
              "      <td>435.000000</td>\n",
              "      <td>0.004207</td>\n",
              "      <td>0</td>\n",
              "    </tr>\n",
              "    <tr>\n",
              "      <th>3</th>\n",
              "      <td>22.29</td>\n",
              "      <td>26.100000</td>\n",
              "      <td>112.75</td>\n",
              "      <td>898.500000</td>\n",
              "      <td>0.004343</td>\n",
              "      <td>0</td>\n",
              "    </tr>\n",
              "    <tr>\n",
              "      <th>4</th>\n",
              "      <td>21.50</td>\n",
              "      <td>33.290000</td>\n",
              "      <td>471.00</td>\n",
              "      <td>1255.333333</td>\n",
              "      <td>0.005286</td>\n",
              "      <td>1</td>\n",
              "    </tr>\n",
              "  </tbody>\n",
              "</table>\n",
              "</div>\n",
              "      <button class=\"colab-df-convert\" onclick=\"convertToInteractive('df-90804179-ce91-44da-be66-48f612077206')\"\n",
              "              title=\"Convert this dataframe to an interactive table.\"\n",
              "              style=\"display:none;\">\n",
              "        \n",
              "  <svg xmlns=\"http://www.w3.org/2000/svg\" height=\"24px\"viewBox=\"0 0 24 24\"\n",
              "       width=\"24px\">\n",
              "    <path d=\"M0 0h24v24H0V0z\" fill=\"none\"/>\n",
              "    <path d=\"M18.56 5.44l.94 2.06.94-2.06 2.06-.94-2.06-.94-.94-2.06-.94 2.06-2.06.94zm-11 1L8.5 8.5l.94-2.06 2.06-.94-2.06-.94L8.5 2.5l-.94 2.06-2.06.94zm10 10l.94 2.06.94-2.06 2.06-.94-2.06-.94-.94-2.06-.94 2.06-2.06.94z\"/><path d=\"M17.41 7.96l-1.37-1.37c-.4-.4-.92-.59-1.43-.59-.52 0-1.04.2-1.43.59L10.3 9.45l-7.72 7.72c-.78.78-.78 2.05 0 2.83L4 21.41c.39.39.9.59 1.41.59.51 0 1.02-.2 1.41-.59l7.78-7.78 2.81-2.81c.8-.78.8-2.07 0-2.86zM5.41 20L4 18.59l7.72-7.72 1.47 1.35L5.41 20z\"/>\n",
              "  </svg>\n",
              "      </button>\n",
              "      \n",
              "  <style>\n",
              "    .colab-df-container {\n",
              "      display:flex;\n",
              "      flex-wrap:wrap;\n",
              "      gap: 12px;\n",
              "    }\n",
              "\n",
              "    .colab-df-convert {\n",
              "      background-color: #E8F0FE;\n",
              "      border: none;\n",
              "      border-radius: 50%;\n",
              "      cursor: pointer;\n",
              "      display: none;\n",
              "      fill: #1967D2;\n",
              "      height: 32px;\n",
              "      padding: 0 0 0 0;\n",
              "      width: 32px;\n",
              "    }\n",
              "\n",
              "    .colab-df-convert:hover {\n",
              "      background-color: #E2EBFA;\n",
              "      box-shadow: 0px 1px 2px rgba(60, 64, 67, 0.3), 0px 1px 3px 1px rgba(60, 64, 67, 0.15);\n",
              "      fill: #174EA6;\n",
              "    }\n",
              "\n",
              "    [theme=dark] .colab-df-convert {\n",
              "      background-color: #3B4455;\n",
              "      fill: #D2E3FC;\n",
              "    }\n",
              "\n",
              "    [theme=dark] .colab-df-convert:hover {\n",
              "      background-color: #434B5C;\n",
              "      box-shadow: 0px 1px 3px 1px rgba(0, 0, 0, 0.15);\n",
              "      filter: drop-shadow(0px 1px 2px rgba(0, 0, 0, 0.3));\n",
              "      fill: #FFFFFF;\n",
              "    }\n",
              "  </style>\n",
              "\n",
              "      <script>\n",
              "        const buttonEl =\n",
              "          document.querySelector('#df-90804179-ce91-44da-be66-48f612077206 button.colab-df-convert');\n",
              "        buttonEl.style.display =\n",
              "          google.colab.kernel.accessAllowed ? 'block' : 'none';\n",
              "\n",
              "        async function convertToInteractive(key) {\n",
              "          const element = document.querySelector('#df-90804179-ce91-44da-be66-48f612077206');\n",
              "          const dataTable =\n",
              "            await google.colab.kernel.invokeFunction('convertToInteractive',\n",
              "                                                     [key], {});\n",
              "          if (!dataTable) return;\n",
              "\n",
              "          const docLinkHtml = 'Like what you see? Visit the ' +\n",
              "            '<a target=\"_blank\" href=https://colab.research.google.com/notebooks/data_table.ipynb>data table notebook</a>'\n",
              "            + ' to learn more about interactive tables.';\n",
              "          element.innerHTML = '';\n",
              "          dataTable['output_type'] = 'display_data';\n",
              "          await google.colab.output.renderOutput(dataTable, element);\n",
              "          const docLink = document.createElement('div');\n",
              "          docLink.innerHTML = docLinkHtml;\n",
              "          element.appendChild(docLink);\n",
              "        }\n",
              "      </script>\n",
              "    </div>\n",
              "  </div>\n",
              "  "
            ]
          },
          "metadata": {},
          "execution_count": 4
        }
      ]
    },
    {
      "cell_type": "code",
      "source": [
        "print('training:', data_set.shape)\n",
        "print('test:', data_set_test.shape)"
      ],
      "metadata": {
        "colab": {
          "base_uri": "https://localhost:8080/"
        },
        "id": "TfDE3EB_L1Gs",
        "outputId": "d3a4dd7f-b789-4d82-fbb6-d914df4b5216"
      },
      "execution_count": null,
      "outputs": [
        {
          "output_type": "stream",
          "name": "stdout",
          "text": [
            "training: (2215, 6)\n",
            "test: (554, 6)\n"
          ]
        }
      ]
    },
    {
      "cell_type": "code",
      "source": [
        "print(data_set.isnull().sum())\n",
        "\n",
        "print(data_set_test.isnull().sum())\n"
      ],
      "metadata": {
        "colab": {
          "base_uri": "https://localhost:8080/"
        },
        "id": "Wg_t_ashMai9",
        "outputId": "3ca69f1a-d707-49cb-d5c0-1990e33c2cfd"
      },
      "execution_count": null,
      "outputs": [
        {
          "output_type": "stream",
          "name": "stdout",
          "text": [
            "Temperature      0\n",
            "Humidity         0\n",
            "Light            0\n",
            "CO2              0\n",
            "HumidityRatio    0\n",
            "Occupancy        0\n",
            "dtype: int64\n",
            "Temperature      0\n",
            "Humidity         0\n",
            "Light            0\n",
            "CO2              0\n",
            "HumidityRatio    0\n",
            "Occupancy        0\n",
            "dtype: int64\n"
          ]
        }
      ]
    },
    {
      "cell_type": "code",
      "source": [
        "print(data_set.Occupancy.value_counts())"
      ],
      "metadata": {
        "colab": {
          "base_uri": "https://localhost:8080/"
        },
        "id": "T7Y4NENvZUnm",
        "outputId": "97a7f446-2792-46a8-ca5d-081f166d34e2"
      },
      "execution_count": null,
      "outputs": [
        {
          "output_type": "stream",
          "name": "stdout",
          "text": [
            "0    1149\n",
            "1    1066\n",
            "Name: Occupancy, dtype: int64\n"
          ]
        }
      ]
    },
    {
      "cell_type": "code",
      "source": [
        "# Correlation Matrix\n",
        "correlation_matrix = data_set.corr()\n",
        "\n",
        "# plot correlation matrix\n",
        "plt.figure(figsize=(10,10))\n",
        "plt.title(\"Correlation Matrix\",fontsize=20)\n",
        "sns.heatmap(correlation_matrix, annot= True, cmap=\"Blues\", annot_kws={'size':12})\n",
        "plt.show()"
      ],
      "metadata": {
        "colab": {
          "base_uri": "https://localhost:8080/",
          "height": 612
        },
        "id": "YrVp-RNjL4Cu",
        "outputId": "d31bfa1c-bda5-44ca-f9e2-92966e3434fd"
      },
      "execution_count": null,
      "outputs": [
        {
          "output_type": "display_data",
          "data": {
            "text/plain": [
              "<Figure size 720x720 with 2 Axes>"
            ],
            "image/png": "[encoded data removed]"
          },
          "metadata": {
            "needs_background": "light"
          }
        }
      ]
    },
    {
      "cell_type": "markdown",
      "source": [
        "# Prepare Data"
      ],
      "metadata": {
        "id": "MgSg05UrMhNo"
      }
    },
    {
      "cell_type": "code",
      "source": [
        "from sklearn.preprocessing import StandardScaler"
      ],
      "metadata": {
        "id": "yTWaA5eINjCY"
      },
      "execution_count": null,
      "outputs": []
    },
    {
      "cell_type": "markdown",
      "source": [
        "Create train set features & labels"
      ],
      "metadata": {
        "id": "rJiLgeUcNYHH"
      }
    },
    {
      "cell_type": "code",
      "source": [
        "data = data_set.drop('Occupancy',axis=1)\n",
        "labels = data_set[[\"Occupancy\"]]\n",
        "\n",
        "data_test = data_set_test.drop('Occupancy',axis=1)\n",
        "labels_test = data_set_test[[\"Occupancy\"]]\n",
        "\n",
        "train_data_ = np.array(data)\n",
        "train_labels = np.array(labels)\n",
        "test_data_ = np.array(data_test)\n",
        "test_labels = np.array(labels_test)\n",
        "\n",
        "print('Train data shape: {}, train labels shape: {}'.format(train_data_.shape, train_labels.shape))\n",
        "print('Test data shape: {}, test labels shape: {}'.format(test_data_.shape, test_labels.shape))"
      ],
      "metadata": {
        "colab": {
          "base_uri": "https://localhost:8080/"
        },
        "id": "QOAaf3KZMjHz",
        "outputId": "af466e60-dfdb-4ccf-d41b-3ee3c0e5daf0"
      },
      "execution_count": null,
      "outputs": [
        {
          "output_type": "stream",
          "name": "stdout",
          "text": [
            "Train data shape: (2215, 5), train labels shape: (2215, 1)\n",
            "Test data shape: (554, 5), test labels shape: (554, 1)\n"
          ]
        }
      ]
    },
    {
      "cell_type": "markdown",
      "source": [
        "Scale the Data"
      ],
      "metadata": {
        "id": "YN7NeNeiNct5"
      }
    },
    {
      "cell_type": "code",
      "source": [
        "scale = StandardScaler()\n",
        "scale.fit(train_data_)\n",
        "\n",
        "train_data = scale.transform(train_data_)\n",
        "test_data = scale.transform(test_data_)"
      ],
      "metadata": {
        "id": "92R7YV6FNb_2"
      },
      "execution_count": null,
      "outputs": []
    },
    {
      "cell_type": "code",
      "source": [
        "train_data"
      ],
      "metadata": {
        "colab": {
          "base_uri": "https://localhost:8080/"
        },
        "id": "_mlei4JzTLLQ",
        "outputId": "13267350-5203-4f9b-bb06-c354a69e108f"
      },
      "execution_count": null,
      "outputs": [
        {
          "output_type": "execute_result",
          "data": {
            "text/plain": [
              "array([[ 1.10391568, -1.432334  , -0.67742672, -0.8983183 , -1.21584681],\n",
              "       [-1.73766119,  0.70109186, -0.26955001, -0.95220737,  0.17930207],\n",
              "       [ 0.05029729, -0.82639707,  1.17634106,  0.00725247, -0.80753074],\n",
              "       ...,\n",
              "       [-0.15084804, -0.76701305,  0.8441446 , -0.00446255, -0.79289515],\n",
              "       [ 0.57710648, -1.30394355, -1.04865826, -0.9041758 , -1.18284387],\n",
              "       [ 1.48704964, -1.48896876, -0.4464028 , -0.90534731, -1.20360973]])"
            ]
          },
          "metadata": {},
          "execution_count": 12
        }
      ]
    },
    {
      "cell_type": "code",
      "source": [
        "train_labels"
      ],
      "metadata": {
        "colab": {
          "base_uri": "https://localhost:8080/"
        },
        "id": "Xq6AZW3yeeRQ",
        "outputId": "45a6e114-6c53-4fdc-9561-0621146e0ec2"
      },
      "execution_count": null,
      "outputs": [
        {
          "output_type": "execute_result",
          "data": {
            "text/plain": [
              "array([[0],\n",
              "       [0],\n",
              "       [1],\n",
              "       ...,\n",
              "       [1],\n",
              "       [0],\n",
              "       [0]])"
            ]
          },
          "metadata": {},
          "execution_count": 13
        }
      ]
    },
    {
      "cell_type": "markdown",
      "source": [
        "# Tensor Flow Model"
      ],
      "metadata": {
        "id": "ncei_PkyxKvM"
      }
    },
    {
      "cell_type": "code",
      "source": [
        "import tempfile\n",
        "import os\n",
        "import tensorflow as tf\n",
        "from tensorflow import keras\n",
        "import pathlib\n",
        "import numpy as np\n",
        "tf.random.set_seed(15687)"
      ],
      "metadata": {
        "id": "3cgPomgrbFSw"
      },
      "execution_count": null,
      "outputs": []
    },
    {
      "cell_type": "code",
      "source": [
        "! pip install -q tensorflow-model-optimization"
      ],
      "metadata": {
        "id": "P-1LNqgf67qU"
      },
      "execution_count": null,
      "outputs": []
    },
    {
      "cell_type": "markdown",
      "source": [
        "I will collect the results in dict_summary."
      ],
      "metadata": {
        "id": "SBZpH1mBRTPJ"
      }
    },
    {
      "cell_type": "code",
      "source": [
        "dict_summary = {}"
      ],
      "metadata": {
        "id": "52KAWYAoFCCH"
      },
      "execution_count": null,
      "outputs": []
    },
    {
      "cell_type": "markdown",
      "source": [
        "Load data, build, compile and fit TensorFlow model\n",
        "\n",
        "I'm using the default learning rate: 0.001 If you want to change the learning rate, use this code: \n",
        "\n",
        "    tf.keras.optimizers.Adam(learning_rate=0.1)\n",
        "\n",
        "Ref: https://www.tensorflow.org/api_docs/python/tf/keras/optimizers/Adam"
      ],
      "metadata": {
        "id": "H9kqtWS6xNxK"
      }
    },
    {
      "cell_type": "code",
      "source": [
        "# Define the model architecture.\n",
        "model = keras.Sequential([\n",
        "      keras.layers.Dense(8, activation='relu', input_dim=train_data.shape[1]),\n",
        "      keras.layers.Dense(1, activation=\"sigmoid\")\n",
        "])\n",
        "\n",
        "# Number of parameters\n",
        "from keras.utils.layer_utils import count_params\n",
        "trainable_count_tf = count_params(model.trainable_weights)\n",
        "print('trainable_count: ', trainable_count_tf)\n",
        "\n",
        "model.summary()\n",
        "\n",
        "# Train the occupancy data\n",
        "model.compile(optimizer='adam',\n",
        "              loss='binary_crossentropy',\n",
        "              metrics=['accuracy'])\n",
        "\n",
        "model.fit(train_data, train_labels, epochs=10, validation_split=0.1)\n",
        "\n",
        "_, baseline_model_accuracy = model.evaluate(\n",
        "    test_data, test_labels, verbose=0)\n",
        "\n",
        "print(baseline_model_accuracy)"
      ],
      "metadata": {
        "id": "knC_LtanbJdi",
        "outputId": "1797639c-7848-4947-e722-861385f2309f",
        "colab": {
          "base_uri": "https://localhost:8080/"
        }
      },
      "execution_count": null,
      "outputs": [
        {
          "output_type": "stream",
          "name": "stdout",
          "text": [
            "trainable_count:  57\n",
            "Model: \"sequential\"\n",
            "_________________________________________________________________\n",
            " Layer (type)                Output Shape              Param #   \n",
            "=================================================================\n",
            " dense (Dense)               (None, 8)                 48        \n",
            "                                                                 \n",
            " dense_1 (Dense)             (None, 1)                 9         \n",
            "                                                                 \n",
            "=================================================================\n",
            "Total params: 57\n",
            "Trainable params: 57\n",
            "Non-trainable params: 0\n",
            "_________________________________________________________________\n",
            "Epoch 1/10\n",
            "63/63 [==============================] - 1s 5ms/step - loss: 0.7775 - accuracy: 0.4360 - val_loss: 0.6887 - val_accuracy: 0.5586\n",
            "Epoch 2/10\n",
            "63/63 [==============================] - 0s 2ms/step - loss: 0.5809 - accuracy: 0.7085 - val_loss: 0.5310 - val_accuracy: 0.7117\n",
            "Epoch 3/10\n",
            "63/63 [==============================] - 0s 2ms/step - loss: 0.4528 - accuracy: 0.8018 - val_loss: 0.4249 - val_accuracy: 0.8378\n",
            "Epoch 4/10\n",
            "63/63 [==============================] - 0s 3ms/step - loss: 0.3664 - accuracy: 0.9082 - val_loss: 0.3456 - val_accuracy: 0.9414\n",
            "Epoch 5/10\n",
            "63/63 [==============================] - 0s 2ms/step - loss: 0.3056 - accuracy: 0.9393 - val_loss: 0.2900 - val_accuracy: 0.9595\n",
            "Epoch 6/10\n",
            "63/63 [==============================] - 0s 2ms/step - loss: 0.2628 - accuracy: 0.9538 - val_loss: 0.2485 - val_accuracy: 0.9640\n",
            "Epoch 7/10\n",
            "63/63 [==============================] - 0s 4ms/step - loss: 0.2302 - accuracy: 0.9568 - val_loss: 0.2173 - val_accuracy: 0.9640\n",
            "Epoch 8/10\n",
            "63/63 [==============================] - 0s 3ms/step - loss: 0.2056 - accuracy: 0.9614 - val_loss: 0.1936 - val_accuracy: 0.9640\n",
            "Epoch 9/10\n",
            "63/63 [==============================] - 0s 2ms/step - loss: 0.1864 - accuracy: 0.9619 - val_loss: 0.1747 - val_accuracy: 0.9685\n",
            "Epoch 10/10\n",
            "63/63 [==============================] - 0s 2ms/step - loss: 0.1714 - accuracy: 0.9644 - val_loss: 0.1607 - val_accuracy: 0.9685\n",
            "0.9747292399406433\n"
          ]
        }
      ]
    },
    {
      "cell_type": "code",
      "source": [
        "# Define the model architecture.\n",
        "model2 = keras.Sequential([\n",
        "      keras.layers.Dense(64, activation='relu', input_dim=train_data.shape[1]),\n",
        "      keras.layers.Dense(32),\n",
        "      keras.layers.Dense(32),\n",
        "      keras.layers.Dense(1, activation=\"sigmoid\")\n",
        "])\n",
        "\n",
        "# Number of parameters\n",
        "trainable_count_tf2 = count_params(model2.trainable_weights)\n",
        "print('trainable_count: ', trainable_count_tf2)\n",
        "\n",
        "model2.summary()\n",
        "\n",
        "# Train the occupancy data\n",
        "model2.compile(optimizer='adam',\n",
        "              loss='binary_crossentropy',\n",
        "              metrics=['accuracy'])\n",
        "\n",
        "model2.fit(train_data, train_labels, epochs=10, validation_split=0.1)\n",
        "\n",
        "_, baseline_model_accuracy2 = model2.evaluate(\n",
        "    test_data, test_labels, verbose=0)\n",
        "\n",
        "print(baseline_model_accuracy2)"
      ],
      "metadata": {
        "colab": {
          "base_uri": "https://localhost:8080/"
        },
        "id": "j1Fjv1UOu0mi",
        "outputId": "92af8e32-638a-4bd5-9bd3-0d5452cc51f3"
      },
      "execution_count": null,
      "outputs": [
        {
          "output_type": "stream",
          "name": "stdout",
          "text": [
            "trainable_count:  3553\n",
            "Model: \"sequential_1\"\n",
            "_________________________________________________________________\n",
            " Layer (type)                Output Shape              Param #   \n",
            "=================================================================\n",
            " dense_2 (Dense)             (None, 64)                384       \n",
            "                                                                 \n",
            " dense_3 (Dense)             (None, 32)                2080      \n",
            "                                                                 \n",
            " dense_4 (Dense)             (None, 32)                1056      \n",
            "                                                                 \n",
            " dense_5 (Dense)             (None, 1)                 33        \n",
            "                                                                 \n",
            "=================================================================\n",
            "Total params: 3,553\n",
            "Trainable params: 3,553\n",
            "Non-trainable params: 0\n",
            "_________________________________________________________________\n",
            "Epoch 1/10\n",
            "63/63 [==============================] - 1s 6ms/step - loss: 0.2759 - accuracy: 0.9282 - val_loss: 0.1069 - val_accuracy: 0.9775\n",
            "Epoch 2/10\n",
            "63/63 [==============================] - 0s 3ms/step - loss: 0.1100 - accuracy: 0.9684 - val_loss: 0.0882 - val_accuracy: 0.9730\n",
            "Epoch 3/10\n",
            "63/63 [==============================] - 0s 3ms/step - loss: 0.0991 - accuracy: 0.9659 - val_loss: 0.0812 - val_accuracy: 0.9730\n",
            "Epoch 4/10\n",
            "63/63 [==============================] - 0s 3ms/step - loss: 0.0921 - accuracy: 0.9649 - val_loss: 0.0768 - val_accuracy: 0.9775\n",
            "Epoch 5/10\n",
            "63/63 [==============================] - 0s 3ms/step - loss: 0.0875 - accuracy: 0.9684 - val_loss: 0.0726 - val_accuracy: 0.9775\n",
            "Epoch 6/10\n",
            "63/63 [==============================] - 0s 3ms/step - loss: 0.0812 - accuracy: 0.9659 - val_loss: 0.0692 - val_accuracy: 0.9775\n",
            "Epoch 7/10\n",
            "63/63 [==============================] - 0s 4ms/step - loss: 0.0751 - accuracy: 0.9719 - val_loss: 0.0659 - val_accuracy: 0.9775\n",
            "Epoch 8/10\n",
            "63/63 [==============================] - 0s 3ms/step - loss: 0.0695 - accuracy: 0.9749 - val_loss: 0.0633 - val_accuracy: 0.9775\n",
            "Epoch 9/10\n",
            "63/63 [==============================] - 0s 3ms/step - loss: 0.0653 - accuracy: 0.9774 - val_loss: 0.0669 - val_accuracy: 0.9820\n",
            "Epoch 10/10\n",
            "63/63 [==============================] - 0s 2ms/step - loss: 0.0646 - accuracy: 0.9799 - val_loss: 0.0610 - val_accuracy: 0.9820\n",
            "0.9909747242927551\n"
          ]
        }
      ]
    },
    {
      "cell_type": "markdown",
      "source": [
        "## How to save model & calculate size?\n",
        "\n",
        "You can save the model by model.save() or tf.saved_model.save(model, saved_model_path). \n",
        "\n",
        "\n",
        "You can get the file size by: os.path.getsize  and it gives you bytes. If you want to get megabytes you need to divide it to 2^20 which gives you ~1M"
      ],
      "metadata": {
        "id": "AS3hKzYv2yXn"
      }
    },
    {
      "cell_type": "code",
      "source": [
        "# save model - first way\n",
        "model.save('model.h5')\n",
        "\n",
        "# save model - second way\n",
        "saved_model_path = 'saved_model/1'\n",
        "tf.saved_model.save(model, saved_model_path)\n",
        "\n",
        "# Get file size in bytes for a given model\n",
        "TF_model_size = os.path.getsize('model.h5') /float(2**10)\n",
        "print('TF_model_size in KB', TF_model_size)\n",
        "\n",
        "dict_summary['TensorFlow Model'] = {}\n",
        "dict_summary['TensorFlow Model']['Parameters'] = trainable_count_tf\n",
        "dict_summary['TensorFlow Model']['Accuracy'] = baseline_model_accuracy\n",
        "dict_summary['TensorFlow Model']['Size_kb'] = TF_model_size"
      ],
      "metadata": {
        "colab": {
          "base_uri": "https://localhost:8080/"
        },
        "id": "874FjAyj25-w",
        "outputId": "f5108477-2979-43be-84c0-6d1eb282f4c4"
      },
      "execution_count": null,
      "outputs": [
        {
          "output_type": "stream",
          "name": "stdout",
          "text": [
            "INFO:tensorflow:Assets written to: saved_model/1/assets\n",
            "TF_model_size in KB 25.75\n"
          ]
        }
      ]
    },
    {
      "cell_type": "code",
      "source": [
        "# save model - first way\n",
        "model2.save('model2.h5')\n",
        "\n",
        "# save model - second way\n",
        "saved_model_path2 = 'saved_model/2'\n",
        "tf.saved_model.save(model2, saved_model_path2)\n",
        "\n",
        "# Get file size in bytes for a given model\n",
        "TF_model_size2 = os.path.getsize('model2.h5') /float(2**10)\n",
        "print('TF_model_size2 in KB', TF_model_size2)\n",
        "\n",
        "dict_summary['TensorFlow Model_2'] = {}\n",
        "dict_summary['TensorFlow Model_2']['Parameters'] = trainable_count_tf2\n",
        "dict_summary['TensorFlow Model_2']['Accuracy'] = baseline_model_accuracy2\n",
        "dict_summary['TensorFlow Model_2']['Size_kb'] = TF_model_size2"
      ],
      "metadata": {
        "colab": {
          "base_uri": "https://localhost:8080/"
        },
        "id": "lUKTPPbkvxoM",
        "outputId": "7c85d233-b6dc-4960-ede9-f19a2b4f48a6"
      },
      "execution_count": null,
      "outputs": [
        {
          "output_type": "stream",
          "name": "stdout",
          "text": [
            "INFO:tensorflow:Assets written to: saved_model/2/assets\n",
            "TF_model_size2 in KB 79.6015625\n"
          ]
        }
      ]
    },
    {
      "cell_type": "markdown",
      "source": [
        "# TensorFlow Lite Model Explanation\n",
        "\n"
      ],
      "metadata": {
        "id": "fqRFZ3cwzAoa"
      }
    },
    {
      "cell_type": "markdown",
      "source": [
        "## How can we convert model?\n",
        "There are 3 types of conversion:\n",
        "- from saved model \n",
        "- from keras model\n",
        "- from concrete functions"
      ],
      "metadata": {
        "id": "cEq5DB8nLKJY"
      }
    },
    {
      "cell_type": "markdown",
      "source": [
        "**from saved model:**"
      ],
      "metadata": {
        "id": "ZUGDDQFeSwRX"
      }
    },
    {
      "cell_type": "code",
      "source": [
        "converter_1 = tf.lite.TFLiteConverter.from_saved_model(saved_model_path)\n",
        "tflite_model_1 = converter_1.convert()"
      ],
      "metadata": {
        "colab": {
          "base_uri": "https://localhost:8080/"
        },
        "id": "Mu3IbyJyy-uP",
        "outputId": "59b1eded-2abf-4467-d057-ed3e8edcb482"
      },
      "execution_count": null,
      "outputs": [
        {
          "output_type": "stream",
          "name": "stderr",
          "text": [
            "WARNING:absl:Buffer deduplication procedure will be skipped when flatbuffer library is not properly loaded\n"
          ]
        }
      ]
    },
    {
      "cell_type": "markdown",
      "source": [
        "**from keras model:**"
      ],
      "metadata": {
        "id": "VrzTf7TbSzSf"
      }
    },
    {
      "cell_type": "code",
      "source": [
        "converter_ = tf.lite.TFLiteConverter.from_keras_model(model)\n",
        "tflite_model_ = converter_.convert()"
      ],
      "metadata": {
        "colab": {
          "base_uri": "https://localhost:8080/"
        },
        "id": "KERFVOj-iLPI",
        "outputId": "5c81b4d2-75be-4acf-8fad-0d41118eb668"
      },
      "execution_count": null,
      "outputs": [
        {
          "output_type": "stream",
          "name": "stdout",
          "text": [
            "INFO:tensorflow:Assets written to: /tmp/tmp3wku4as7/assets\n"
          ]
        },
        {
          "output_type": "stream",
          "name": "stderr",
          "text": [
            "INFO:tensorflow:Assets written to: /tmp/tmp3wku4as7/assets\n",
            "WARNING:absl:Buffer deduplication procedure will be skipped when flatbuffer library is not properly loaded\n"
          ]
        }
      ]
    },
    {
      "cell_type": "code",
      "source": [
        "loaded_model = tf.keras.models.load_model('model.h5')\n",
        "converter_2 = tf.lite.TFLiteConverter.from_keras_model(loaded_model)\n",
        "tflite_model_2 = converter_2.convert()"
      ],
      "metadata": {
        "colab": {
          "base_uri": "https://localhost:8080/"
        },
        "id": "cEmoZsWQgTXp",
        "outputId": "2ed6b01a-cacd-407b-ed0b-a910c5e7838e"
      },
      "execution_count": null,
      "outputs": [
        {
          "output_type": "stream",
          "name": "stdout",
          "text": [
            "INFO:tensorflow:Assets written to: /tmp/tmp1ti5fsf8/assets\n"
          ]
        },
        {
          "output_type": "stream",
          "name": "stderr",
          "text": [
            "INFO:tensorflow:Assets written to: /tmp/tmp1ti5fsf8/assets\n",
            "WARNING:absl:Buffer deduplication procedure will be skipped when flatbuffer library is not properly loaded\n"
          ]
        }
      ]
    },
    {
      "cell_type": "markdown",
      "source": [
        "## How can we save tflite model?\n",
        "\n",
        "Define the path then, use write_bytes to save the tflite model."
      ],
      "metadata": {
        "id": "5mDNlGvVY64Q"
      }
    },
    {
      "cell_type": "code",
      "source": [
        "tflite_model_file = pathlib.Path(\"/tmp/saved_tflitemodel.tflite\")\n",
        "print(tflite_model_file)\n",
        "tflite_model_file.write_bytes(tflite_model_1)"
      ],
      "metadata": {
        "colab": {
          "base_uri": "https://localhost:8080/"
        },
        "id": "fShmV4AVZBNl",
        "outputId": "1a60f1b9-1afe-48f8-eaa4-d6acb445faef"
      },
      "execution_count": null,
      "outputs": [
        {
          "output_type": "stream",
          "name": "stdout",
          "text": [
            "/tmp/saved_tflitemodel.tflite\n"
          ]
        },
        {
          "output_type": "execute_result",
          "data": {
            "text/plain": [
              "1672"
            ]
          },
          "metadata": {},
          "execution_count": 24
        }
      ]
    },
    {
      "cell_type": "markdown",
      "source": [
        "Second way: "
      ],
      "metadata": {
        "id": "F4YO0s713yVA"
      }
    },
    {
      "cell_type": "code",
      "source": [
        "open('saved_tflitemodel2.tflite', \"wb\").write(tflite_model_1)"
      ],
      "metadata": {
        "colab": {
          "base_uri": "https://localhost:8080/"
        },
        "id": "urKr1Sfu304z",
        "outputId": "2a6320b3-bf4a-457e-c1d9-739a46f80430"
      },
      "execution_count": null,
      "outputs": [
        {
          "output_type": "execute_result",
          "data": {
            "text/plain": [
              "1672"
            ]
          },
          "metadata": {},
          "execution_count": 25
        }
      ]
    },
    {
      "cell_type": "markdown",
      "source": [
        "## How can we evaluate the results and make predictions?\n",
        "\n",
        "The evaluation is very simple in terms of tensorflow models. Simply, the evaluation is completed with model.evaluate() and you can use model.predict() for prediction. However, making evaluation for tensorflowlite model is a bit complicated. "
      ],
      "metadata": {
        "id": "KN4ol1LehqHC"
      }
    },
    {
      "cell_type": "markdown",
      "source": [
        "The full code for predicting a sample test data is below:"
      ],
      "metadata": {
        "id": "KOFgMnUAXjYm"
      }
    },
    {
      "cell_type": "code",
      "source": [
        "# Load TFLite Model and Allocate tensors\n",
        "interpreter = tf.lite.Interpreter(model_content=tflite_model_1)\n",
        "interpreter.allocate_tensors()\n",
        "\n",
        "#Get input and output tensors\n",
        "input_details = interpreter.get_input_details()\n",
        "output_details = interpreter.get_output_details()\n",
        "\n",
        "# Take a test_data to predict\n",
        "test_data_0 = test_data[0]\n",
        "test_label_0 = test_labels[0]\n",
        "\n",
        "# Point the data to be used for testing and run the interpreter\n",
        "trial_test_data = np.expand_dims(test_data_0, axis=0).astype(input_details[0][\"dtype\"])\n",
        "interpreter.set_tensor(input_details[0]['index'], trial_test_data)\n",
        "\n",
        "# Run inference.\n",
        "interpreter.invoke()\n",
        "\n",
        "# Get output\n",
        "output = interpreter.get_tensor(output_details[0]['index'])\n",
        "print(output)\n",
        "\n",
        "predicted_label = 0 if output <0.5 else 1\n",
        "print(predicted_label)\n",
        "\n",
        "print(test_label_0)"
      ],
      "metadata": {
        "colab": {
          "base_uri": "https://localhost:8080/"
        },
        "id": "ak0YCyGEXY5S",
        "outputId": "d3cac7bf-1e8a-476a-82be-e0dd787bb240"
      },
      "execution_count": null,
      "outputs": [
        {
          "output_type": "stream",
          "name": "stdout",
          "text": [
            "[[0.02886067]]\n",
            "0\n",
            "[0]\n"
          ]
        }
      ]
    },
    {
      "cell_type": "markdown",
      "source": [
        "Let's look at the details. \n",
        "\n",
        "- At first, take a sample data:"
      ],
      "metadata": {
        "id": "dao-ARNtXp8C"
      }
    },
    {
      "cell_type": "code",
      "source": [
        "test_data_0 = test_data[0]\n",
        "test_label_0 = test_labels[0]\n",
        "\n",
        "print('dtype {}, shape{}'.format(test_data_0.dtype, test_data_0.shape))"
      ],
      "metadata": {
        "colab": {
          "base_uri": "https://localhost:8080/"
        },
        "id": "vaDcf60QXxIW",
        "outputId": "2f991a2c-dee5-4536-9437-7fd365a46bf8"
      },
      "execution_count": null,
      "outputs": [
        {
          "output_type": "stream",
          "name": "stdout",
          "text": [
            "dtype float64, shape(5,)\n"
          ]
        }
      ]
    },
    {
      "cell_type": "markdown",
      "source": [
        "- Instantiate the interpreter"
      ],
      "metadata": {
        "id": "rE7WUvAEVQSy"
      }
    },
    {
      "cell_type": "code",
      "source": [
        "# Load TFLite Model and Allocate tensors\n",
        "interpreter = tf.lite.Interpreter(model_content=tflite_model_1)\n",
        "\n",
        "# Load TFLite Model with path\n",
        "tflite_model_file_dir = '/tmp/saved_tflitemodel.tflite'                \n",
        "interpreter = tf.lite.Interpreter(model_path=tflite_model_file_dir)\n",
        "\n",
        "# Allocate tensors\n",
        "interpreter.allocate_tensors()\n",
        "\n",
        "#Get input and output tensors\n",
        "input_details = interpreter.get_input_details()\n",
        "output_details = interpreter.get_output_details()"
      ],
      "metadata": {
        "id": "1PbUA9rctI90"
      },
      "execution_count": null,
      "outputs": []
    },
    {
      "cell_type": "markdown",
      "source": [
        "- What information does input_details store?"
      ],
      "metadata": {
        "id": "5THCZ0rbVpMF"
      }
    },
    {
      "cell_type": "code",
      "source": [
        "input_details"
      ],
      "metadata": {
        "colab": {
          "base_uri": "https://localhost:8080/"
        },
        "id": "0GjbCo1atToT",
        "outputId": "13c9ae2f-6629-442a-a0d4-1b4ed576120d"
      },
      "execution_count": null,
      "outputs": [
        {
          "output_type": "execute_result",
          "data": {
            "text/plain": [
              "[{'dtype': numpy.float32,\n",
              "  'index': 0,\n",
              "  'name': 'serving_default_dense_input:0',\n",
              "  'quantization': (0.0, 0),\n",
              "  'quantization_parameters': {'quantized_dimension': 0,\n",
              "   'scales': array([], dtype=float32),\n",
              "   'zero_points': array([], dtype=int32)},\n",
              "  'shape': array([1, 5], dtype=int32),\n",
              "  'shape_signature': array([-1,  5], dtype=int32),\n",
              "  'sparsity_parameters': {}}]"
            ]
          },
          "metadata": {},
          "execution_count": 29
        }
      ]
    },
    {
      "cell_type": "markdown",
      "source": [
        "- The size of the data that interpreter expects: [1,5]\n",
        "\n",
        "Now we need to expand the dimension of test_data to meet the expected shape:"
      ],
      "metadata": {
        "id": "nsJE9VplV2x_"
      }
    },
    {
      "cell_type": "code",
      "source": [
        "trial_test_data = np.expand_dims(test_data_0, axis=0).astype(input_details[0][\"dtype\"])\n",
        "print('dtype {}, shape{}'.format(trial_test_data.dtype, trial_test_data.shape))"
      ],
      "metadata": {
        "colab": {
          "base_uri": "https://localhost:8080/"
        },
        "id": "OmNscOyCsa38",
        "outputId": "4462cb63-b0c2-4b4d-ecb2-97731995c361"
      },
      "execution_count": null,
      "outputs": [
        {
          "output_type": "stream",
          "name": "stdout",
          "text": [
            "dtype float32, shape(1, 5)\n"
          ]
        }
      ]
    },
    {
      "cell_type": "markdown",
      "source": [
        "- What if I don't check the dtype and shape?"
      ],
      "metadata": {
        "id": "au3YdVdqWeki"
      }
    },
    {
      "cell_type": "code",
      "source": [
        "# interpreter.set_tensor(input_details[0]['index'], test_data_0)\n",
        "\n",
        "\"\"\"\n",
        "ValueError: Cannot set tensor: Got value of type FLOAT64 but expected type FLOAT32 for input 0, name: serving_default_dense_18_input:0 \n",
        "\"\"\""
      ],
      "metadata": {
        "colab": {
          "base_uri": "https://localhost:8080/",
          "height": 36
        },
        "id": "sO9HV4FaXGLy",
        "outputId": "0cc39988-2117-44fb-8be3-2f96f5f40213"
      },
      "execution_count": null,
      "outputs": [
        {
          "output_type": "execute_result",
          "data": {
            "text/plain": [
              "'\\nValueError: Cannot set tensor: Got value of type FLOAT64 but expected type FLOAT32 for input 0, name: serving_default_dense_18_input:0 \\n'"
            ],
            "application/vnd.google.colaboratory.intrinsic+json": {
              "type": "string"
            }
          },
          "metadata": {},
          "execution_count": 31
        }
      ]
    },
    {
      "cell_type": "code",
      "source": [
        "# interpreter.set_tensor(input_details[0]['index'], test_data_0.astype(input_details[0][\"dtype\"]))\n",
        "\n",
        "\"\"\"\n",
        "ValueError: Cannot set tensor: Dimension mismatch. Got 1 but expected 2 for input 0.\n",
        "\"\"\""
      ],
      "metadata": {
        "colab": {
          "base_uri": "https://localhost:8080/",
          "height": 36
        },
        "id": "_Iv7lN8KWkt6",
        "outputId": "54677591-1ff3-40aa-d698-968d04322e48"
      },
      "execution_count": null,
      "outputs": [
        {
          "output_type": "execute_result",
          "data": {
            "text/plain": [
              "'\\nValueError: Cannot set tensor: Dimension mismatch. Got 1 but expected 2 for input 0.\\n'"
            ],
            "application/vnd.google.colaboratory.intrinsic+json": {
              "type": "string"
            }
          },
          "metadata": {},
          "execution_count": 32
        }
      ]
    },
    {
      "cell_type": "markdown",
      "source": [
        "- Next, we set the tensor for the trial test data. And then invoke the interpreter, it is like model.predict()."
      ],
      "metadata": {
        "id": "9w9llWl6YlGq"
      }
    },
    {
      "cell_type": "code",
      "source": [
        "# Point the data to be used for testing and run the interpreter\n",
        "interpreter.set_tensor(input_details[0]['index'], trial_test_data)\n",
        "\n",
        "# Run inference.\n",
        "interpreter.invoke()"
      ],
      "metadata": {
        "id": "Z9fNxEVRutYB"
      },
      "execution_count": null,
      "outputs": []
    },
    {
      "cell_type": "code",
      "source": [
        "# Get output\n",
        "output = interpreter.get_tensor(output_details[0]['index'])\n",
        "print(output)\n",
        "\n",
        "predicted_label = 0 if output <0.5 else 1\n",
        "print(predicted_label)\n",
        "\n",
        "print(test_label_0)"
      ],
      "metadata": {
        "colab": {
          "base_uri": "https://localhost:8080/"
        },
        "id": "GHIbapBvqy8K",
        "outputId": "59206243-b3a6-44e6-a1b1-5be9325d7e18"
      },
      "execution_count": null,
      "outputs": [
        {
          "output_type": "stream",
          "name": "stdout",
          "text": [
            "[[0.02886067]]\n",
            "0\n",
            "[0]\n"
          ]
        }
      ]
    },
    {
      "cell_type": "markdown",
      "source": [
        "# Converted model with no quantization\n",
        "\n",
        "It's now a TensorFlow Lite model, but it's still using 32-bit float values for all parameter data. [1]"
      ],
      "metadata": {
        "id": "uIVDlcGhZlw1"
      }
    },
    {
      "cell_type": "code",
      "source": [
        "# Create Float TFLite model.\n",
        "float_converter = tf.lite.TFLiteConverter.from_keras_model(model)\n",
        "float_tflite_model = float_converter.convert()\n",
        "\n",
        "# Write tflite model to path\n",
        "tflite_models_dir = pathlib.Path(\"/tmp/\")\n",
        "tflite_model_file = tflite_models_dir/'model1.tflite'\n",
        "tflite_model_file.write_bytes(float_tflite_model)\n",
        "\n",
        "#Evaluate results with model\n",
        "interpreter_1 = tf.lite.Interpreter(model_content=float_tflite_model)\n",
        "\n",
        "input_details = interpreter_1.get_input_details()\n",
        "output_details = interpreter_1.get_output_details()\n",
        "\n",
        "interpreter_1.resize_tensor_input(input_details[0]['index'], test_data.shape)\n",
        "interpreter_1.resize_tensor_input(output_details[0]['index'], test_labels.shape)\n",
        "interpreter_1.allocate_tensors()\n",
        "\n",
        "input_details = interpreter.get_input_details()\n",
        "output_details = interpreter.get_output_details()\n",
        "\n",
        "# test_data_np = np.expand_dims(test_data, axis=0).astype(input_details[0][\"dtype\"])\n",
        "test_data_np = np.array(test_data, dtype=np.float32)\n",
        "print(test_data_np.shape)\n",
        "print(input_details[0]['shape'])\n",
        "interpreter_1.set_tensor(input_details[0]['index'], test_data_np)\n",
        "\n",
        "# Run inference.\n",
        "interpreter_1.invoke()\n",
        "\n",
        "# Post-processing: remove batch dimension and find the digit with highest\n",
        "# probability.\n",
        "output = interpreter_1.get_tensor(output_details[0]['index'])\n",
        "predicted_label =np.where(output<0.5, 0, 1)   # np.array(0 if output <0.5 else 1)\n",
        "print(predicted_label.shape, test_labels.shape)\n",
        "\n",
        "print('\\n')\n",
        "# Compare prediction results with ground truth labels to calculate accuracy.\n",
        "acc = (np.array(predicted_label) == test_labels).mean()\n",
        "print('Accuracy:', acc)\n",
        "\n",
        "# Measure sizes of models.\n",
        "tflite_model_file_dir = '/tmp/model1.tflite'    \n",
        "no_quant_size = os.path.getsize(tflite_model_file_dir) / float(2**10)\n",
        "print(\"model size in Mb:\", no_quant_size)\n",
        "\n",
        "dict_summary['TFLite_no_quantization'] = {}\n",
        "dict_summary['TFLite_no_quantization']['Parameters'] = '-'\n",
        "dict_summary['TFLite_no_quantization']['Accuracy'] = acc\n",
        "dict_summary['TFLite_no_quantization']['Size_kb'] = no_quant_size"
      ],
      "metadata": {
        "colab": {
          "base_uri": "https://localhost:8080/"
        },
        "id": "amQzyiUyiCHb",
        "outputId": "c4398c39-fc02-45af-be95-107e3fc50e36"
      },
      "execution_count": null,
      "outputs": [
        {
          "output_type": "stream",
          "name": "stdout",
          "text": [
            "INFO:tensorflow:Assets written to: /tmp/tmponw92ywd/assets\n"
          ]
        },
        {
          "output_type": "stream",
          "name": "stderr",
          "text": [
            "INFO:tensorflow:Assets written to: /tmp/tmponw92ywd/assets\n",
            "WARNING:absl:Buffer deduplication procedure will be skipped when flatbuffer library is not properly loaded\n"
          ]
        },
        {
          "output_type": "stream",
          "name": "stdout",
          "text": [
            "(554, 5)\n",
            "[1 5]\n",
            "(554, 1) (554, 1)\n",
            "\n",
            "\n",
            "Accuracy: 0.9747292418772563\n",
            "model size in Mb: 1.6328125\n"
          ]
        }
      ]
    },
    {
      "cell_type": "markdown",
      "source": [
        "# Convert using dynamic range quantization\n",
        "\n",
        "Now let's enable the default optimizations flag to quantize all fixed parameters (such as weights).\n",
        "\n",
        "The model is now a bit smaller with quantized weights, but other variable data is still in float format. [1]"
      ],
      "metadata": {
        "id": "9Z5ZL7D6x0nB"
      }
    },
    {
      "cell_type": "code",
      "source": [
        "# Create TFLite model\n",
        "converter_dynamic = tf.lite.TFLiteConverter.from_keras_model(model) \n",
        "converter_dynamic.optimizations = [tf.lite.Optimize.DEFAULT]\n",
        "tflite_model_dynamic = converter_dynamic.convert()\n",
        "\n",
        "# Write tflite model to path\n",
        "tflite_models_dir = pathlib.Path(\"/tmp/\")\n",
        "tflite_model_file = tflite_models_dir/'model2.tflite'\n",
        "tflite_model_file.write_bytes(tflite_model_dynamic)\n",
        "\n",
        "#Evaluate results with model\n",
        "interpreter_2 = tf.lite.Interpreter(model_content=tflite_model_dynamic)\n",
        "interpreter_2.allocate_tensors()\n",
        "\n",
        "interpreter_2.resize_tensor_input(input_details[0]['index'], test_data.shape)\n",
        "interpreter_2.resize_tensor_input(output_details[0]['index'], test_labels.shape)\n",
        "interpreter_2.allocate_tensors()\n",
        "\n",
        "input_details = interpreter_2.get_input_details()\n",
        "output_details = interpreter_2.get_output_details()\n",
        "\n",
        "# test_data_np = np.expand_dims(test_data, axis=0).astype(input_details[0][\"dtype\"])\n",
        "test_data_np = np.array(test_data, dtype=np.float32)\n",
        "print(test_data_np.shape)\n",
        "print(input_details[0]['shape'])\n",
        "interpreter_2.set_tensor(input_details[0]['index'], test_data_np)\n",
        "\n",
        "# Run inference.\n",
        "interpreter_2.invoke()\n",
        "\n",
        "# Post-processing: remove batch dimension and find the digit with highest\n",
        "# probability.\n",
        "output = interpreter_2.get_tensor(output_details[0]['index'])\n",
        "predicted_label =np.where(output<0.5, 0, 1)   # np.array(0 if output <0.5 else 1)\n",
        "print(predicted_label.shape, test_labels.shape)\n",
        "\n",
        "print('\\n')\n",
        "# Compare prediction results with ground truth labels to calculate accuracy.\n",
        "test_accuracy_2 = (np.array(predicted_label) == test_labels).mean()\n",
        "print('Accuracy:', test_accuracy_2)\n",
        "\n",
        "# Measure sizes of models.\n",
        "tflite_model_file_dir = '/tmp/model2.tflite'   \n",
        "dynamic_range_quant_size = os.path.getsize(tflite_model_file_dir) / float(2**10)\n",
        "print(\"model in Mb:\", dynamic_range_quant_size)\n",
        "\n",
        "\n",
        "dict_summary['Dynamic_range_quantization'] = {}\n",
        "dict_summary['Dynamic_range_quantization']['Parameters'] = '-'\n",
        "dict_summary['Dynamic_range_quantization']['Accuracy'] = test_accuracy_2\n",
        "dict_summary['Dynamic_range_quantization']['Size_kb'] = dynamic_range_quant_size"
      ],
      "metadata": {
        "id": "ejUlyo0OxDkO",
        "outputId": "c95e8b68-5e15-4c81-9f4e-f259e7d9c4db",
        "colab": {
          "base_uri": "https://localhost:8080/"
        }
      },
      "execution_count": null,
      "outputs": [
        {
          "output_type": "stream",
          "name": "stdout",
          "text": [
            "INFO:tensorflow:Assets written to: /tmp/tmp8r1nd0f8/assets\n"
          ]
        },
        {
          "output_type": "stream",
          "name": "stderr",
          "text": [
            "INFO:tensorflow:Assets written to: /tmp/tmp8r1nd0f8/assets\n",
            "WARNING:absl:Buffer deduplication procedure will be skipped when flatbuffer library is not properly loaded\n"
          ]
        },
        {
          "output_type": "stream",
          "name": "stdout",
          "text": [
            "(554, 5)\n",
            "[554   5]\n",
            "(554, 1) (554, 1)\n",
            "\n",
            "\n",
            "Accuracy: 0.9747292418772563\n",
            "model in Mb: 1.734375\n"
          ]
        }
      ]
    },
    {
      "cell_type": "markdown",
      "source": [
        "# Convert using float fallback quantization\n",
        "\n",
        "\"To quantize the variable data (such as model input/output and intermediates between layers), you need to provide a **RepresentativeDataset**. \n",
        "\n",
        "This is a generator function that provides a set of input data that's large enough to represent typical values. It allows the converter to estimate a dynamic range for all the variable data. (The dataset does not need to be unique compared to the training or evaluation dataset.) \n",
        "\n",
        "To support multiple inputs, each representative data point is a list and elements in the list are fed to the model according to their indices.\" [1]\n",
        "\n",
        "Ref: https://stackoverflow.com/questions/59855961/converting-keras-model-with-tfliteconverter-to-quantized-tflite-version-results"
      ],
      "metadata": {
        "id": "_cV6z6nVyPMF"
      }
    },
    {
      "cell_type": "code",
      "source": [
        "def representative_data_gen():\n",
        "  for i in range(100):\n",
        "    yield [test_data[i].astype(np.float32)]\n",
        "\n",
        "# Convert model\n",
        "converter_rep = tf.lite.TFLiteConverter.from_keras_model(model)\n",
        "converter_rep.optimizations = [tf.lite.Optimize.DEFAULT]\n",
        "converter_rep.representative_dataset = representative_data_gen\n",
        "tflite_model_quant_rep = converter_rep.convert()\n",
        "\n",
        "# Write tflite model to path\n",
        "tflite_models_dir = pathlib.Path(\"/tmp/\")\n",
        "tflite_model_file = tflite_models_dir/'model3.tflite' \n",
        "tflite_model_file.write_bytes(tflite_model_quant_rep)\n",
        "\n",
        "#Evaluate results with model\n",
        "interpreter_3 = tf.lite.Interpreter(model_content=tflite_model_quant_rep)\n",
        "interpreter_3.allocate_tensors()\n",
        "\n",
        "interpreter_3.resize_tensor_input(input_details[0]['index'], test_data.shape)\n",
        "interpreter_3.resize_tensor_input(output_details[0]['index'], test_labels.shape)\n",
        "interpreter_3.allocate_tensors()\n",
        "\n",
        "input_details = interpreter_3.get_input_details()\n",
        "output_details = interpreter_3.get_output_details()\n",
        "\n",
        "# test_data_np = np.expand_dims(test_data, axis=0).astype(input_details[0][\"dtype\"])\n",
        "test_data_np = np.array(test_data, dtype=np.float32)\n",
        "print(test_data_np.shape)\n",
        "print(input_details[0]['shape'])\n",
        "interpreter_3.set_tensor(input_details[0]['index'], test_data_np)\n",
        "\n",
        "# Run inference.\n",
        "interpreter_3.invoke()\n",
        "\n",
        "# Post-processing: remove batch dimension and find the digit with highest\n",
        "# probability.\n",
        "output = interpreter_3.get_tensor(output_details[0]['index'])\n",
        "predicted_label =np.where(output<0.5, 0, 1)   # np.array(0 if output <0.5 else 1)\n",
        "print(predicted_label.shape, test_labels.shape)\n",
        "\n",
        "print('\\n')\n",
        "# Compare prediction results with ground truth labels to calculate accuracy.\n",
        "test_accuracy_3 = (np.array(predicted_label) == test_labels).mean()\n",
        "print('Accuracy:', test_accuracy_3)\n",
        "\n",
        "\n",
        "# Measure sizes of models.\n",
        "tflite_models_dir = tflite_models_dir/'model3.tflite'\n",
        "float_fallback_quant_size = os.path.getsize(tflite_models_dir) / float(2**10)\n",
        "print(\"model in Kb:\", float_fallback_quant_size)\n",
        "\n",
        "\n",
        "dict_summary['Representative_Dataset_Float_Fallback'] = {}\n",
        "dict_summary['Representative_Dataset_Float_Fallback']['Parameters'] = '-'\n",
        "dict_summary['Representative_Dataset_Float_Fallback']['Accuracy'] = test_accuracy_3\n",
        "dict_summary['Representative_Dataset_Float_Fallback']['Size_kb'] = float_fallback_quant_size"
      ],
      "metadata": {
        "id": "WKEdTObNyKb8",
        "outputId": "63969b73-09fd-4e87-cc59-c3899365b590",
        "colab": {
          "base_uri": "https://localhost:8080/"
        }
      },
      "execution_count": null,
      "outputs": [
        {
          "output_type": "stream",
          "name": "stdout",
          "text": [
            "INFO:tensorflow:Assets written to: /tmp/tmprokpts3t/assets\n"
          ]
        },
        {
          "output_type": "stream",
          "name": "stderr",
          "text": [
            "INFO:tensorflow:Assets written to: /tmp/tmprokpts3t/assets\n",
            "/usr/local/lib/python3.7/dist-packages/tensorflow/lite/python/convert.py:746: UserWarning: Statistics for quantized inputs were expected, but not specified; continuing anyway.\n",
            "  warnings.warn(\"Statistics for quantized inputs were expected, but not \"\n",
            "WARNING:absl:Buffer deduplication procedure will be skipped when flatbuffer library is not properly loaded\n"
          ]
        },
        {
          "output_type": "stream",
          "name": "stdout",
          "text": [
            "(554, 5)\n",
            "[554   5]\n",
            "(554, 1) (554, 1)\n",
            "\n",
            "\n",
            "Accuracy: 0.9747292418772563\n",
            "model in Kb: 2.0859375\n"
          ]
        }
      ]
    },
    {
      "cell_type": "markdown",
      "source": [
        "# Neuton AI"
      ],
      "metadata": {
        "id": "UV09SR9hbR8p"
      }
    },
    {
      "cell_type": "markdown",
      "source": [
        "- Accuracy 0.981279\n",
        "- Model Size Kb: 0.14\n",
        "- Coefficients: 60"
      ],
      "metadata": {
        "id": "NDdQbIGlbVsV"
      }
    },
    {
      "cell_type": "code",
      "source": [
        "dict_summary['Neuton_AI'] = {}\n",
        "dict_summary['Neuton_AI']['Parameters'] =  60\n",
        "dict_summary['Neuton_AI']['Accuracy'] =  0.981279\n",
        "dict_summary['Neuton_AI']['Size_kb'] = 0.14"
      ],
      "metadata": {
        "id": "IcHm-kRfbT_W"
      },
      "execution_count": null,
      "outputs": []
    },
    {
      "cell_type": "markdown",
      "source": [
        "# Summary"
      ],
      "metadata": {
        "id": "HyGcvanzC1dS"
      }
    },
    {
      "cell_type": "markdown",
      "source": [
        "Below, accuracies and sizes of TensorFlow model and Tensorflow Lite Models and Neuton AI results are prenseted. As you can see, the accuracy doesn't change with quantization in TFLite models. \n",
        "\n",
        "The parameters of Tensowflow Model are almost the same as NeutonAI model, but the NeutonAI gives better results in terms of accuracy. Moreover the size of model is **ten times** smaller than TFLite models. \n"
      ],
      "metadata": {
        "id": "Tk_nxlJQBbjc"
      }
    },
    {
      "cell_type": "code",
      "source": [
        "import pandas as pd\n",
        "summary = pd.DataFrame.from_dict(dict_summary).T.reset_index()\n",
        "summary.rename(columns={'index': 'Model'}, inplace=True)\n",
        "summary.Size_kb = summary.Size_kb.astype(float)\n",
        "summary"
      ],
      "metadata": {
        "colab": {
          "base_uri": "https://localhost:8080/",
          "height": 237
        },
        "id": "vBvpXWNsC4O0",
        "outputId": "47eb16b1-e7e2-42ba-e316-981cc6c6af9a"
      },
      "execution_count": null,
      "outputs": [
        {
          "output_type": "execute_result",
          "data": {
            "text/plain": [
              "                                   Model Parameters  Accuracy    Size_kb\n",
              "0                       TensorFlow Model       57.0  0.974729  25.750000\n",
              "1                     TensorFlow Model_2     3553.0  0.990975  79.601562\n",
              "2                 TFLite_no_quantization          -  0.974729   1.632812\n",
              "3             Dynamic_range_quantization          -  0.974729   1.734375\n",
              "4  Representative_Dataset_Float_Fallback          -  0.974729   2.085938\n",
              "5                              Neuton_AI       60.0  0.981279   0.140000"
            ],
            "text/html": [
              "\n",
              "  <div id=\"df-5b0e4651-1249-44db-b373-77719bb53983\">\n",
              "    <div class=\"colab-df-container\">\n",
              "      <div>\n",
              "<style scoped>\n",
              "    .dataframe tbody tr th:only-of-type {\n",
              "        vertical-align: middle;\n",
              "    }\n",
              "\n",
              "    .dataframe tbody tr th {\n",
              "        vertical-align: top;\n",
              "    }\n",
              "\n",
              "    .dataframe thead th {\n",
              "        text-align: right;\n",
              "    }\n",
              "</style>\n",
              "<table border=\"1\" class=\"dataframe\">\n",
              "  <thead>\n",
              "    <tr style=\"text-align: right;\">\n",
              "      <th></th>\n",
              "      <th>Model</th>\n",
              "      <th>Parameters</th>\n",
              "      <th>Accuracy</th>\n",
              "      <th>Size_kb</th>\n",
              "    </tr>\n",
              "  </thead>\n",
              "  <tbody>\n",
              "    <tr>\n",
              "      <th>0</th>\n",
              "      <td>TensorFlow Model</td>\n",
              "      <td>57.0</td>\n",
              "      <td>0.974729</td>\n",
              "      <td>25.750000</td>\n",
              "    </tr>\n",
              "    <tr>\n",
              "      <th>1</th>\n",
              "      <td>TensorFlow Model_2</td>\n",
              "      <td>3553.0</td>\n",
              "      <td>0.990975</td>\n",
              "      <td>79.601562</td>\n",
              "    </tr>\n",
              "    <tr>\n",
              "      <th>2</th>\n",
              "      <td>TFLite_no_quantization</td>\n",
              "      <td>-</td>\n",
              "      <td>0.974729</td>\n",
              "      <td>1.632812</td>\n",
              "    </tr>\n",
              "    <tr>\n",
              "      <th>3</th>\n",
              "      <td>Dynamic_range_quantization</td>\n",
              "      <td>-</td>\n",
              "      <td>0.974729</td>\n",
              "      <td>1.734375</td>\n",
              "    </tr>\n",
              "    <tr>\n",
              "      <th>4</th>\n",
              "      <td>Representative_Dataset_Float_Fallback</td>\n",
              "      <td>-</td>\n",
              "      <td>0.974729</td>\n",
              "      <td>2.085938</td>\n",
              "    </tr>\n",
              "    <tr>\n",
              "      <th>5</th>\n",
              "      <td>Neuton_AI</td>\n",
              "      <td>60.0</td>\n",
              "      <td>0.981279</td>\n",
              "      <td>0.140000</td>\n",
              "    </tr>\n",
              "  </tbody>\n",
              "</table>\n",
              "</div>\n",
              "      <button class=\"colab-df-convert\" onclick=\"convertToInteractive('df-5b0e4651-1249-44db-b373-77719bb53983')\"\n",
              "              title=\"Convert this dataframe to an interactive table.\"\n",
              "              style=\"display:none;\">\n",
              "        \n",
              "  <svg xmlns=\"http://www.w3.org/2000/svg\" height=\"24px\"viewBox=\"0 0 24 24\"\n",
              "       width=\"24px\">\n",
              "    <path d=\"M0 0h24v24H0V0z\" fill=\"none\"/>\n",
              "    <path d=\"M18.56 5.44l.94 2.06.94-2.06 2.06-.94-2.06-.94-.94-2.06-.94 2.06-2.06.94zm-11 1L8.5 8.5l.94-2.06 2.06-.94-2.06-.94L8.5 2.5l-.94 2.06-2.06.94zm10 10l.94 2.06.94-2.06 2.06-.94-2.06-.94-.94-2.06-.94 2.06-2.06.94z\"/><path d=\"M17.41 7.96l-1.37-1.37c-.4-.4-.92-.59-1.43-.59-.52 0-1.04.2-1.43.59L10.3 9.45l-7.72 7.72c-.78.78-.78 2.05 0 2.83L4 21.41c.39.39.9.59 1.41.59.51 0 1.02-.2 1.41-.59l7.78-7.78 2.81-2.81c.8-.78.8-2.07 0-2.86zM5.41 20L4 18.59l7.72-7.72 1.47 1.35L5.41 20z\"/>\n",
              "  </svg>\n",
              "      </button>\n",
              "      \n",
              "  <style>\n",
              "    .colab-df-container {\n",
              "      display:flex;\n",
              "      flex-wrap:wrap;\n",
              "      gap: 12px;\n",
              "    }\n",
              "\n",
              "    .colab-df-convert {\n",
              "      background-color: #E8F0FE;\n",
              "      border: none;\n",
              "      border-radius: 50%;\n",
              "      cursor: pointer;\n",
              "      display: none;\n",
              "      fill: #1967D2;\n",
              "      height: 32px;\n",
              "      padding: 0 0 0 0;\n",
              "      width: 32px;\n",
              "    }\n",
              "\n",
              "    .colab-df-convert:hover {\n",
              "      background-color: #E2EBFA;\n",
              "      box-shadow: 0px 1px 2px rgba(60, 64, 67, 0.3), 0px 1px 3px 1px rgba(60, 64, 67, 0.15);\n",
              "      fill: #174EA6;\n",
              "    }\n",
              "\n",
              "    [theme=dark] .colab-df-convert {\n",
              "      background-color: #3B4455;\n",
              "      fill: #D2E3FC;\n",
              "    }\n",
              "\n",
              "    [theme=dark] .colab-df-convert:hover {\n",
              "      background-color: #434B5C;\n",
              "      box-shadow: 0px 1px 3px 1px rgba(0, 0, 0, 0.15);\n",
              "      filter: drop-shadow(0px 1px 2px rgba(0, 0, 0, 0.3));\n",
              "      fill: #FFFFFF;\n",
              "    }\n",
              "  </style>\n",
              "\n",
              "      <script>\n",
              "        const buttonEl =\n",
              "          document.querySelector('#df-5b0e4651-1249-44db-b373-77719bb53983 button.colab-df-convert');\n",
              "        buttonEl.style.display =\n",
              "          google.colab.kernel.accessAllowed ? 'block' : 'none';\n",
              "\n",
              "        async function convertToInteractive(key) {\n",
              "          const element = document.querySelector('#df-5b0e4651-1249-44db-b373-77719bb53983');\n",
              "          const dataTable =\n",
              "            await google.colab.kernel.invokeFunction('convertToInteractive',\n",
              "                                                     [key], {});\n",
              "          if (!dataTable) return;\n",
              "\n",
              "          const docLinkHtml = 'Like what you see? Visit the ' +\n",
              "            '<a target=\"_blank\" href=https://colab.research.google.com/notebooks/data_table.ipynb>data table notebook</a>'\n",
              "            + ' to learn more about interactive tables.';\n",
              "          element.innerHTML = '';\n",
              "          dataTable['output_type'] = 'display_data';\n",
              "          await google.colab.output.renderOutput(dataTable, element);\n",
              "          const docLink = document.createElement('div');\n",
              "          docLink.innerHTML = docLinkHtml;\n",
              "          element.appendChild(docLink);\n",
              "        }\n",
              "      </script>\n",
              "    </div>\n",
              "  </div>\n",
              "  "
            ]
          },
          "metadata": {},
          "execution_count": 39
        }
      ]
    },
    {
      "cell_type": "code",
      "source": [
        "plt.scatter(summary.Model, summary.Accuracy,  c=summary.Accuracy, cmap='rainbow', s=summary.Size_kb*100)\n",
        "plt.ylim(ymax = 1, ymin = 0.9)\n",
        "plt.xticks(rotation = 90)\n",
        "plt.colorbar()\n",
        "plt.show()"
      ],
      "metadata": {
        "colab": {
          "base_uri": "https://localhost:8080/",
          "height": 454
        },
        "id": "M317waH-xbJa",
        "outputId": "aa478d55-e10d-4d3c-9ef1-ed380027782c"
      },
      "execution_count": null,
      "outputs": [
        {
          "output_type": "display_data",
          "data": {
            "text/plain": [
              "<Figure size 432x288 with 2 Axes>"
            ],
            "image/png": "[encoded data removed]"
          },
          "metadata": {
            "needs_background": "light"
          }
        }
      ]
    },
    {
      "cell_type": "markdown",
      "source": [
        "# Encode the Model in an Arduino Header File"
      ],
      "metadata": {
        "id": "C4_f7e8u00fH"
      }
    },
    {
      "cell_type": "code",
      "source": [
        "open('model3.tflite', \"wb\").write(tflite_model_quant_rep)\n",
        "\n",
        "!apt-get update && apt-get -qq install xxd\n",
        "!xxd -i 'model3.tflite' > model.h\n",
        "!cat model.h"
      ],
      "metadata": {
        "colab": {
          "base_uri": "https://localhost:8080/"
        },
        "id": "bJPZc32m1Bav",
        "outputId": "e4434f60-ed81-4cd9-dd5a-d5187d5d07fa"
      },
      "execution_count": null,
      "outputs": [
        {
          "output_type": "stream",
          "name": "stdout",
          "text": [
            "Hit:1 http://security.ubuntu.com/ubuntu bionic-security InRelease\n",
            "Ign:2 https://developer.download.nvidia.com/compute/cuda/repos/ubuntu1804/x86_64  InRelease\n",
            "Hit:3 http://archive.ubuntu.com/ubuntu bionic InRelease\n",
            "Hit:4 http://ppa.launchpad.net/c2d4u.team/c2d4u4.0+/ubuntu bionic InRelease\n",
            "Ign:5 https://developer.download.nvidia.com/compute/machine-learning/repos/ubuntu1804/x86_64  InRelease\n",
            "Hit:6 https://developer.download.nvidia.com/compute/cuda/repos/ubuntu1804/x86_64  Release\n",
            "Hit:7 https://developer.download.nvidia.com/compute/machine-learning/repos/ubuntu1804/x86_64  Release\n",
            "Hit:8 https://cloud.r-project.org/bin/linux/ubuntu bionic-cran40/ InRelease\n",
            "Hit:9 http://archive.ubuntu.com/ubuntu bionic-updates InRelease\n",
            "Hit:10 http://archive.ubuntu.com/ubuntu bionic-backports InRelease\n",
            "Hit:11 http://ppa.launchpad.net/cran/libgit2/ubuntu bionic InRelease\n",
            "Hit:12 http://ppa.launchpad.net/deadsnakes/ppa/ubuntu bionic InRelease\n",
            "Hit:13 http://ppa.launchpad.net/graphics-drivers/ppa/ubuntu bionic InRelease\n",
            "Reading package lists... Done\n",
            "unsigned char model3_tflite[] = {\n",
            "  0x1c, 0x00, 0x00, 0x00, 0x54, 0x46, 0x4c, 0x33, 0x14, 0x00, 0x20, 0x00,\n",
            "  0x04, 0x00, 0x08, 0x00, 0x0c, 0x00, 0x10, 0x00, 0x14, 0x00, 0x00, 0x00,\n",
            "  0x18, 0x00, 0x1c, 0x00, 0x14, 0x00, 0x00, 0x00, 0x03, 0x00, 0x00, 0x00,\n",
            "  0x18, 0x00, 0x00, 0x00, 0x28, 0x00, 0x00, 0x00, 0x30, 0x01, 0x00, 0x00,\n",
            "  0x28, 0x00, 0x00, 0x00, 0xd8, 0x00, 0x00, 0x00, 0x54, 0x00, 0x00, 0x00,\n",
            "  0x04, 0x00, 0x00, 0x00, 0xfc, 0x04, 0x00, 0x00, 0x14, 0x04, 0x00, 0x00,\n",
            "  0x64, 0x02, 0x00, 0x00, 0xcc, 0x01, 0x00, 0x00, 0x01, 0x00, 0x00, 0x00,\n",
            "  0x2c, 0x01, 0x00, 0x00, 0x0c, 0x00, 0x00, 0x00, 0xf8, 0x07, 0x00, 0x00,\n",
            "  0xf4, 0x07, 0x00, 0x00, 0xcc, 0x06, 0x00, 0x00, 0x44, 0x06, 0x00, 0x00,\n",
            "  0xc4, 0x05, 0x00, 0x00, 0x5c, 0x05, 0x00, 0x00, 0xe0, 0x07, 0x00, 0x00,\n",
            "  0xdc, 0x07, 0x00, 0x00, 0xd8, 0x07, 0x00, 0x00, 0xd4, 0x07, 0x00, 0x00,\n",
            "  0xd0, 0x07, 0x00, 0x00, 0xb8, 0x00, 0x00, 0x00, 0x01, 0x00, 0x00, 0x00,\n",
            "  0x10, 0x00, 0x00, 0x00, 0x00, 0x00, 0x0a, 0x00, 0x10, 0x00, 0x0c, 0x00,\n",
            "  0x08, 0x00, 0x04, 0x00, 0x0a, 0x00, 0x00, 0x00, 0x0c, 0x00, 0x00, 0x00,\n",
            "  0x1c, 0x00, 0x00, 0x00, 0x20, 0x00, 0x00, 0x00, 0x0f, 0x00, 0x00, 0x00,\n",
            "  0x73, 0x65, 0x72, 0x76, 0x69, 0x6e, 0x67, 0x5f, 0x64, 0x65, 0x66, 0x61,\n",
            "  0x75, 0x6c, 0x74, 0x00, 0x01, 0x00, 0x00, 0x00, 0x14, 0x00, 0x00, 0x00,\n",
            "  0x01, 0x00, 0x00, 0x00, 0x24, 0x00, 0x00, 0x00, 0x08, 0x00, 0x0c, 0x00,\n",
            "  0x08, 0x00, 0x04, 0x00, 0x08, 0x00, 0x00, 0x00, 0x09, 0x00, 0x00, 0x00,\n",
            "  0x04, 0x00, 0x00, 0x00, 0x07, 0x00, 0x00, 0x00, 0x64, 0x65, 0x6e, 0x73,\n",
            "  0x65, 0x5f, 0x31, 0x00, 0xca, 0xf9, 0xff, 0xff, 0x04, 0x00, 0x00, 0x00,\n",
            "  0x0b, 0x00, 0x00, 0x00, 0x64, 0x65, 0x6e, 0x73, 0x65, 0x5f, 0x69, 0x6e,\n",
            "  0x70, 0x75, 0x74, 0x00, 0x01, 0x00, 0x00, 0x00, 0x0c, 0x00, 0x00, 0x00,\n",
            "  0x08, 0x00, 0x0c, 0x00, 0x04, 0x00, 0x08, 0x00, 0x08, 0x00, 0x00, 0x00,\n",
            "  0x08, 0x00, 0x00, 0x00, 0x0b, 0x00, 0x00, 0x00, 0x13, 0x00, 0x00, 0x00,\n",
            "  0x6d, 0x69, 0x6e, 0x5f, 0x72, 0x75, 0x6e, 0x74, 0x69, 0x6d, 0x65, 0x5f,\n",
            "  0x76, 0x65, 0x72, 0x73, 0x69, 0x6f, 0x6e, 0x00, 0x16, 0xfa, 0xff, 0xff,\n",
            "  0x04, 0x00, 0x00, 0x00, 0x10, 0x00, 0x00, 0x00, 0x31, 0x2e, 0x31, 0x34,\n",
            "  0x2e, 0x30, 0x00, 0x00, 0x00, 0x00, 0x00, 0x00, 0x00, 0x00, 0x00, 0x00,\n",
            "  0x0f, 0x00, 0x00, 0x00, 0x4d, 0x4c, 0x49, 0x52, 0x20, 0x43, 0x6f, 0x6e,\n",
            "  0x76, 0x65, 0x72, 0x74, 0x65, 0x64, 0x2e, 0x00, 0x00, 0x00, 0x0e, 0x00,\n",
            "  0x18, 0x00, 0x04, 0x00, 0x08, 0x00, 0x0c, 0x00, 0x10, 0x00, 0x14, 0x00,\n",
            "  0x0e, 0x00, 0x00, 0x00, 0x14, 0x00, 0x00, 0x00, 0x3c, 0x00, 0x00, 0x00,\n",
            "  0x40, 0x00, 0x00, 0x00, 0x44, 0x00, 0x00, 0x00, 0x58, 0x00, 0x00, 0x00,\n",
            "  0x0a, 0x00, 0x00, 0x00, 0x5c, 0x06, 0x00, 0x00, 0xd4, 0x05, 0x00, 0x00,\n",
            "  0x34, 0x05, 0x00, 0x00, 0x9c, 0x04, 0x00, 0x00, 0x30, 0x04, 0x00, 0x00,\n",
            "  0xb0, 0x03, 0x00, 0x00, 0xb4, 0x02, 0x00, 0x00, 0xc0, 0x01, 0x00, 0x00,\n",
            "  0x00, 0x01, 0x00, 0x00, 0x68, 0x00, 0x00, 0x00, 0x01, 0x00, 0x00, 0x00,\n",
            "  0x00, 0x00, 0x00, 0x00, 0x01, 0x00, 0x00, 0x00, 0x09, 0x00, 0x00, 0x00,\n",
            "  0x05, 0x00, 0x00, 0x00, 0x3c, 0x03, 0x00, 0x00, 0x3c, 0x02, 0x00, 0x00,\n",
            "  0x64, 0x01, 0x00, 0x00, 0xa8, 0x00, 0x00, 0x00, 0x10, 0x00, 0x00, 0x00,\n",
            "  0x04, 0x00, 0x00, 0x00, 0x6d, 0x61, 0x69, 0x6e, 0x00, 0x00, 0x00, 0x00,\n",
            "  0x76, 0xff, 0xff, 0xff, 0x03, 0x00, 0x00, 0x00, 0x10, 0x00, 0x00, 0x00,\n",
            "  0x04, 0x00, 0x00, 0x00, 0x01, 0x00, 0x00, 0x00, 0x09, 0x00, 0x00, 0x00,\n",
            "  0x01, 0x00, 0x00, 0x00, 0x08, 0x00, 0x00, 0x00, 0xe8, 0xfc, 0xff, 0xff,\n",
            "  0x06, 0x00, 0x00, 0x00, 0x00, 0x00, 0x00, 0x06, 0x02, 0x00, 0x00, 0x00,\n",
            "  0x44, 0xfa, 0xff, 0xff, 0x14, 0x00, 0x00, 0x00, 0x0a, 0x00, 0x00, 0x00,\n",
            "  0x18, 0x00, 0x00, 0x00, 0x44, 0x00, 0x00, 0x00, 0x30, 0x00, 0x00, 0x00,\n",
            "  0x02, 0x00, 0x00, 0x00, 0x01, 0x00, 0x00, 0x00, 0x01, 0x00, 0x00, 0x00,\n",
            "  0x19, 0x00, 0x00, 0x00, 0x53, 0x74, 0x61, 0x74, 0x65, 0x66, 0x75, 0x6c,\n",
            "  0x50, 0x61, 0x72, 0x74, 0x69, 0x74, 0x69, 0x6f, 0x6e, 0x65, 0x64, 0x43,\n",
            "  0x61, 0x6c, 0x6c, 0x3a, 0x30, 0x00, 0x00, 0x00, 0x02, 0x00, 0x00, 0x00,\n",
            "  0xff, 0xff, 0xff, 0xff, 0x01, 0x00, 0x00, 0x00, 0x04, 0x00, 0x06, 0x00,\n",
            "  0x04, 0x00, 0x00, 0x00, 0x00, 0x00, 0x0a, 0x00, 0x10, 0x00, 0x04, 0x00,\n",
            "  0x08, 0x00, 0x0c, 0x00, 0x0a, 0x00, 0x00, 0x00, 0x02, 0x00, 0x00, 0x00,\n",
            "  0x10, 0x00, 0x00, 0x00, 0x04, 0x00, 0x00, 0x00, 0x01, 0x00, 0x00, 0x00,\n",
            "  0x08, 0x00, 0x00, 0x00, 0x01, 0x00, 0x00, 0x00, 0x07, 0x00, 0x00, 0x00,\n",
            "  0x7c, 0xfd, 0xff, 0xff, 0x0e, 0x00, 0x00, 0x00, 0x00, 0x00, 0x00, 0x0e,\n",
            "  0x02, 0x00, 0x00, 0x00, 0x70, 0xfd, 0xff, 0xff, 0x00, 0x00, 0x00, 0x09,\n",
            "  0x14, 0x00, 0x00, 0x00, 0x09, 0x00, 0x00, 0x00, 0x18, 0x00, 0x00, 0x00,\n",
            "  0x40, 0x00, 0x00, 0x00, 0x30, 0x00, 0x00, 0x00, 0x02, 0x00, 0x00, 0x00,\n",
            "  0x01, 0x00, 0x00, 0x00, 0x01, 0x00, 0x00, 0x00, 0x1a, 0x00, 0x00, 0x00,\n",
            "  0x53, 0x74, 0x61, 0x74, 0x65, 0x66, 0x75, 0x6c, 0x50, 0x61, 0x72, 0x74,\n",
            "  0x69, 0x74, 0x69, 0x6f, 0x6e, 0x65, 0x64, 0x43, 0x61, 0x6c, 0x6c, 0x3a,\n",
            "  0x30, 0x31, 0x00, 0x00, 0x02, 0x00, 0x00, 0x00, 0xff, 0xff, 0xff, 0xff,\n",
            "  0x01, 0x00, 0x00, 0x00, 0x5c, 0xfb, 0xff, 0xff, 0x08, 0x00, 0x00, 0x00,\n",
            "  0x0c, 0x00, 0x00, 0x00, 0x01, 0x00, 0x00, 0x00, 0x00, 0x00, 0x80, 0x3b,\n",
            "  0x01, 0x00, 0x00, 0x00, 0x80, 0xff, 0xff, 0xff, 0xff, 0xff, 0xff, 0xff,\n",
            "  0x00, 0x00, 0x00, 0x00, 0x00, 0x00, 0x0e, 0x00, 0x18, 0x00, 0x08, 0x00,\n",
            "  0x0c, 0x00, 0x10, 0x00, 0x07, 0x00, 0x14, 0x00, 0x0e, 0x00, 0x00, 0x00,\n",
            "  0x00, 0x00, 0x00, 0x08, 0x01, 0x00, 0x00, 0x00, 0x18, 0x00, 0x00, 0x00,\n",
            "  0x0c, 0x00, 0x00, 0x00, 0x04, 0x00, 0x00, 0x00, 0x0c, 0xfb, 0xff, 0xff,\n",
            "  0x01, 0x00, 0x00, 0x00, 0x07, 0x00, 0x00, 0x00, 0x03, 0x00, 0x00, 0x00,\n",
            "  0x06, 0x00, 0x00, 0x00, 0x03, 0x00, 0x00, 0x00, 0x04, 0x00, 0x00, 0x00,\n",
            "  0x2c, 0xfe, 0xff, 0xff, 0x00, 0x00, 0x00, 0x09, 0x14, 0x00, 0x00, 0x00,\n",
            "  0x08, 0x00, 0x00, 0x00, 0x18, 0x00, 0x00, 0x00, 0x5c, 0x00, 0x00, 0x00,\n",
            "  0x4c, 0x00, 0x00, 0x00, 0x02, 0x00, 0x00, 0x00, 0x01, 0x00, 0x00, 0x00,\n",
            "  0x01, 0x00, 0x00, 0x00, 0x34, 0x00, 0x00, 0x00, 0x73, 0x65, 0x71, 0x75,\n",
            "  0x65, 0x6e, 0x74, 0x69, 0x61, 0x6c, 0x2f, 0x64, 0x65, 0x6e, 0x73, 0x65,\n",
            "  0x5f, 0x31, 0x2f, 0x4d, 0x61, 0x74, 0x4d, 0x75, 0x6c, 0x3b, 0x73, 0x65,\n",
            "  0x71, 0x75, 0x65, 0x6e, 0x74, 0x69, 0x61, 0x6c, 0x2f, 0x64, 0x65, 0x6e,\n",
            "  0x73, 0x65, 0x5f, 0x31, 0x2f, 0x42, 0x69, 0x61, 0x73, 0x41, 0x64, 0x64,\n",
            "  0x00, 0x00, 0x00, 0x00, 0x02, 0x00, 0x00, 0x00, 0xff, 0xff, 0xff, 0xff,\n",
            "  0x01, 0x00, 0x00, 0x00, 0x34, 0xfc, 0xff, 0xff, 0x08, 0x00, 0x00, 0x00,\n",
            "  0x0c, 0x00, 0x00, 0x00, 0x01, 0x00, 0x00, 0x00, 0x34, 0xda, 0x0c, 0x3d,\n",
            "  0x01, 0x00, 0x00, 0x00, 0xfa, 0xff, 0xff, 0xff, 0xff, 0xff, 0xff, 0xff,\n",
            "  0x00, 0x00, 0x0e, 0x00, 0x1a, 0x00, 0x08, 0x00, 0x0c, 0x00, 0x10, 0x00,\n",
            "  0x07, 0x00, 0x14, 0x00, 0x0e, 0x00, 0x00, 0x00, 0x00, 0x00, 0x00, 0x08,\n",
            "  0x01, 0x00, 0x00, 0x00, 0x24, 0x00, 0x00, 0x00, 0x18, 0x00, 0x00, 0x00,\n",
            "  0x0c, 0x00, 0x00, 0x00, 0x00, 0x00, 0x06, 0x00, 0x08, 0x00, 0x07, 0x00,\n",
            "  0x06, 0x00, 0x00, 0x00, 0x00, 0x00, 0x00, 0x01, 0x01, 0x00, 0x00, 0x00,\n",
            "  0x06, 0x00, 0x00, 0x00, 0x03, 0x00, 0x00, 0x00, 0x05, 0x00, 0x00, 0x00,\n",
            "  0x01, 0x00, 0x00, 0x00, 0x02, 0x00, 0x00, 0x00, 0x28, 0xff, 0xff, 0xff,\n",
            "  0x09, 0x00, 0x00, 0x00, 0x00, 0x00, 0x00, 0x09, 0x04, 0x00, 0x00, 0x00,\n",
            "  0x1c, 0xff, 0xff, 0xff, 0x00, 0x00, 0x00, 0x09, 0x14, 0x00, 0x00, 0x00,\n",
            "  0x07, 0x00, 0x00, 0x00, 0x18, 0x00, 0x00, 0x00, 0x6c, 0x00, 0x00, 0x00,\n",
            "  0x5c, 0x00, 0x00, 0x00, 0x02, 0x00, 0x00, 0x00, 0x01, 0x00, 0x00, 0x00,\n",
            "  0x08, 0x00, 0x00, 0x00, 0x46, 0x00, 0x00, 0x00, 0x73, 0x65, 0x71, 0x75,\n",
            "  0x65, 0x6e, 0x74, 0x69, 0x61, 0x6c, 0x2f, 0x64, 0x65, 0x6e, 0x73, 0x65,\n",
            "  0x2f, 0x4d, 0x61, 0x74, 0x4d, 0x75, 0x6c, 0x3b, 0x73, 0x65, 0x71, 0x75,\n",
            "  0x65, 0x6e, 0x74, 0x69, 0x61, 0x6c, 0x2f, 0x64, 0x65, 0x6e, 0x73, 0x65,\n",
            "  0x2f, 0x52, 0x65, 0x6c, 0x75, 0x3b, 0x73, 0x65, 0x71, 0x75, 0x65, 0x6e,\n",
            "  0x74, 0x69, 0x61, 0x6c, 0x2f, 0x64, 0x65, 0x6e, 0x73, 0x65, 0x2f, 0x42,\n",
            "  0x69, 0x61, 0x73, 0x41, 0x64, 0x64, 0x00, 0x00, 0x02, 0x00, 0x00, 0x00,\n",
            "  0xff, 0xff, 0xff, 0xff, 0x08, 0x00, 0x00, 0x00, 0x34, 0xfd, 0xff, 0xff,\n",
            "  0x08, 0x00, 0x00, 0x00, 0x0c, 0x00, 0x00, 0x00, 0x01, 0x00, 0x00, 0x00,\n",
            "  0x2b, 0x6a, 0x3d, 0x3c, 0x01, 0x00, 0x00, 0x00, 0x80, 0xff, 0xff, 0xff,\n",
            "  0xff, 0xff, 0xff, 0xff, 0x00, 0x00, 0x0a, 0x00, 0x0c, 0x00, 0x00, 0x00,\n",
            "  0x04, 0x00, 0x08, 0x00, 0x0a, 0x00, 0x00, 0x00, 0x10, 0x00, 0x00, 0x00,\n",
            "  0x04, 0x00, 0x00, 0x00, 0x01, 0x00, 0x00, 0x00, 0x05, 0x00, 0x00, 0x00,\n",
            "  0x01, 0x00, 0x00, 0x00, 0x00, 0x00, 0x00, 0x00, 0x0c, 0x00, 0x10, 0x00,\n",
            "  0x0b, 0x00, 0x00, 0x00, 0x0c, 0x00, 0x04, 0x00, 0x0c, 0x00, 0x00, 0x00,\n",
            "  0x72, 0x00, 0x00, 0x00, 0x00, 0x00, 0x00, 0x72, 0x01, 0x00, 0x00, 0x00,\n",
            "  0x14, 0x00, 0x1c, 0x00, 0x08, 0x00, 0x07, 0x00, 0x0c, 0x00, 0x10, 0x00,\n",
            "  0x14, 0x00, 0x00, 0x00, 0x00, 0x00, 0x18, 0x00, 0x14, 0x00, 0x00, 0x00,\n",
            "  0x00, 0x00, 0x00, 0x09, 0x14, 0x00, 0x00, 0x00, 0x06, 0x00, 0x00, 0x00,\n",
            "  0x18, 0x00, 0x00, 0x00, 0x34, 0x00, 0x00, 0x00, 0x24, 0x00, 0x00, 0x00,\n",
            "  0x02, 0x00, 0x00, 0x00, 0x01, 0x00, 0x00, 0x00, 0x05, 0x00, 0x00, 0x00,\n",
            "  0x0c, 0x00, 0x00, 0x00, 0x74, 0x66, 0x6c, 0x2e, 0x71, 0x75, 0x61, 0x6e,\n",
            "  0x74, 0x69, 0x7a, 0x65, 0x00, 0x00, 0x00, 0x00, 0x02, 0x00, 0x00, 0x00,\n",
            "  0xff, 0xff, 0xff, 0xff, 0x05, 0x00, 0x00, 0x00, 0xf4, 0xfd, 0xff, 0xff,\n",
            "  0x08, 0x00, 0x00, 0x00, 0x0c, 0x00, 0x00, 0x00, 0x01, 0x00, 0x00, 0x00,\n",
            "  0x7c, 0xfb, 0xa1, 0x3c, 0x01, 0x00, 0x00, 0x00, 0xf2, 0xff, 0xff, 0xff,\n",
            "  0xff, 0xff, 0xff, 0xff, 0x00, 0x00, 0x00, 0x00, 0xa2, 0xfe, 0xff, 0xff,\n",
            "  0x04, 0x00, 0x00, 0x00, 0x04, 0x00, 0x00, 0x00, 0x13, 0xfe, 0xff, 0xff,\n",
            "  0x76, 0xfe, 0xff, 0xff, 0x00, 0x00, 0x00, 0x02, 0x10, 0x00, 0x00, 0x00,\n",
            "  0x05, 0x00, 0x00, 0x00, 0x10, 0x00, 0x00, 0x00, 0x20, 0x00, 0x00, 0x00,\n",
            "  0x01, 0x00, 0x00, 0x00, 0x01, 0x00, 0x00, 0x00, 0x0c, 0x00, 0x00, 0x00,\n",
            "  0x64, 0x65, 0x6e, 0x73, 0x65, 0x5f, 0x31, 0x2f, 0x62, 0x69, 0x61, 0x73,\n",
            "  0x00, 0x00, 0x00, 0x00, 0x5c, 0xfe, 0xff, 0xff, 0x08, 0x00, 0x00, 0x00,\n",
            "  0x0c, 0x00, 0x00, 0x00, 0x01, 0x00, 0x00, 0x00, 0xe2, 0x1d, 0xde, 0x38,\n",
            "  0x01, 0x00, 0x00, 0x00, 0x00, 0x00, 0x00, 0x00, 0x00, 0x00, 0x00, 0x00,\n",
            "  0x06, 0xff, 0xff, 0xff, 0x04, 0x00, 0x00, 0x00, 0x08, 0x00, 0x00, 0x00,\n",
            "  0x3c, 0x7a, 0x7f, 0xa2, 0xd5, 0xaf, 0xbb, 0x2c, 0xde, 0xfe, 0xff, 0xff,\n",
            "  0x00, 0x00, 0x00, 0x09, 0x10, 0x00, 0x00, 0x00, 0x04, 0x00, 0x00, 0x00,\n",
            "  0x14, 0x00, 0x00, 0x00, 0x30, 0x00, 0x00, 0x00, 0x02, 0x00, 0x00, 0x00,\n",
            "  0x01, 0x00, 0x00, 0x00, 0x08, 0x00, 0x00, 0x00, 0x19, 0x00, 0x00, 0x00,\n",
            "  0x73, 0x65, 0x71, 0x75, 0x65, 0x6e, 0x74, 0x69, 0x61, 0x6c, 0x2f, 0x64,\n",
            "  0x65, 0x6e, 0x73, 0x65, 0x5f, 0x31, 0x2f, 0x4d, 0x61, 0x74, 0x4d, 0x75,\n",
            "  0x6c, 0x00, 0x00, 0x00, 0xd4, 0xfe, 0xff, 0xff, 0x08, 0x00, 0x00, 0x00,\n",
            "  0x0c, 0x00, 0x00, 0x00, 0x01, 0x00, 0x00, 0x00, 0x52, 0x19, 0x16, 0x3c,\n",
            "  0x01, 0x00, 0x00, 0x00, 0x00, 0x00, 0x00, 0x00, 0x00, 0x00, 0x00, 0x00,\n",
            "  0x00, 0x00, 0x00, 0x00, 0x82, 0xff, 0xff, 0xff, 0x04, 0x00, 0x00, 0x00,\n",
            "  0x20, 0x00, 0x00, 0x00, 0x5e, 0xfc, 0xff, 0xff, 0xda, 0x08, 0x00, 0x00,\n",
            "  0xa9, 0x09, 0x00, 0x00, 0x25, 0x0d, 0x00, 0x00, 0xca, 0xfa, 0xff, 0xff,\n",
            "  0xf0, 0x0a, 0x00, 0x00, 0x39, 0xfb, 0xff, 0xff, 0x17, 0xfb, 0xff, 0xff,\n",
            "  0x72, 0xff, 0xff, 0xff, 0x00, 0x00, 0x00, 0x02, 0x10, 0x00, 0x00, 0x00,\n",
            "  0x03, 0x00, 0x00, 0x00, 0x10, 0x00, 0x00, 0x00, 0x1c, 0x00, 0x00, 0x00,\n",
            "  0x01, 0x00, 0x00, 0x00, 0x08, 0x00, 0x00, 0x00, 0x0a, 0x00, 0x00, 0x00,\n",
            "  0x64, 0x65, 0x6e, 0x73, 0x65, 0x2f, 0x62, 0x69, 0x61, 0x73, 0x00, 0x00,\n",
            "  0x54, 0xff, 0xff, 0xff, 0x08, 0x00, 0x00, 0x00, 0x0c, 0x00, 0x00, 0x00,\n",
            "  0x01, 0x00, 0x00, 0x00, 0x9f, 0x10, 0x16, 0x39, 0x01, 0x00, 0x00, 0x00,\n",
            "  0x00, 0x00, 0x00, 0x00, 0x00, 0x00, 0x00, 0x00, 0x00, 0x00, 0x06, 0x00,\n",
            "  0x08, 0x00, 0x04, 0x00, 0x06, 0x00, 0x00, 0x00, 0x04, 0x00, 0x00, 0x00,\n",
            "  0x28, 0x00, 0x00, 0x00, 0xed, 0xf7, 0x14, 0xff, 0xdc, 0x1a, 0x02, 0x20,\n",
            "  0x53, 0xed, 0xf4, 0xbb, 0x46, 0x69, 0x07, 0xf4, 0x3f, 0x91, 0x87, 0x38,\n",
            "  0x21, 0xa9, 0xfb, 0x22, 0x08, 0xe8, 0xf7, 0x81, 0xca, 0xa7, 0x1d, 0xad,\n",
            "  0x27, 0xd8, 0xed, 0x0c, 0xb7, 0xe6, 0x4c, 0x1f, 0x00, 0x00, 0x0e, 0x00,\n",
            "  0x18, 0x00, 0x08, 0x00, 0x07, 0x00, 0x0c, 0x00, 0x10, 0x00, 0x14, 0x00,\n",
            "  0x0e, 0x00, 0x00, 0x00, 0x00, 0x00, 0x00, 0x09, 0x10, 0x00, 0x00, 0x00,\n",
            "  0x02, 0x00, 0x00, 0x00, 0x14, 0x00, 0x00, 0x00, 0x38, 0x00, 0x00, 0x00,\n",
            "  0x02, 0x00, 0x00, 0x00, 0x08, 0x00, 0x00, 0x00, 0x05, 0x00, 0x00, 0x00,\n",
            "  0x17, 0x00, 0x00, 0x00, 0x73, 0x65, 0x71, 0x75, 0x65, 0x6e, 0x74, 0x69,\n",
            "  0x61, 0x6c, 0x2f, 0x64, 0x65, 0x6e, 0x73, 0x65, 0x2f, 0x4d, 0x61, 0x74,\n",
            "  0x4d, 0x75, 0x6c, 0x00, 0x0c, 0x00, 0x0c, 0x00, 0x00, 0x00, 0x00, 0x00,\n",
            "  0x04, 0x00, 0x08, 0x00, 0x0c, 0x00, 0x00, 0x00, 0x08, 0x00, 0x00, 0x00,\n",
            "  0x0c, 0x00, 0x00, 0x00, 0x01, 0x00, 0x00, 0x00, 0x5b, 0x2a, 0xed, 0x3b,\n",
            "  0x01, 0x00, 0x00, 0x00, 0x00, 0x00, 0x00, 0x00, 0x00, 0x00, 0x00, 0x00,\n",
            "  0x00, 0x00, 0x00, 0x00, 0x14, 0x00, 0x18, 0x00, 0x04, 0x00, 0x00, 0x00,\n",
            "  0x08, 0x00, 0x0c, 0x00, 0x10, 0x00, 0x00, 0x00, 0x00, 0x00, 0x14, 0x00,\n",
            "  0x14, 0x00, 0x00, 0x00, 0x14, 0x00, 0x00, 0x00, 0x01, 0x00, 0x00, 0x00,\n",
            "  0x18, 0x00, 0x00, 0x00, 0x44, 0x00, 0x00, 0x00, 0x34, 0x00, 0x00, 0x00,\n",
            "  0x02, 0x00, 0x00, 0x00, 0x01, 0x00, 0x00, 0x00, 0x05, 0x00, 0x00, 0x00,\n",
            "  0x1d, 0x00, 0x00, 0x00, 0x73, 0x65, 0x72, 0x76, 0x69, 0x6e, 0x67, 0x5f,\n",
            "  0x64, 0x65, 0x66, 0x61, 0x75, 0x6c, 0x74, 0x5f, 0x64, 0x65, 0x6e, 0x73,\n",
            "  0x65, 0x5f, 0x69, 0x6e, 0x70, 0x75, 0x74, 0x3a, 0x30, 0x00, 0x00, 0x00,\n",
            "  0x02, 0x00, 0x00, 0x00, 0xff, 0xff, 0xff, 0xff, 0x05, 0x00, 0x00, 0x00,\n",
            "  0xfc, 0xff, 0xff, 0xff, 0x04, 0x00, 0x04, 0x00, 0x04, 0x00, 0x00, 0x00\n",
            "};\n",
            "unsigned int model3_tflite_len = 2136;\n"
          ]
        }
      ]
    }
  ]
}