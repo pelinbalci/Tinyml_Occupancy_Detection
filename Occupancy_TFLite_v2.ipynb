{
  "nbformat": 4,
  "nbformat_minor": 0,
  "metadata": {
    "colab": {
      "name": "Occupancy_TFLite_v2.ipynb",
      "provenance": [],
      "collapsed_sections": [
        "5lqfetIMK1_a",
        "MgSg05UrMhNo",
        "ncei_PkyxKvM",
        "AS3hKzYv2yXn",
        "cEq5DB8nLKJY",
        "5mDNlGvVY64Q",
        "6T5K67wTiUmd",
        "eBbNKpQ7xaxl",
        "9Z5ZL7D6x0nB",
        "_cV6z6nVyPMF",
        "dkdnrEXsysRR"
      ],
      "include_colab_link": true
    },
    "kernelspec": {
      "display_name": "Python 3",
      "name": "python3"
    }
  },
  "cells": [
    {
      "cell_type": "markdown",
      "metadata": {
        "id": "view-in-github",
        "colab_type": "text"
      },
      "source": [
        "<a href=\"https://colab.research.google.com/github/pelinbalci/Tinyml_Occupancy_Detection/blob/main/Occupancy_TFLite_v2.ipynb\" target=\"_parent\"><img src=\"https://colab.research.google.com/assets/colab-badge.svg\" alt=\"Open In Colab\"/></a>"
      ]
    },
    {
      "cell_type": "markdown",
      "metadata": {
        "id": "qFdPvlXBOdUN"
      },
      "source": [
        "In this colab, I will use the Occupancy Detection Data Set to generate TensorFlow and TensorFlow Lite models. \n",
        "\n",
        "**The problem is:**\n",
        "\n",
        "Recognize whether someone is in the room or not based on measurements of temperature, humidity, light, and CO2. Ground-truth occupancy was obtained from time stamped pictures that were taken every minute.\n",
        "\n",
        "**Features and Target**\n",
        "- Temperature Humidity\n",
        "- Light\n",
        "- CO2\n",
        "- Humidity Ratio\n",
        "- Occupancy – 0 - not occupied; 1 - occupied status.\n",
        "\n",
        "**Content of the Notebook:**\n",
        "\n",
        "- Data Analysis: read and analyze the dataset.\n",
        "- Prepare Data: prepare & normalize data to training phase \n",
        "- Tensor Flow Model: Train data with tensorflow model\n",
        "- TensorFlow Lite Model Explanation: Explain each step for tflite model\n",
        "- Converted model with no quantization\n",
        "- Convert using dynamic range quantization\n",
        "- Convert using float fallback quantization\n",
        "- Convert using integer-only quantization\n",
        "- Create Quantization Aware Model\n",
        "- Summary: Compare the tensorflow model with tensorflow lite models\n",
        "\n",
        "**References:**\n",
        "\n",
        "[1] https://colab.research.google.com/github/tinyMLx/colabs/blob/master/3-3-12-QAT.ipynb\n",
        "\n",
        "[2] https://www.tensorflow.org/lite/performance/post_training_integer_quant\n",
        "\n",
        "[3] https://studymachinelearning.com/model-quantization-methods-in-tensorflow-lite/\n",
        "\n",
        "[4] https://towardsdatascience.com/tensorflow-on-arduino-b336f08fa0e9\n",
        "\n",
        "[5] https://www.youtube.com/watch?v=HXzz87WVm6c\n",
        "\n",
        "Data: https://archive.ics.uci.edu/ml/datasets/Occupancy+Detection+# \n",
        "\n",
        "My dataset is preprocessed earlier: The DateTime column was deleted before training. Then the original dataset wa divided into train and test sets before training."
      ]
    },
    {
      "cell_type": "markdown",
      "source": [
        "# Data Analysis"
      ],
      "metadata": {
        "id": "5lqfetIMK1_a"
      }
    },
    {
      "cell_type": "markdown",
      "source": [
        "Load Data"
      ],
      "metadata": {
        "id": "_ffTh70WLAYe"
      }
    },
    {
      "cell_type": "code",
      "source": [
        "import pandas as pd\n",
        "import numpy as np\n",
        "import matplotlib.pyplot as plt\n",
        "import seaborn as sns"
      ],
      "metadata": {
        "id": "CGflLi4VLUNw"
      },
      "execution_count": null,
      "outputs": []
    },
    {
      "cell_type": "code",
      "source": [
        "data_set = pd.read_csv('/content/occupancy_detection_training.csv')\n",
        "data_set_test = pd.read_csv('/content/occupancy_detection_valid.csv')"
      ],
      "metadata": {
        "id": "D1o_k2geK_Nq"
      },
      "execution_count": null,
      "outputs": []
    },
    {
      "cell_type": "code",
      "source": [
        "data_set.head(5)"
      ],
      "metadata": {
        "colab": {
          "base_uri": "https://localhost:8080/"
        },
        "id": "ALqmPq5mLxrp",
        "outputId": "c1f0efe8-c416-47e8-b343-83f21d5e3643"
      },
      "execution_count": null,
      "outputs": [
        {
          "output_type": "execute_result",
          "data": {
            "text/plain": [
              "   Temperature   Humidity       Light          CO2  HumidityRatio  Occupancy\n",
              "0    22.600000  17.166667  140.666667   446.000000       0.002904          0\n",
              "1    19.633333  30.100000  226.000000   423.000000       0.004253          0\n",
              "2    21.500000  20.840000  528.500000   832.500000       0.003299          1\n",
              "3    22.200000  21.290000  528.666667   895.333333       0.003518          1\n",
              "4    22.100000  38.200000  433.000000  1880.000000       0.006303          1"
            ],
            "text/html": [
              "\n",
              "  <div id=\"df-96fb3f44-f75e-40ef-9014-b823f08019ab\">\n",
              "    <div class=\"colab-df-container\">\n",
              "      <div>\n",
              "<style scoped>\n",
              "    .dataframe tbody tr th:only-of-type {\n",
              "        vertical-align: middle;\n",
              "    }\n",
              "\n",
              "    .dataframe tbody tr th {\n",
              "        vertical-align: top;\n",
              "    }\n",
              "\n",
              "    .dataframe thead th {\n",
              "        text-align: right;\n",
              "    }\n",
              "</style>\n",
              "<table border=\"1\" class=\"dataframe\">\n",
              "  <thead>\n",
              "    <tr style=\"text-align: right;\">\n",
              "      <th></th>\n",
              "      <th>Temperature</th>\n",
              "      <th>Humidity</th>\n",
              "      <th>Light</th>\n",
              "      <th>CO2</th>\n",
              "      <th>HumidityRatio</th>\n",
              "      <th>Occupancy</th>\n",
              "    </tr>\n",
              "  </thead>\n",
              "  <tbody>\n",
              "    <tr>\n",
              "      <th>0</th>\n",
              "      <td>22.600000</td>\n",
              "      <td>17.166667</td>\n",
              "      <td>140.666667</td>\n",
              "      <td>446.000000</td>\n",
              "      <td>0.002904</td>\n",
              "      <td>0</td>\n",
              "    </tr>\n",
              "    <tr>\n",
              "      <th>1</th>\n",
              "      <td>19.633333</td>\n",
              "      <td>30.100000</td>\n",
              "      <td>226.000000</td>\n",
              "      <td>423.000000</td>\n",
              "      <td>0.004253</td>\n",
              "      <td>0</td>\n",
              "    </tr>\n",
              "    <tr>\n",
              "      <th>2</th>\n",
              "      <td>21.500000</td>\n",
              "      <td>20.840000</td>\n",
              "      <td>528.500000</td>\n",
              "      <td>832.500000</td>\n",
              "      <td>0.003299</td>\n",
              "      <td>1</td>\n",
              "    </tr>\n",
              "    <tr>\n",
              "      <th>3</th>\n",
              "      <td>22.200000</td>\n",
              "      <td>21.290000</td>\n",
              "      <td>528.666667</td>\n",
              "      <td>895.333333</td>\n",
              "      <td>0.003518</td>\n",
              "      <td>1</td>\n",
              "    </tr>\n",
              "    <tr>\n",
              "      <th>4</th>\n",
              "      <td>22.100000</td>\n",
              "      <td>38.200000</td>\n",
              "      <td>433.000000</td>\n",
              "      <td>1880.000000</td>\n",
              "      <td>0.006303</td>\n",
              "      <td>1</td>\n",
              "    </tr>\n",
              "  </tbody>\n",
              "</table>\n",
              "</div>\n",
              "      <button class=\"colab-df-convert\" onclick=\"convertToInteractive('df-96fb3f44-f75e-40ef-9014-b823f08019ab')\"\n",
              "              title=\"Convert this dataframe to an interactive table.\"\n",
              "              style=\"display:none;\">\n",
              "        \n",
              "  <svg xmlns=\"http://www.w3.org/2000/svg\" height=\"24px\"viewBox=\"0 0 24 24\"\n",
              "       width=\"24px\">\n",
              "    <path d=\"M0 0h24v24H0V0z\" fill=\"none\"/>\n",
              "    <path d=\"M18.56 5.44l.94 2.06.94-2.06 2.06-.94-2.06-.94-.94-2.06-.94 2.06-2.06.94zm-11 1L8.5 8.5l.94-2.06 2.06-.94-2.06-.94L8.5 2.5l-.94 2.06-2.06.94zm10 10l.94 2.06.94-2.06 2.06-.94-2.06-.94-.94-2.06-.94 2.06-2.06.94z\"/><path d=\"M17.41 7.96l-1.37-1.37c-.4-.4-.92-.59-1.43-.59-.52 0-1.04.2-1.43.59L10.3 9.45l-7.72 7.72c-.78.78-.78 2.05 0 2.83L4 21.41c.39.39.9.59 1.41.59.51 0 1.02-.2 1.41-.59l7.78-7.78 2.81-2.81c.8-.78.8-2.07 0-2.86zM5.41 20L4 18.59l7.72-7.72 1.47 1.35L5.41 20z\"/>\n",
              "  </svg>\n",
              "      </button>\n",
              "      \n",
              "  <style>\n",
              "    .colab-df-container {\n",
              "      display:flex;\n",
              "      flex-wrap:wrap;\n",
              "      gap: 12px;\n",
              "    }\n",
              "\n",
              "    .colab-df-convert {\n",
              "      background-color: #E8F0FE;\n",
              "      border: none;\n",
              "      border-radius: 50%;\n",
              "      cursor: pointer;\n",
              "      display: none;\n",
              "      fill: #1967D2;\n",
              "      height: 32px;\n",
              "      padding: 0 0 0 0;\n",
              "      width: 32px;\n",
              "    }\n",
              "\n",
              "    .colab-df-convert:hover {\n",
              "      background-color: #E2EBFA;\n",
              "      box-shadow: 0px 1px 2px rgba(60, 64, 67, 0.3), 0px 1px 3px 1px rgba(60, 64, 67, 0.15);\n",
              "      fill: #174EA6;\n",
              "    }\n",
              "\n",
              "    [theme=dark] .colab-df-convert {\n",
              "      background-color: #3B4455;\n",
              "      fill: #D2E3FC;\n",
              "    }\n",
              "\n",
              "    [theme=dark] .colab-df-convert:hover {\n",
              "      background-color: #434B5C;\n",
              "      box-shadow: 0px 1px 3px 1px rgba(0, 0, 0, 0.15);\n",
              "      filter: drop-shadow(0px 1px 2px rgba(0, 0, 0, 0.3));\n",
              "      fill: #FFFFFF;\n",
              "    }\n",
              "  </style>\n",
              "\n",
              "      <script>\n",
              "        const buttonEl =\n",
              "          document.querySelector('#df-96fb3f44-f75e-40ef-9014-b823f08019ab button.colab-df-convert');\n",
              "        buttonEl.style.display =\n",
              "          google.colab.kernel.accessAllowed ? 'block' : 'none';\n",
              "\n",
              "        async function convertToInteractive(key) {\n",
              "          const element = document.querySelector('#df-96fb3f44-f75e-40ef-9014-b823f08019ab');\n",
              "          const dataTable =\n",
              "            await google.colab.kernel.invokeFunction('convertToInteractive',\n",
              "                                                     [key], {});\n",
              "          if (!dataTable) return;\n",
              "\n",
              "          const docLinkHtml = 'Like what you see? Visit the ' +\n",
              "            '<a target=\"_blank\" href=https://colab.research.google.com/notebooks/data_table.ipynb>data table notebook</a>'\n",
              "            + ' to learn more about interactive tables.';\n",
              "          element.innerHTML = '';\n",
              "          dataTable['output_type'] = 'display_data';\n",
              "          await google.colab.output.renderOutput(dataTable, element);\n",
              "          const docLink = document.createElement('div');\n",
              "          docLink.innerHTML = docLinkHtml;\n",
              "          element.appendChild(docLink);\n",
              "        }\n",
              "      </script>\n",
              "    </div>\n",
              "  </div>\n",
              "  "
            ]
          },
          "metadata": {},
          "execution_count": 76
        }
      ]
    },
    {
      "cell_type": "code",
      "source": [
        "data_set_test.head()"
      ],
      "metadata": {
        "colab": {
          "base_uri": "https://localhost:8080/"
        },
        "id": "rD4kVSBiY6KS",
        "outputId": "a8a5b281-e9a5-419a-f214-62632a09c571"
      },
      "execution_count": null,
      "outputs": [
        {
          "output_type": "execute_result",
          "data": {
            "text/plain": [
              "   Temperature   Humidity   Light          CO2  HumidityRatio  Occupancy\n",
              "0        20.29  26.175000   60.75   417.750000       0.003850          0\n",
              "1        22.10  37.817500  426.00  1801.750000       0.006239          1\n",
              "2        19.23  30.533333   24.00   435.000000       0.004207          0\n",
              "3        22.29  26.100000  112.75   898.500000       0.004343          0\n",
              "4        21.50  33.290000  471.00  1255.333333       0.005286          1"
            ],
            "text/html": [
              "\n",
              "  <div id=\"df-c7e33beb-0e56-4511-a636-7af4995946ee\">\n",
              "    <div class=\"colab-df-container\">\n",
              "      <div>\n",
              "<style scoped>\n",
              "    .dataframe tbody tr th:only-of-type {\n",
              "        vertical-align: middle;\n",
              "    }\n",
              "\n",
              "    .dataframe tbody tr th {\n",
              "        vertical-align: top;\n",
              "    }\n",
              "\n",
              "    .dataframe thead th {\n",
              "        text-align: right;\n",
              "    }\n",
              "</style>\n",
              "<table border=\"1\" class=\"dataframe\">\n",
              "  <thead>\n",
              "    <tr style=\"text-align: right;\">\n",
              "      <th></th>\n",
              "      <th>Temperature</th>\n",
              "      <th>Humidity</th>\n",
              "      <th>Light</th>\n",
              "      <th>CO2</th>\n",
              "      <th>HumidityRatio</th>\n",
              "      <th>Occupancy</th>\n",
              "    </tr>\n",
              "  </thead>\n",
              "  <tbody>\n",
              "    <tr>\n",
              "      <th>0</th>\n",
              "      <td>20.29</td>\n",
              "      <td>26.175000</td>\n",
              "      <td>60.75</td>\n",
              "      <td>417.750000</td>\n",
              "      <td>0.003850</td>\n",
              "      <td>0</td>\n",
              "    </tr>\n",
              "    <tr>\n",
              "      <th>1</th>\n",
              "      <td>22.10</td>\n",
              "      <td>37.817500</td>\n",
              "      <td>426.00</td>\n",
              "      <td>1801.750000</td>\n",
              "      <td>0.006239</td>\n",
              "      <td>1</td>\n",
              "    </tr>\n",
              "    <tr>\n",
              "      <th>2</th>\n",
              "      <td>19.23</td>\n",
              "      <td>30.533333</td>\n",
              "      <td>24.00</td>\n",
              "      <td>435.000000</td>\n",
              "      <td>0.004207</td>\n",
              "      <td>0</td>\n",
              "    </tr>\n",
              "    <tr>\n",
              "      <th>3</th>\n",
              "      <td>22.29</td>\n",
              "      <td>26.100000</td>\n",
              "      <td>112.75</td>\n",
              "      <td>898.500000</td>\n",
              "      <td>0.004343</td>\n",
              "      <td>0</td>\n",
              "    </tr>\n",
              "    <tr>\n",
              "      <th>4</th>\n",
              "      <td>21.50</td>\n",
              "      <td>33.290000</td>\n",
              "      <td>471.00</td>\n",
              "      <td>1255.333333</td>\n",
              "      <td>0.005286</td>\n",
              "      <td>1</td>\n",
              "    </tr>\n",
              "  </tbody>\n",
              "</table>\n",
              "</div>\n",
              "      <button class=\"colab-df-convert\" onclick=\"convertToInteractive('df-c7e33beb-0e56-4511-a636-7af4995946ee')\"\n",
              "              title=\"Convert this dataframe to an interactive table.\"\n",
              "              style=\"display:none;\">\n",
              "        \n",
              "  <svg xmlns=\"http://www.w3.org/2000/svg\" height=\"24px\"viewBox=\"0 0 24 24\"\n",
              "       width=\"24px\">\n",
              "    <path d=\"M0 0h24v24H0V0z\" fill=\"none\"/>\n",
              "    <path d=\"M18.56 5.44l.94 2.06.94-2.06 2.06-.94-2.06-.94-.94-2.06-.94 2.06-2.06.94zm-11 1L8.5 8.5l.94-2.06 2.06-.94-2.06-.94L8.5 2.5l-.94 2.06-2.06.94zm10 10l.94 2.06.94-2.06 2.06-.94-2.06-.94-.94-2.06-.94 2.06-2.06.94z\"/><path d=\"M17.41 7.96l-1.37-1.37c-.4-.4-.92-.59-1.43-.59-.52 0-1.04.2-1.43.59L10.3 9.45l-7.72 7.72c-.78.78-.78 2.05 0 2.83L4 21.41c.39.39.9.59 1.41.59.51 0 1.02-.2 1.41-.59l7.78-7.78 2.81-2.81c.8-.78.8-2.07 0-2.86zM5.41 20L4 18.59l7.72-7.72 1.47 1.35L5.41 20z\"/>\n",
              "  </svg>\n",
              "      </button>\n",
              "      \n",
              "  <style>\n",
              "    .colab-df-container {\n",
              "      display:flex;\n",
              "      flex-wrap:wrap;\n",
              "      gap: 12px;\n",
              "    }\n",
              "\n",
              "    .colab-df-convert {\n",
              "      background-color: #E8F0FE;\n",
              "      border: none;\n",
              "      border-radius: 50%;\n",
              "      cursor: pointer;\n",
              "      display: none;\n",
              "      fill: #1967D2;\n",
              "      height: 32px;\n",
              "      padding: 0 0 0 0;\n",
              "      width: 32px;\n",
              "    }\n",
              "\n",
              "    .colab-df-convert:hover {\n",
              "      background-color: #E2EBFA;\n",
              "      box-shadow: 0px 1px 2px rgba(60, 64, 67, 0.3), 0px 1px 3px 1px rgba(60, 64, 67, 0.15);\n",
              "      fill: #174EA6;\n",
              "    }\n",
              "\n",
              "    [theme=dark] .colab-df-convert {\n",
              "      background-color: #3B4455;\n",
              "      fill: #D2E3FC;\n",
              "    }\n",
              "\n",
              "    [theme=dark] .colab-df-convert:hover {\n",
              "      background-color: #434B5C;\n",
              "      box-shadow: 0px 1px 3px 1px rgba(0, 0, 0, 0.15);\n",
              "      filter: drop-shadow(0px 1px 2px rgba(0, 0, 0, 0.3));\n",
              "      fill: #FFFFFF;\n",
              "    }\n",
              "  </style>\n",
              "\n",
              "      <script>\n",
              "        const buttonEl =\n",
              "          document.querySelector('#df-c7e33beb-0e56-4511-a636-7af4995946ee button.colab-df-convert');\n",
              "        buttonEl.style.display =\n",
              "          google.colab.kernel.accessAllowed ? 'block' : 'none';\n",
              "\n",
              "        async function convertToInteractive(key) {\n",
              "          const element = document.querySelector('#df-c7e33beb-0e56-4511-a636-7af4995946ee');\n",
              "          const dataTable =\n",
              "            await google.colab.kernel.invokeFunction('convertToInteractive',\n",
              "                                                     [key], {});\n",
              "          if (!dataTable) return;\n",
              "\n",
              "          const docLinkHtml = 'Like what you see? Visit the ' +\n",
              "            '<a target=\"_blank\" href=https://colab.research.google.com/notebooks/data_table.ipynb>data table notebook</a>'\n",
              "            + ' to learn more about interactive tables.';\n",
              "          element.innerHTML = '';\n",
              "          dataTable['output_type'] = 'display_data';\n",
              "          await google.colab.output.renderOutput(dataTable, element);\n",
              "          const docLink = document.createElement('div');\n",
              "          docLink.innerHTML = docLinkHtml;\n",
              "          element.appendChild(docLink);\n",
              "        }\n",
              "      </script>\n",
              "    </div>\n",
              "  </div>\n",
              "  "
            ]
          },
          "metadata": {},
          "execution_count": 77
        }
      ]
    },
    {
      "cell_type": "code",
      "source": [
        "print('training:', data_set.shape)\n",
        "print('test:', data_set_test.shape)"
      ],
      "metadata": {
        "colab": {
          "base_uri": "https://localhost:8080/"
        },
        "id": "TfDE3EB_L1Gs",
        "outputId": "57469ed5-279a-45ed-8fdc-e757ba5c725b"
      },
      "execution_count": null,
      "outputs": [
        {
          "output_type": "stream",
          "name": "stdout",
          "text": [
            "training: (2215, 6)\n",
            "test: (554, 6)\n"
          ]
        }
      ]
    },
    {
      "cell_type": "code",
      "source": [
        "print(data_set.isnull().sum())\n",
        "\n",
        "print(data_set_test.isnull().sum())\n"
      ],
      "metadata": {
        "colab": {
          "base_uri": "https://localhost:8080/"
        },
        "id": "Wg_t_ashMai9",
        "outputId": "65fdd9cb-660a-472d-a904-7c059dcc7599"
      },
      "execution_count": null,
      "outputs": [
        {
          "output_type": "stream",
          "name": "stdout",
          "text": [
            "Temperature      0\n",
            "Humidity         0\n",
            "Light            0\n",
            "CO2              0\n",
            "HumidityRatio    0\n",
            "Occupancy        0\n",
            "dtype: int64\n",
            "Temperature      0\n",
            "Humidity         0\n",
            "Light            0\n",
            "CO2              0\n",
            "HumidityRatio    0\n",
            "Occupancy        0\n",
            "dtype: int64\n"
          ]
        }
      ]
    },
    {
      "cell_type": "code",
      "source": [
        "print(data_set.Occupancy.value_counts())"
      ],
      "metadata": {
        "colab": {
          "base_uri": "https://localhost:8080/"
        },
        "id": "T7Y4NENvZUnm",
        "outputId": "e2b4dc28-6bbc-4d9f-b202-749d216aa3a3"
      },
      "execution_count": null,
      "outputs": [
        {
          "output_type": "stream",
          "name": "stdout",
          "text": [
            "0    1149\n",
            "1    1066\n",
            "Name: Occupancy, dtype: int64\n"
          ]
        }
      ]
    },
    {
      "cell_type": "code",
      "source": [
        "# Correlation Matrix\n",
        "correlation_matrix = data_set.corr()\n",
        "\n",
        "# plot correlation matrix\n",
        "plt.figure(figsize=(10,10))\n",
        "plt.title(\"Correlation Matrix\",fontsize=20)\n",
        "sns.heatmap(correlation_matrix, annot= True, cmap=\"Blues\", annot_kws={'size':12})\n",
        "plt.show()"
      ],
      "metadata": {
        "colab": {
          "base_uri": "https://localhost:8080/"
        },
        "id": "YrVp-RNjL4Cu",
        "outputId": "88fe7a56-34fc-426e-ed72-4fc84a393235"
      },
      "execution_count": null,
      "outputs": [
        {
          "output_type": "display_data",
          "data": {
            "text/plain": [
              "<Figure size 720x720 with 2 Axes>"
            ],
            "image/png": "[encoded data removed]"
          },
          "metadata": {
            "needs_background": "light"
          }
        }
      ]
    },
    {
      "cell_type": "markdown",
      "source": [
        "# Prepare Data"
      ],
      "metadata": {
        "id": "MgSg05UrMhNo"
      }
    },
    {
      "cell_type": "code",
      "source": [
        "from sklearn.preprocessing import StandardScaler"
      ],
      "metadata": {
        "id": "yTWaA5eINjCY"
      },
      "execution_count": null,
      "outputs": []
    },
    {
      "cell_type": "markdown",
      "source": [
        "Create train set features & labels"
      ],
      "metadata": {
        "id": "rJiLgeUcNYHH"
      }
    },
    {
      "cell_type": "code",
      "source": [
        "data = data_set.drop('Occupancy',axis=1)\n",
        "labels = data_set[[\"Occupancy\"]]\n",
        "\n",
        "data_test = data_set_test.drop('Occupancy',axis=1)\n",
        "labels_test = data_set_test[[\"Occupancy\"]]\n",
        "\n",
        "train_data_ = np.array(data)\n",
        "train_labels = np.array(labels)\n",
        "test_data_ = np.array(data_test)\n",
        "test_labels = np.array(labels_test)\n",
        "\n",
        "print('Train data shape: {}, train labels shape: {}'.format(train_data_.shape, train_labels.shape))\n",
        "print('Test data shape: {}, test labels shape: {}'.format(test_data_.shape, test_labels.shape))"
      ],
      "metadata": {
        "colab": {
          "base_uri": "https://localhost:8080/"
        },
        "id": "QOAaf3KZMjHz",
        "outputId": "c657eccf-e974-408c-a99a-1bbcd2c9ab55"
      },
      "execution_count": null,
      "outputs": [
        {
          "output_type": "stream",
          "name": "stdout",
          "text": [
            "Train data shape: (2215, 5), train labels shape: (2215, 1)\n",
            "Test data shape: (554, 5), test labels shape: (554, 1)\n"
          ]
        }
      ]
    },
    {
      "cell_type": "markdown",
      "source": [
        "Scale the Data"
      ],
      "metadata": {
        "id": "YN7NeNeiNct5"
      }
    },
    {
      "cell_type": "code",
      "source": [
        "scale = StandardScaler()\n",
        "scale.fit(train_data_)\n",
        "\n",
        "train_data = scale.transform(train_data_)\n",
        "test_data = scale.transform(test_data_)"
      ],
      "metadata": {
        "id": "92R7YV6FNb_2"
      },
      "execution_count": null,
      "outputs": []
    },
    {
      "cell_type": "code",
      "source": [
        "train_data"
      ],
      "metadata": {
        "colab": {
          "base_uri": "https://localhost:8080/"
        },
        "id": "_mlei4JzTLLQ",
        "outputId": "286d0348-615f-46fe-c173-6e829215b642"
      },
      "execution_count": null,
      "outputs": [
        {
          "output_type": "execute_result",
          "data": {
            "text/plain": [
              "array([[ 1.10391568, -1.432334  , -0.67742672, -0.8983183 , -1.21584681],\n",
              "       [-1.73766119,  0.70109186, -0.26955001, -0.95220737,  0.17930207],\n",
              "       [ 0.05029729, -0.82639707,  1.17634106,  0.00725247, -0.80753074],\n",
              "       ...,\n",
              "       [-0.15084804, -0.76701305,  0.8441446 , -0.00446255, -0.79289515],\n",
              "       [ 0.57710648, -1.30394355, -1.04865826, -0.9041758 , -1.18284387],\n",
              "       [ 1.48704964, -1.48896876, -0.4464028 , -0.90534731, -1.20360973]])"
            ]
          },
          "metadata": {},
          "execution_count": 85
        }
      ]
    },
    {
      "cell_type": "code",
      "source": [
        "train_labels"
      ],
      "metadata": {
        "colab": {
          "base_uri": "https://localhost:8080/"
        },
        "id": "Xq6AZW3yeeRQ",
        "outputId": "4208a0cb-b5a5-4684-a8a2-52d2ecb1ef67"
      },
      "execution_count": null,
      "outputs": [
        {
          "output_type": "execute_result",
          "data": {
            "text/plain": [
              "array([[0],\n",
              "       [0],\n",
              "       [1],\n",
              "       ...,\n",
              "       [1],\n",
              "       [0],\n",
              "       [0]])"
            ]
          },
          "metadata": {},
          "execution_count": 86
        }
      ]
    },
    {
      "cell_type": "markdown",
      "source": [
        "# Tensor Flow Model"
      ],
      "metadata": {
        "id": "ncei_PkyxKvM"
      }
    },
    {
      "cell_type": "code",
      "source": [
        "import tempfile\n",
        "import os\n",
        "import tensorflow as tf\n",
        "from tensorflow import keras\n",
        "import pathlib\n",
        "import numpy as np"
      ],
      "metadata": {
        "id": "3cgPomgrbFSw"
      },
      "execution_count": null,
      "outputs": []
    },
    {
      "cell_type": "code",
      "source": [
        "! pip install -q tensorflow-model-optimization"
      ],
      "metadata": {
        "id": "P-1LNqgf67qU"
      },
      "execution_count": null,
      "outputs": []
    },
    {
      "cell_type": "markdown",
      "source": [
        "I will collect the results in dict_summary."
      ],
      "metadata": {
        "id": "SBZpH1mBRTPJ"
      }
    },
    {
      "cell_type": "code",
      "source": [
        "dict_summary = {}"
      ],
      "metadata": {
        "id": "52KAWYAoFCCH"
      },
      "execution_count": null,
      "outputs": []
    },
    {
      "cell_type": "markdown",
      "source": [
        "Load data, build, compile and fit TensorFlow model\n",
        "\n",
        "I'm using the default learning rate: 0.001 If you want to change the learning rate, use this code: \n",
        "\n",
        "    tf.keras.optimizers.Adam(learning_rate=0.1)\n",
        "\n",
        "Ref: https://www.tensorflow.org/api_docs/python/tf/keras/optimizers/Adam"
      ],
      "metadata": {
        "id": "H9kqtWS6xNxK"
      }
    },
    {
      "cell_type": "code",
      "source": [
        "# Define the model architecture.\n",
        "model = keras.Sequential([\n",
        "      keras.layers.Dense(64, activation='relu', input_dim=train_data.shape[1]),\n",
        "      keras.layers.Dense(32, activation='relu'),\n",
        "      keras.layers.Dense(32, activation='relu'),\n",
        "      keras.layers.Dense(1, activation=\"sigmoid\")\n",
        "])\n",
        "\n",
        "# Train the occupancy data\n",
        "model.compile(optimizer='adam',\n",
        "              loss='binary_crossentropy',\n",
        "              metrics=['accuracy'])\n",
        "\n",
        "model.fit(train_data, train_labels, epochs=10, validation_split=0.1)\n",
        "\n",
        "_, baseline_model_accuracy = model.evaluate(\n",
        "    test_data, test_labels, verbose=0)\n",
        "\n",
        "print(baseline_model_accuracy)"
      ],
      "metadata": {
        "id": "knC_LtanbJdi",
        "outputId": "93a314ff-3b17-46ad-973a-d0780d8a3cb0",
        "colab": {
          "base_uri": "https://localhost:8080/"
        }
      },
      "execution_count": null,
      "outputs": [
        {
          "output_type": "stream",
          "name": "stdout",
          "text": [
            "Epoch 1/10\n",
            "63/63 [==============================] - 1s 7ms/step - loss: 0.3876 - accuracy: 0.9117 - val_loss: 0.1534 - val_accuracy: 0.9775\n",
            "Epoch 2/10\n",
            "63/63 [==============================] - 0s 2ms/step - loss: 0.1267 - accuracy: 0.9719 - val_loss: 0.0945 - val_accuracy: 0.9775\n",
            "Epoch 3/10\n",
            "63/63 [==============================] - 0s 3ms/step - loss: 0.1054 - accuracy: 0.9719 - val_loss: 0.0860 - val_accuracy: 0.9775\n",
            "Epoch 4/10\n",
            "63/63 [==============================] - 0s 3ms/step - loss: 0.0971 - accuracy: 0.9719 - val_loss: 0.0795 - val_accuracy: 0.9775\n",
            "Epoch 5/10\n",
            "63/63 [==============================] - 0s 3ms/step - loss: 0.0914 - accuracy: 0.9719 - val_loss: 0.0803 - val_accuracy: 0.9775\n",
            "Epoch 6/10\n",
            "63/63 [==============================] - 0s 3ms/step - loss: 0.0868 - accuracy: 0.9719 - val_loss: 0.0726 - val_accuracy: 0.9775\n",
            "Epoch 7/10\n",
            "63/63 [==============================] - 0s 3ms/step - loss: 0.0804 - accuracy: 0.9719 - val_loss: 0.0690 - val_accuracy: 0.9775\n",
            "Epoch 8/10\n",
            "63/63 [==============================] - 0s 3ms/step - loss: 0.0777 - accuracy: 0.9719 - val_loss: 0.0664 - val_accuracy: 0.9775\n",
            "Epoch 9/10\n",
            "63/63 [==============================] - 0s 4ms/step - loss: 0.0729 - accuracy: 0.9719 - val_loss: 0.0636 - val_accuracy: 0.9775\n",
            "Epoch 10/10\n",
            "63/63 [==============================] - 0s 3ms/step - loss: 0.0681 - accuracy: 0.9719 - val_loss: 0.0632 - val_accuracy: 0.9775\n",
            "0.9783393740653992\n"
          ]
        }
      ]
    },
    {
      "cell_type": "markdown",
      "source": [
        "## How to save model & calculate size?\n",
        "\n",
        "You can save the model by model.save() or tf.saved_model.save(model, saved_model_path). \n",
        "\n",
        "\n",
        "You can get the file size by: os.path.getsize  and it gives you bytes. If you want to get megabytes you need to divide it to 2^20 which gives you ~1M"
      ],
      "metadata": {
        "id": "AS3hKzYv2yXn"
      }
    },
    {
      "cell_type": "code",
      "source": [
        "# save model - first way\n",
        "model.save('model.h5')\n",
        "\n",
        "# save model - second way\n",
        "saved_model_path = 'saved_model/1'\n",
        "tf.saved_model.save(model, saved_model_path)\n",
        "\n",
        "# Get file size in bytes for a given model - first way\n",
        "TF_model_size = os.path.getsize('model.h5') /float(2**20)\n",
        "print('TF_model_size in MB', TF_model_size)\n",
        "\n",
        "dict_summary['TensorFlow Model'] = {}\n",
        "dict_summary['TensorFlow Model']['Accuracy'] = baseline_model_accuracy\n",
        "dict_summary['TensorFlow Model']['Size'] = TF_model_size"
      ],
      "metadata": {
        "colab": {
          "base_uri": "https://localhost:8080/"
        },
        "id": "874FjAyj25-w",
        "outputId": "2f72774a-f2ab-4fe0-e02b-1663953d1c26"
      },
      "execution_count": null,
      "outputs": [
        {
          "output_type": "stream",
          "name": "stdout",
          "text": [
            "INFO:tensorflow:Assets written to: saved_model/1/assets\n"
          ]
        },
        {
          "output_type": "stream",
          "name": "stderr",
          "text": [
            "INFO:tensorflow:Assets written to: saved_model/1/assets\n"
          ]
        },
        {
          "output_type": "stream",
          "name": "stdout",
          "text": [
            "TF_model_size in MB 0.0778350830078125\n"
          ]
        }
      ]
    },
    {
      "cell_type": "markdown",
      "source": [
        "# TensorFlow Lite Model Explanation\n",
        "\n"
      ],
      "metadata": {
        "id": "fqRFZ3cwzAoa"
      }
    },
    {
      "cell_type": "markdown",
      "source": [
        "## How can we convert model?\n",
        "There are 3 types of conversion:\n",
        "- from saved model \n",
        "- from keras model\n",
        "- from concrete functions"
      ],
      "metadata": {
        "id": "cEq5DB8nLKJY"
      }
    },
    {
      "cell_type": "markdown",
      "source": [
        "**from saved model:**"
      ],
      "metadata": {
        "id": "ZUGDDQFeSwRX"
      }
    },
    {
      "cell_type": "code",
      "source": [
        "converter_1 = tf.lite.TFLiteConverter.from_saved_model(saved_model_path)\n",
        "tflite_model_1 = converter_1.convert()"
      ],
      "metadata": {
        "colab": {
          "base_uri": "https://localhost:8080/"
        },
        "id": "Mu3IbyJyy-uP",
        "outputId": "b6e187aa-de54-49c0-b14b-079d12d65803"
      },
      "execution_count": null,
      "outputs": [
        {
          "output_type": "stream",
          "name": "stderr",
          "text": [
            "WARNING:absl:Buffer deduplication procedure will be skipped when flatbuffer library is not properly loaded\n"
          ]
        }
      ]
    },
    {
      "cell_type": "markdown",
      "source": [
        "**from keras model:**"
      ],
      "metadata": {
        "id": "VrzTf7TbSzSf"
      }
    },
    {
      "cell_type": "code",
      "source": [
        "converter_ = tf.lite.TFLiteConverter.from_keras_model(model)\n",
        "tflite_model_ = converter_.convert()"
      ],
      "metadata": {
        "colab": {
          "base_uri": "https://localhost:8080/"
        },
        "id": "KERFVOj-iLPI",
        "outputId": "3ae032a5-4b4b-4a37-9dc5-8ebf2093dbc2"
      },
      "execution_count": null,
      "outputs": [
        {
          "output_type": "stream",
          "name": "stdout",
          "text": [
            "INFO:tensorflow:Assets written to: /tmp/tmprdbtrpqj/assets\n"
          ]
        },
        {
          "output_type": "stream",
          "name": "stderr",
          "text": [
            "INFO:tensorflow:Assets written to: /tmp/tmprdbtrpqj/assets\n",
            "WARNING:absl:Buffer deduplication procedure will be skipped when flatbuffer library is not properly loaded\n"
          ]
        }
      ]
    },
    {
      "cell_type": "code",
      "source": [
        "loaded_model = tf.keras.models.load_model('model.h5')\n",
        "converter_2 = tf.lite.TFLiteConverter.from_keras_model(loaded_model)\n",
        "tflite_model_2 = converter_2.convert()"
      ],
      "metadata": {
        "colab": {
          "base_uri": "https://localhost:8080/"
        },
        "id": "cEmoZsWQgTXp",
        "outputId": "e406613e-4d17-4cc1-90d1-cc74df542bab"
      },
      "execution_count": null,
      "outputs": [
        {
          "output_type": "stream",
          "name": "stdout",
          "text": [
            "INFO:tensorflow:Assets written to: /tmp/tmps_w_0hvc/assets\n"
          ]
        },
        {
          "output_type": "stream",
          "name": "stderr",
          "text": [
            "INFO:tensorflow:Assets written to: /tmp/tmps_w_0hvc/assets\n",
            "WARNING:absl:Buffer deduplication procedure will be skipped when flatbuffer library is not properly loaded\n"
          ]
        }
      ]
    },
    {
      "cell_type": "markdown",
      "source": [
        "## How can we save tflite model?\n",
        "\n",
        "Define the path then, use write_bytes to save the tflite model."
      ],
      "metadata": {
        "id": "5mDNlGvVY64Q"
      }
    },
    {
      "cell_type": "code",
      "source": [
        "tflite_model_file = pathlib.Path(\"/tmp/saved_tflitemodel.tflite\")\n",
        "print(tflite_model_file)\n",
        "tflite_model_file.write_bytes(tflite_model_1)"
      ],
      "metadata": {
        "colab": {
          "base_uri": "https://localhost:8080/"
        },
        "id": "fShmV4AVZBNl",
        "outputId": "0fa706cd-6444-40ca-ed42-973ab0035259"
      },
      "execution_count": null,
      "outputs": [
        {
          "output_type": "stream",
          "name": "stdout",
          "text": [
            "/tmp/saved_tflitemodel.tflite\n"
          ]
        },
        {
          "output_type": "execute_result",
          "data": {
            "text/plain": [
              "16428"
            ]
          },
          "metadata": {},
          "execution_count": 95
        }
      ]
    },
    {
      "cell_type": "markdown",
      "source": [
        "## How can we evaluate the results and make predictions?\n",
        "\n",
        "The evaluation is very simple in terms of tensorflow models. Simply, the evaluation is completed with model.evaluate() and you can use model.predict() for prediction. However, making evaluation for tensorflowlite model is a bit complicated. "
      ],
      "metadata": {
        "id": "KN4ol1LehqHC"
      }
    },
    {
      "cell_type": "markdown",
      "source": [
        "The full code for predicting a sample test data is below:"
      ],
      "metadata": {
        "id": "KOFgMnUAXjYm"
      }
    },
    {
      "cell_type": "code",
      "source": [
        "# Convert Model\n",
        "converter_1 = tf.lite.TFLiteConverter.from_saved_model(saved_model_path)\n",
        "tflite_model_1 = converter_1.convert()\n",
        "\n",
        "\n",
        "# Save TFLite Model\n",
        "tflite_model_file = pathlib.Path(\"/tmp/saved_tflitemodel.tflite\")\n",
        "print(tflite_model_file)\n",
        "tflite_model_file.write_bytes(tflite_model_1)\n",
        "\n",
        "# Load TFLite Model and Allocate tensors\n",
        "interpreter = tf.lite.Interpreter(model_content=tflite_model_1)\n",
        "interpreter.allocate_tensors()\n",
        "\n",
        "#Get input and output tensors\n",
        "input_details = interpreter.get_input_details()\n",
        "output_details = interpreter.get_output_details()\n",
        "\n",
        "# Take a test_data to predict\n",
        "test_data_0 = test_data[0]\n",
        "test_label_0 = test_labels[0]\n",
        "\n",
        "# Point the data to be used for testing and run the interpreter\n",
        "trial_test_data = np.expand_dims(test_data_0, axis=0).astype(input_details[0][\"dtype\"])\n",
        "interpreter.set_tensor(input_details[0]['index'], trial_test_data)\n",
        "\n",
        "# Run inference.\n",
        "interpreter.invoke()\n",
        "\n",
        "# Get output\n",
        "output = interpreter.get_tensor(output_details[0]['index'])\n",
        "print(output)\n",
        "\n",
        "predicted_label = 0 if output <0.5 else 1\n",
        "print(predicted_label)\n",
        "\n",
        "print(test_label_0)"
      ],
      "metadata": {
        "colab": {
          "base_uri": "https://localhost:8080/"
        },
        "id": "ak0YCyGEXY5S",
        "outputId": "8e487f0d-6127-4d34-8dce-ed6f41fe2b68"
      },
      "execution_count": null,
      "outputs": [
        {
          "output_type": "stream",
          "name": "stderr",
          "text": [
            "WARNING:absl:Buffer deduplication procedure will be skipped when flatbuffer library is not properly loaded\n"
          ]
        },
        {
          "output_type": "stream",
          "name": "stdout",
          "text": [
            "/tmp/saved_tflitemodel.tflite\n",
            "[[0.0002883]]\n",
            "0\n",
            "[0]\n"
          ]
        }
      ]
    },
    {
      "cell_type": "markdown",
      "source": [
        "Let's look at the details. \n",
        "\n",
        "- At first, take a sample data:"
      ],
      "metadata": {
        "id": "dao-ARNtXp8C"
      }
    },
    {
      "cell_type": "code",
      "source": [
        "test_data_0 = test_data[0]\n",
        "test_label_0 = test_labels[0]\n",
        "\n",
        "print('dtype {}, shape{}'.format(test_data_0.dtype, test_data_0.shape))"
      ],
      "metadata": {
        "colab": {
          "base_uri": "https://localhost:8080/"
        },
        "id": "vaDcf60QXxIW",
        "outputId": "c89ce9fe-fd8a-41a1-f8b4-31c55227fde6"
      },
      "execution_count": null,
      "outputs": [
        {
          "output_type": "stream",
          "name": "stdout",
          "text": [
            "dtype float64, shape(5,)\n"
          ]
        }
      ]
    },
    {
      "cell_type": "markdown",
      "source": [
        "- Instantiate the interpreter"
      ],
      "metadata": {
        "id": "rE7WUvAEVQSy"
      }
    },
    {
      "cell_type": "code",
      "source": [
        "# Load TFLite Model and Allocate tensors\n",
        "interpreter = tf.lite.Interpreter(model_content=tflite_model_1)\n",
        "\n",
        "# Load TFLite Model with path\n",
        "tflite_model_file_dir = '/tmp/saved_tflitemodel.tflite'                \n",
        "interpreter = tf.lite.Interpreter(model_path=tflite_model_file_dir)\n",
        "\n",
        "# Allocate tensors\n",
        "interpreter.allocate_tensors()\n",
        "\n",
        "#Get input and output tensors\n",
        "input_details = interpreter.get_input_details()\n",
        "output_details = interpreter.get_output_details()"
      ],
      "metadata": {
        "id": "1PbUA9rctI90"
      },
      "execution_count": null,
      "outputs": []
    },
    {
      "cell_type": "markdown",
      "source": [
        "- What information does input_details store?"
      ],
      "metadata": {
        "id": "5THCZ0rbVpMF"
      }
    },
    {
      "cell_type": "code",
      "source": [
        "input_details"
      ],
      "metadata": {
        "colab": {
          "base_uri": "https://localhost:8080/"
        },
        "id": "0GjbCo1atToT",
        "outputId": "f230b8b5-ea0e-4b29-de86-6159edb86a8a"
      },
      "execution_count": null,
      "outputs": [
        {
          "output_type": "execute_result",
          "data": {
            "text/plain": [
              "[{'dtype': numpy.float32,\n",
              "  'index': 0,\n",
              "  'name': 'serving_default_dense_8_input:0',\n",
              "  'quantization': (0.0, 0),\n",
              "  'quantization_parameters': {'quantized_dimension': 0,\n",
              "   'scales': array([], dtype=float32),\n",
              "   'zero_points': array([], dtype=int32)},\n",
              "  'shape': array([1, 5], dtype=int32),\n",
              "  'shape_signature': array([-1,  5], dtype=int32),\n",
              "  'sparsity_parameters': {}}]"
            ]
          },
          "metadata": {},
          "execution_count": 99
        }
      ]
    },
    {
      "cell_type": "markdown",
      "source": [
        "- The size of the data that interpreter expects: [1,5]\n",
        "\n",
        "Now we need to expand the dimension of test_data to meet the expected shape:"
      ],
      "metadata": {
        "id": "nsJE9VplV2x_"
      }
    },
    {
      "cell_type": "code",
      "source": [
        "trial_test_data = np.expand_dims(test_data_0, axis=0).astype(input_details[0][\"dtype\"])\n",
        "print('dtype {}, shape{}'.format(trial_test_data.dtype, trial_test_data.shape))"
      ],
      "metadata": {
        "colab": {
          "base_uri": "https://localhost:8080/"
        },
        "id": "OmNscOyCsa38",
        "outputId": "5a0f1a40-9c79-4a78-9ae1-7677a14358b3"
      },
      "execution_count": null,
      "outputs": [
        {
          "output_type": "stream",
          "name": "stdout",
          "text": [
            "dtype float32, shape(1, 5)\n"
          ]
        }
      ]
    },
    {
      "cell_type": "markdown",
      "source": [
        "- What if I don't check the dtype and shape?"
      ],
      "metadata": {
        "id": "au3YdVdqWeki"
      }
    },
    {
      "cell_type": "code",
      "source": [
        "# interpreter.set_tensor(input_details[0]['index'], test_data_0)\n",
        "\n",
        "\"\"\"\n",
        "ValueError: Cannot set tensor: Got value of type FLOAT64 but expected type FLOAT32 for input 0, name: serving_default_dense_18_input:0 \n",
        "\"\"\""
      ],
      "metadata": {
        "colab": {
          "base_uri": "https://localhost:8080/",
          "height": 36
        },
        "id": "sO9HV4FaXGLy",
        "outputId": "414a4ae8-5cda-49c1-9108-b2b80b503452"
      },
      "execution_count": null,
      "outputs": [
        {
          "output_type": "execute_result",
          "data": {
            "text/plain": [
              "'\\nValueError: Cannot set tensor: Got value of type FLOAT64 but expected type FLOAT32 for input 0, name: serving_default_dense_18_input:0 \\n'"
            ],
            "application/vnd.google.colaboratory.intrinsic+json": {
              "type": "string"
            }
          },
          "metadata": {},
          "execution_count": 101
        }
      ]
    },
    {
      "cell_type": "code",
      "source": [
        "# interpreter.set_tensor(input_details[0]['index'], test_data_0.astype(input_details[0][\"dtype\"]))\n",
        "\n",
        "\"\"\"\n",
        "ValueError: Cannot set tensor: Dimension mismatch. Got 1 but expected 2 for input 0.\n",
        "\"\"\""
      ],
      "metadata": {
        "colab": {
          "base_uri": "https://localhost:8080/",
          "height": 36
        },
        "id": "_Iv7lN8KWkt6",
        "outputId": "9b129c4b-fc8f-4a0a-840a-a04e4a5d54d4"
      },
      "execution_count": null,
      "outputs": [
        {
          "output_type": "execute_result",
          "data": {
            "text/plain": [
              "'\\nValueError: Cannot set tensor: Dimension mismatch. Got 1 but expected 2 for input 0.\\n'"
            ],
            "application/vnd.google.colaboratory.intrinsic+json": {
              "type": "string"
            }
          },
          "metadata": {},
          "execution_count": 102
        }
      ]
    },
    {
      "cell_type": "markdown",
      "source": [
        "- Next, we set the tensor for the trial test data. And then invoke the interpreter, it is like model.predict()."
      ],
      "metadata": {
        "id": "9w9llWl6YlGq"
      }
    },
    {
      "cell_type": "code",
      "source": [
        "# Point the data to be used for testing and run the interpreter\n",
        "interpreter.set_tensor(input_details[0]['index'], trial_test_data)\n",
        "\n",
        "# Run inference.\n",
        "interpreter.invoke()"
      ],
      "metadata": {
        "id": "Z9fNxEVRutYB"
      },
      "execution_count": null,
      "outputs": []
    },
    {
      "cell_type": "code",
      "source": [
        "# Get output\n",
        "output = interpreter.get_tensor(output_details[0]['index'])\n",
        "print(output)\n",
        "\n",
        "predicted_label = 0 if output <0.5 else 1\n",
        "print(predicted_label)\n",
        "\n",
        "print(test_label_0)"
      ],
      "metadata": {
        "colab": {
          "base_uri": "https://localhost:8080/"
        },
        "id": "GHIbapBvqy8K",
        "outputId": "0467fb99-ca65-4d4f-ed36-68a91f2e9037"
      },
      "execution_count": null,
      "outputs": [
        {
          "output_type": "stream",
          "name": "stdout",
          "text": [
            "[[0.0002883]]\n",
            "0\n",
            "[0]\n"
          ]
        }
      ]
    },
    {
      "cell_type": "markdown",
      "source": [
        "## Put them all together"
      ],
      "metadata": {
        "id": "uIVDlcGhZlw1"
      }
    },
    {
      "cell_type": "markdown",
      "source": [
        "Make prediction for all test data and calculate accuracy: "
      ],
      "metadata": {
        "id": "meCS3Fs-WeVb"
      }
    },
    {
      "cell_type": "code",
      "source": [
        "# Create Float TFLite model.\n",
        "float_converter = tf.lite.TFLiteConverter.from_keras_model(model)\n",
        "float_tflite_model = float_converter.convert()\n",
        "\n",
        "# Write tflite model to path\n",
        "tflite_models_dir = pathlib.Path(\"/tmp/\")\n",
        "tflite_model_file = tflite_models_dir/'model1.tflite'\n",
        "tflite_model_file.write_bytes(float_tflite_model)\n",
        "\n",
        "#Evaluate results with model\n",
        "interpreter_1 = tf.lite.Interpreter(model_content=float_tflite_model)\n",
        "\n",
        "input_details = interpreter_1.get_input_details()\n",
        "output_details = interpreter_1.get_output_details()\n",
        "\n",
        "interpreter_1.resize_tensor_input(input_details[0]['index'], test_data.shape)\n",
        "interpreter_1.resize_tensor_input(output_details[0]['index'], test_labels.shape)\n",
        "interpreter_1.allocate_tensors()\n",
        "\n",
        "input_details = interpreter.get_input_details()\n",
        "output_details = interpreter.get_output_details()\n",
        "\n",
        "# test_data_np = np.expand_dims(test_data, axis=0).astype(input_details[0][\"dtype\"])\n",
        "test_data_np = np.array(test_data, dtype=np.float32)\n",
        "print(test_data_np.shape)\n",
        "print(input_details[0]['shape'])\n",
        "interpreter_1.set_tensor(input_details[0]['index'], test_data_np)\n",
        "\n",
        "# Run inference.\n",
        "interpreter_1.invoke()\n",
        "\n",
        "# Post-processing: remove batch dimension and find the digit with highest\n",
        "# probability.\n",
        "output = interpreter_1.get_tensor(output_details[0]['index'])\n",
        "predicted_label =np.where(output<0.5, 0, 1)   # np.array(0 if output <0.5 else 1)\n",
        "print(predicted_label.shape, test_labels.shape)\n",
        "\n",
        "print('\\n')\n",
        "# Compare prediction results with ground truth labels to calculate accuracy.\n",
        "acc = (np.array(predicted_label) == test_labels).mean()\n",
        "print('Accuracy:', acc)\n",
        "\n",
        "# Measure sizes of models.\n",
        "tflite_model_file_dir = '/tmp/model1.tflite'    \n",
        "no_quant_size = os.path.getsize(tflite_model_file_dir) / float(2**20)\n",
        "print(\"model size in Mb:\", no_quant_size)"
      ],
      "metadata": {
        "colab": {
          "base_uri": "https://localhost:8080/"
        },
        "id": "amQzyiUyiCHb",
        "outputId": "9aa78eac-dea0-4d4f-f05b-4078da12fa22"
      },
      "execution_count": null,
      "outputs": [
        {
          "output_type": "stream",
          "name": "stdout",
          "text": [
            "INFO:tensorflow:Assets written to: /tmp/tmpx0rh5d38/assets\n"
          ]
        },
        {
          "output_type": "stream",
          "name": "stderr",
          "text": [
            "INFO:tensorflow:Assets written to: /tmp/tmpx0rh5d38/assets\n",
            "WARNING:absl:Buffer deduplication procedure will be skipped when flatbuffer library is not properly loaded\n"
          ]
        },
        {
          "output_type": "stream",
          "name": "stdout",
          "text": [
            "(554, 5)\n",
            "[1 5]\n",
            "(554, 1) (554, 1)\n",
            "\n",
            "\n",
            "Accuracy: 0.9783393501805054\n",
            "model size in Mb: 0.015666961669921875\n"
          ]
        }
      ]
    },
    {
      "cell_type": "markdown",
      "source": [
        "Make prediction for all test data and calculate accuracy (second way): "
      ],
      "metadata": {
        "id": "z_vbaKbQWn3I"
      }
    },
    {
      "cell_type": "code",
      "source": [
        "# Create Float TFLite model.\n",
        "float_converter = tf.lite.TFLiteConverter.from_keras_model(model)\n",
        "float_tflite_model = float_converter.convert()\n",
        "\n",
        "# Write tflite model to path\n",
        "tflite_models_dir = pathlib.Path(\"/tmp/\")\n",
        "tflite_model_file = tflite_models_dir/'model1.tflite'\n",
        "tflite_model_file.write_bytes(float_tflite_model)\n",
        "\n",
        "#Evaluate results with model\n",
        "interpreter_1 = tf.lite.Interpreter(model_content=float_tflite_model)\n",
        "\n",
        "input_index = interpreter.get_input_details()[0]\n",
        "output_index = interpreter.get_output_details()[0]\n",
        "\n",
        "# Run predictions on every data in the \"test\" dataset.\n",
        "prediction_labels = []\n",
        "outputs = []\n",
        "for i, test_data_i in enumerate(test_data):\n",
        "  # Pre-processing: convert to float32 to match with the model's input data format.\n",
        "  test_data_i = np.expand_dims(test_data_i, axis=0).astype(input_index[\"dtype\"])\n",
        "  interpreter.set_tensor(input_index['index'], test_data_i)\n",
        "\n",
        "  # Run inference.\n",
        "  interpreter.invoke()\n",
        "\n",
        "  # Post-processing: remove batch dimension and find the digit with highest\n",
        "  # probability.\n",
        "  output = interpreter.get_tensor(output_index['index'])\n",
        "  outputs.append(output)\n",
        "  predicted_label = 0 if output <0.5 else 1\n",
        "  prediction_labels.append(predicted_label)\n",
        "\n",
        "print('\\n')\n",
        "# Compare prediction results with ground truth labels to calculate accuracy.\n",
        "accuracy = (np.array(prediction_labels) == test_labels.reshape(1,-1)).mean()\n",
        "print(accuracy)"
      ],
      "metadata": {
        "colab": {
          "base_uri": "https://localhost:8080/"
        },
        "id": "ugrZcjfkjxPj",
        "outputId": "4e012404-52e7-4ec6-c130-d6980fda44c3"
      },
      "execution_count": null,
      "outputs": [
        {
          "output_type": "stream",
          "name": "stdout",
          "text": [
            "INFO:tensorflow:Assets written to: /tmp/tmp2g3_r938/assets\n"
          ]
        },
        {
          "output_type": "stream",
          "name": "stderr",
          "text": [
            "INFO:tensorflow:Assets written to: /tmp/tmp2g3_r938/assets\n",
            "WARNING:absl:Buffer deduplication procedure will be skipped when flatbuffer library is not properly loaded\n"
          ]
        },
        {
          "output_type": "stream",
          "name": "stdout",
          "text": [
            "\n",
            "\n",
            "0.9783393501805054\n"
          ]
        }
      ]
    },
    {
      "cell_type": "markdown",
      "source": [
        "## Define Evaluate functions"
      ],
      "metadata": {
        "id": "6T5K67wTiUmd"
      }
    },
    {
      "cell_type": "code",
      "source": [
        "def evaluate_model(interpreter):\n",
        "  input_details = interpreter_1.get_input_details()\n",
        "  output_details = interpreter_1.get_output_details()\n",
        "\n",
        "  interpreter_1.resize_tensor_input(input_details[0]['index'], test_data.shape)\n",
        "  interpreter_1.resize_tensor_input(output_details[0]['index'], test_labels.shape)\n",
        "  interpreter_1.allocate_tensors()\n",
        "\n",
        "  input_details = interpreter.get_input_details()\n",
        "  output_details = interpreter.get_output_details()\n",
        "\n",
        "  # test_data_np = np.expand_dims(test_data, axis=0).astype(input_details[0][\"dtype\"])\n",
        "  test_data_np = np.array(test_data, dtype=np.float32)\n",
        "  print(test_data_np.shape)\n",
        "  print(input_details[0]['shape'])\n",
        "  interpreter_1.set_tensor(input_details[0]['index'], test_data_np)\n",
        "\n",
        "  # Run inference.\n",
        "  interpreter_1.invoke()\n",
        "\n",
        "  # Post-processing: remove batch dimension and find the digit with highest\n",
        "  # probability.\n",
        "  output = interpreter_1.get_tensor(output_details[0]['index'])\n",
        "  predicted_label =np.where(output<0.5, 0, 1)   # np.array(0 if output <0.5 else 1)\n",
        "  print(predicted_label.shape, test_labels.shape)\n",
        "\n",
        "  print('\\n')\n",
        "  # Compare prediction results with ground truth labels to calculate accuracy.\n",
        "  accuracy = (np.array(predicted_label) == test_labels).mean()\n",
        "  return accuracy"
      ],
      "metadata": {
        "id": "mTAbNZw5jbT8"
      },
      "execution_count": null,
      "outputs": []
    },
    {
      "cell_type": "code",
      "source": [
        "def evaluate_model_2(interpreter):\n",
        "  input_index = interpreter.get_input_details()[0]\n",
        "  output_index = interpreter.get_output_details()[0]\n",
        "\n",
        "  # Run predictions on every data in the \"test\" dataset.\n",
        "  prediction_labels = []\n",
        "  outputs = []\n",
        "  for i, test_data_i in enumerate(test_data):\n",
        "    # Pre-processing: convert to float32 to match with the model's input data format.\n",
        "    test_data_i = np.expand_dims(test_data_i, axis=0).astype(input_index[\"dtype\"])\n",
        "    interpreter.set_tensor(input_index['index'], test_data_i)\n",
        "\n",
        "    # Run inference.\n",
        "    interpreter.invoke()\n",
        "\n",
        "    # Post-processing: remove batch dimension and find the digit with highest\n",
        "    # probability.\n",
        "    output = interpreter.get_tensor(output_index['index'])\n",
        "    outputs.append(output)\n",
        "    predicted_label = 0 if output <0.5 else 1\n",
        "    prediction_labels.append(predicted_label)\n",
        "\n",
        "  print('\\n')\n",
        "  # Compare prediction results with ground truth labels to calculate accuracy.\n",
        "  accuracy = (np.array(prediction_labels) == test_labels.reshape(1,-1)).mean()\n",
        "  return accuracy"
      ],
      "metadata": {
        "id": "AuAt99W8KfJS"
      },
      "execution_count": null,
      "outputs": []
    },
    {
      "cell_type": "markdown",
      "source": [
        "# Converted model with no quantization\n",
        "\n",
        "It's now a TensorFlow Lite model, but it's still using 32-bit float values for all parameter data. [1]"
      ],
      "metadata": {
        "id": "eBbNKpQ7xaxl"
      }
    },
    {
      "cell_type": "code",
      "source": [
        "# Create Float TFLite model.\n",
        "float_converter = tf.lite.TFLiteConverter.from_keras_model(model)\n",
        "float_tflite_model = float_converter.convert()\n",
        "\n",
        "# Write tflite model to path\n",
        "tflite_models_dir = pathlib.Path(\"/tmp/\")\n",
        "tflite_model_file = tflite_models_dir/'model1.tflite'\n",
        "tflite_model_file.write_bytes(float_tflite_model)\n",
        "\n",
        "#Evaluate results with model\n",
        "interpreter_1 = tf.lite.Interpreter(model_content=float_tflite_model)\n",
        "interpreter_1.allocate_tensors()\n",
        "test_accuracy_1 = evaluate_model_2(interpreter_1)\n",
        "\n",
        "#Evaluate results with model path\n",
        "tflite_model_file_dir = '/tmp/model1.tflite'                \n",
        "interpreter_1 = tf.lite.Interpreter(model_path=tflite_model_file_dir)\n",
        "interpreter_1.allocate_tensors()\n",
        "test_accuracy_trial = evaluate_model_2(interpreter_1)\n",
        "print('Accuracy:', test_accuracy_1, test_accuracy_trial)\n",
        "\n",
        "# Measure sizes of models.\n",
        "no_quant_size = os.path.getsize(tflite_model_file_dir) / float(2**20)\n",
        "print(\"model size in Mb:\", no_quant_size)\n",
        "\n",
        "\n",
        "dict_summary['TFLite_no_quantization'] = {}\n",
        "dict_summary['TFLite_no_quantization']['Accuracy'] = test_accuracy_1\n",
        "dict_summary['TFLite_no_quantization']['Size'] = no_quant_size"
      ],
      "metadata": {
        "id": "mexz7kMWbUFr",
        "outputId": "63926db1-b57d-472d-9c92-f11879def7bf",
        "colab": {
          "base_uri": "https://localhost:8080/"
        }
      },
      "execution_count": null,
      "outputs": [
        {
          "output_type": "stream",
          "name": "stdout",
          "text": [
            "INFO:tensorflow:Assets written to: /tmp/tmp_gd70hx9/assets\n"
          ]
        },
        {
          "output_type": "stream",
          "name": "stderr",
          "text": [
            "INFO:tensorflow:Assets written to: /tmp/tmp_gd70hx9/assets\n",
            "WARNING:absl:Buffer deduplication procedure will be skipped when flatbuffer library is not properly loaded\n"
          ]
        },
        {
          "output_type": "stream",
          "name": "stdout",
          "text": [
            "\n",
            "\n",
            "\n",
            "\n",
            "Accuracy: 0.9783393501805054 0.9783393501805054\n",
            "model size in Mb: 0.015666961669921875\n"
          ]
        }
      ]
    },
    {
      "cell_type": "markdown",
      "source": [
        "# Convert using dynamic range quantization\n",
        "\n",
        "Now let's enable the default optimizations flag to quantize all fixed parameters (such as weights).\n",
        "\n",
        "The model is now a bit smaller with quantized weights, but other variable data is still in float format. [1]"
      ],
      "metadata": {
        "id": "9Z5ZL7D6x0nB"
      }
    },
    {
      "cell_type": "code",
      "source": [
        "# Create TFLite model\n",
        "converter_dynamic = tf.lite.TFLiteConverter.from_keras_model(model) \n",
        "converter_dynamic.optimizations = [tf.lite.Optimize.DEFAULT]\n",
        "tflite_model_dynamic = converter_dynamic.convert()\n",
        "\n",
        "# Write tflite model to path\n",
        "tflite_models_dir = pathlib.Path(\"/tmp/\")\n",
        "tflite_model_file = tflite_models_dir/'model2.tflite'\n",
        "tflite_model_file.write_bytes(tflite_model_dynamic)\n",
        "\n",
        "#Evaluate results with model\n",
        "interpreter_2 = tf.lite.Interpreter(model_content=tflite_model_dynamic)\n",
        "interpreter_2.allocate_tensors()\n",
        "test_accuracy_2 = evaluate_model_2(interpreter_2)\n",
        "print('Optimize tflite acc:', test_accuracy_2)\n",
        "\n",
        "# Measure sizes of models.\n",
        "tflite_model_file_dir = '/tmp/model2.tflite'   \n",
        "dynamic_range_quant_size = os.path.getsize(tflite_model_file_dir) / float(2**20)\n",
        "print(\"model in Mb:\", dynamic_range_quant_size)\n",
        "\n",
        "\n",
        "dict_summary['Dynamic_range_quantization'] = {}\n",
        "dict_summary['Dynamic_range_quantization']['Accuracy'] = test_accuracy_2\n",
        "dict_summary['Dynamic_range_quantization']['Size'] = dynamic_range_quant_size"
      ],
      "metadata": {
        "id": "ejUlyo0OxDkO",
        "outputId": "75c777b4-e2f9-4f8d-e87d-e867ced32c27",
        "colab": {
          "base_uri": "https://localhost:8080/"
        }
      },
      "execution_count": null,
      "outputs": [
        {
          "output_type": "stream",
          "name": "stdout",
          "text": [
            "INFO:tensorflow:Assets written to: /tmp/tmpw4u_2ves/assets\n"
          ]
        },
        {
          "output_type": "stream",
          "name": "stderr",
          "text": [
            "INFO:tensorflow:Assets written to: /tmp/tmpw4u_2ves/assets\n",
            "WARNING:absl:Buffer deduplication procedure will be skipped when flatbuffer library is not properly loaded\n"
          ]
        },
        {
          "output_type": "stream",
          "name": "stdout",
          "text": [
            "\n",
            "\n",
            "Optimize tflite acc: 0.9783393501805054\n",
            "model in Mb: 0.0071258544921875\n"
          ]
        }
      ]
    },
    {
      "cell_type": "markdown",
      "source": [
        "# Convert using float fallback quantization\n",
        "\n",
        "\"To quantize the variable data (such as model input/output and intermediates between layers), you need to provide a **RepresentativeDataset**. \n",
        "\n",
        "This is a generator function that provides a set of input data that's large enough to represent typical values. It allows the converter to estimate a dynamic range for all the variable data. (The dataset does not need to be unique compared to the training or evaluation dataset.) \n",
        "\n",
        "To support multiple inputs, each representative data point is a list and elements in the list are fed to the model according to their indices.\" [1]\n",
        "\n",
        "Ref: https://stackoverflow.com/questions/59855961/converting-keras-model-with-tfliteconverter-to-quantized-tflite-version-results"
      ],
      "metadata": {
        "id": "_cV6z6nVyPMF"
      }
    },
    {
      "cell_type": "code",
      "source": [
        "def representative_data_gen():\n",
        "  for i in range(100):\n",
        "    yield [test_data[i].astype(np.float32)]\n",
        "\n",
        "# Convert model\n",
        "converter_rep = tf.lite.TFLiteConverter.from_keras_model(model)\n",
        "converter_rep.optimizations = [tf.lite.Optimize.DEFAULT]\n",
        "converter_rep.representative_dataset = representative_data_gen\n",
        "tflite_model_quant_rep = converter_rep.convert()\n",
        "\n",
        "# Write tflite model to path\n",
        "tflite_models_dir = pathlib.Path(\"/tmp/\")\n",
        "tflite_model_file = tflite_models_dir/'model3.tflite' \n",
        "tflite_model_file.write_bytes(tflite_model_quant_rep)\n",
        "\n",
        "#Evaluate results with model\n",
        "interpreter_3 = tf.lite.Interpreter(model_content=tflite_model_quant_rep)\n",
        "interpreter_3.allocate_tensors()\n",
        "test_accuracy_3 = evaluate_model_2(interpreter_3)\n",
        "print('Optimize tflite acc:', test_accuracy_3)\n",
        "\n",
        "\n",
        "# Measure sizes of models.\n",
        "tflite_models_dir = tflite_models_dir/'model3.tflite'\n",
        "float_fallback_quant_size = os.path.getsize(tflite_models_dir) / float(2**20)\n",
        "print(\"model in Mb:\", float_fallback_quant_size)\n",
        "\n",
        "\n",
        "dict_summary['Representative_Dataset_Float_Fallback'] = {}\n",
        "dict_summary['Representative_Dataset_Float_Fallback']['Accuracy'] = test_accuracy_3\n",
        "dict_summary['Representative_Dataset_Float_Fallback']['Size'] = float_fallback_quant_size"
      ],
      "metadata": {
        "id": "WKEdTObNyKb8",
        "outputId": "e6ef1833-5161-44ba-9ff1-a195b1a2c49a",
        "colab": {
          "base_uri": "https://localhost:8080/"
        }
      },
      "execution_count": null,
      "outputs": [
        {
          "output_type": "stream",
          "name": "stdout",
          "text": [
            "INFO:tensorflow:Assets written to: /tmp/tmpbilggnha/assets\n"
          ]
        },
        {
          "output_type": "stream",
          "name": "stderr",
          "text": [
            "INFO:tensorflow:Assets written to: /tmp/tmpbilggnha/assets\n",
            "/usr/local/lib/python3.7/dist-packages/tensorflow/lite/python/convert.py:746: UserWarning: Statistics for quantized inputs were expected, but not specified; continuing anyway.\n",
            "  warnings.warn(\"Statistics for quantized inputs were expected, but not \"\n",
            "WARNING:absl:Buffer deduplication procedure will be skipped when flatbuffer library is not properly loaded\n"
          ]
        },
        {
          "output_type": "stream",
          "name": "stdout",
          "text": [
            "\n",
            "\n",
            "Optimize tflite acc: 0.9783393501805054\n",
            "model in Mb: 0.00665283203125\n"
          ]
        }
      ]
    },
    {
      "cell_type": "markdown",
      "source": [
        "# Convert using integer-only quantization\n",
        "\n",
        "To quantize the input and output tensors, and make the converter throw an error if it encounters an operation it cannot quantize, convert the model again with some additional parameters: [1]\n",
        "\n",
        "**The only difference from the previous cell is:**\n",
        "\n",
        "    converter_rep_.target_spec.supported_ops = [tf.lite.OpsSet.TFLITE_BUILTINS_INT8]\n",
        "    converter_rep_2.inference_input_type = tf.uint8\n",
        "    converter_rep_2.inference_output_type = tf.uint8"
      ],
      "metadata": {
        "id": "ItwizHZRCqZj"
      }
    },
    {
      "cell_type": "code",
      "source": [
        "def representative_data_gen():\n",
        "  for i in range(100):\n",
        "    yield [test_data[i].astype(np.float32)]\n",
        "\n",
        "converter_rep_ = tf.lite.TFLiteConverter.from_keras_model(model)\n",
        "converter_rep_.optimizations = [tf.lite.Optimize.DEFAULT]\n",
        "converter_rep_.representative_dataset = representative_data_gen\n",
        "# Ensure that if any ops can't be quantized, the converter throws an error\n",
        "# Restricting supported target op specification to INT8\n",
        "converter_rep_.target_spec.supported_ops = [tf.lite.OpsSet.TFLITE_BUILTINS_INT8]\n",
        "# Set the input and output tensors to uint8 (APIs added in r2.3)\n",
        "converter_rep_.inference_input_type = tf.uint8\n",
        "converter_rep_.inference_output_type = tf.uint8\n",
        "\n",
        "tflite_model_quant_ = converter_rep_.convert()\n",
        "\n",
        "\n",
        "# Write tflite model to path\n",
        "tflite_models_dir = pathlib.Path(\"/tmp/\")\n",
        "tflite_model_file = tflite_models_dir/'model4.tflite' \n",
        "tflite_model_file.write_bytes(tflite_model_quant_)\n",
        "\n",
        "#Evaluate results with model\n",
        "interpreter = tf.lite.Interpreter(model_content=tflite_model_quant_)\n",
        "interpreter.allocate_tensors()\n",
        "test_accuracy_4 = evaluate_model_2(interpreter)\n",
        "print('Optimize tflite acc:', test_accuracy_4)\n",
        "\n",
        "# Measure sizes of models.\n",
        "tflite_models_dir = tflite_models_dir/'model4.tflite' \n",
        "integer_quant_size = os.path.getsize(tflite_models_dir) / float(2**20)\n",
        "print(\"model in Mb:\", integer_quant_size)\n",
        "\n",
        "\n",
        "dict_summary['Representative_Dataset_Int_Only'] = {}\n",
        "dict_summary['Representative_Dataset_Int_Only']['Accuracy'] = test_accuracy_4\n",
        "dict_summary['Representative_Dataset_Int_Only']['Size'] = integer_quant_size"
      ],
      "metadata": {
        "colab": {
          "base_uri": "https://localhost:8080/"
        },
        "id": "q3bp8ntBks5X",
        "outputId": "3c1abb1d-1e78-4f60-c7eb-366ae40d8d83"
      },
      "execution_count": null,
      "outputs": [
        {
          "output_type": "stream",
          "name": "stdout",
          "text": [
            "INFO:tensorflow:Assets written to: /tmp/tmp7x4kigzz/assets\n"
          ]
        },
        {
          "output_type": "stream",
          "name": "stderr",
          "text": [
            "INFO:tensorflow:Assets written to: /tmp/tmp7x4kigzz/assets\n",
            "/usr/local/lib/python3.7/dist-packages/tensorflow/lite/python/convert.py:746: UserWarning: Statistics for quantized inputs were expected, but not specified; continuing anyway.\n",
            "  warnings.warn(\"Statistics for quantized inputs were expected, but not \"\n",
            "WARNING:absl:Buffer deduplication procedure will be skipped when flatbuffer library is not properly loaded\n"
          ]
        },
        {
          "output_type": "stream",
          "name": "stdout",
          "text": [
            "\n",
            "\n",
            "Optimize tflite acc: 0.33393501805054154\n",
            "model in Mb: 0.0066680908203125\n"
          ]
        }
      ]
    },
    {
      "cell_type": "markdown",
      "source": [
        "# Create Quantization Aware Model\n",
        "\n",
        "You will apply quantization aware training to the whole model and see this in the model summary. All layers are now prefixed by \"quant\".\n",
        "\n",
        "Note that the resulting model is quantization aware but not quantized (e.g. the weights are float32 instead of int8). The sections after show how to create a quantized model from the quantization aware one.\n",
        "\n",
        "In the [comprehensive guide](https://www.tensorflow.org/model_optimization/guide/quantization/training_comprehensive_guide.md), you can see how to quantize some layers for model accuracy improvements. [2]"
      ],
      "metadata": {
        "id": "dkdnrEXsysRR"
      }
    },
    {
      "cell_type": "code",
      "source": [
        "import tensorflow_model_optimization as tfmot\n",
        "\n",
        "quantize_model = tfmot.quantization.keras.quantize_model\n",
        "\n",
        "# q_aware stands for for quantization aware.\n",
        "q_aware_model = quantize_model(model)\n",
        "\n",
        "# `quantize_model` requires a recompile.\n",
        "q_aware_model.compile(optimizer='adam',\n",
        "              loss='binary_crossentropy',\n",
        "              metrics=['accuracy'])\n",
        "\n",
        "q_aware_model.summary()\n",
        "\n",
        "\n",
        "q_aware_model.fit(train_data, train_labels, epochs=10, validation_split=0.1)\n",
        "\n",
        "_, q_aware_model_accuracy = q_aware_model.evaluate(\n",
        "   test_data, test_labels, verbose=0)\n",
        "\n",
        "print(baseline_model_accuracy, q_aware_model_accuracy)\n",
        "\n",
        "\n",
        "model.save('q_aware_model.h5')\n",
        "# Get file size in bytes for a given model\n",
        "q_aware_model_size = os.path.getsize('q_aware_model.h5') /float(2**20)\n",
        "\n",
        "dict_summary['Q_Aware Model'] = {}\n",
        "dict_summary['Q_Aware Model']['Accuracy'] = q_aware_model_accuracy\n",
        "dict_summary['Q_Aware Model']['Size'] = q_aware_model_size"
      ],
      "metadata": {
        "id": "KaqsTg7gyyx7",
        "outputId": "61a31da3-a3ba-4f8b-ec43-f5a0cc8e2a32",
        "colab": {
          "base_uri": "https://localhost:8080/"
        }
      },
      "execution_count": null,
      "outputs": [
        {
          "output_type": "stream",
          "name": "stdout",
          "text": [
            "Model: \"sequential_2\"\n",
            "_________________________________________________________________\n",
            " Layer (type)                Output Shape              Param #   \n",
            "=================================================================\n",
            " quantize_layer_1 (QuantizeL  (None, 5)                3         \n",
            " ayer)                                                           \n",
            "                                                                 \n",
            " quant_dense_8 (QuantizeWrap  (None, 64)               389       \n",
            " perV2)                                                          \n",
            "                                                                 \n",
            " quant_dense_9 (QuantizeWrap  (None, 32)               2085      \n",
            " perV2)                                                          \n",
            "                                                                 \n",
            " quant_dense_10 (QuantizeWra  (None, 32)               1061      \n",
            " pperV2)                                                         \n",
            "                                                                 \n",
            " quant_dense_11 (QuantizeWra  (None, 1)                38        \n",
            " pperV2)                                                         \n",
            "                                                                 \n",
            "=================================================================\n",
            "Total params: 3,576\n",
            "Trainable params: 3,553\n",
            "Non-trainable params: 23\n",
            "_________________________________________________________________\n",
            "Epoch 1/10\n",
            "63/63 [==============================] - 2s 11ms/step - loss: 0.0688 - accuracy: 0.9749 - val_loss: 0.0599 - val_accuracy: 0.9775\n",
            "Epoch 2/10\n",
            "63/63 [==============================] - 0s 7ms/step - loss: 0.0643 - accuracy: 0.9794 - val_loss: 0.0620 - val_accuracy: 0.9775\n",
            "Epoch 3/10\n",
            "63/63 [==============================] - 0s 5ms/step - loss: 0.0638 - accuracy: 0.9764 - val_loss: 0.0587 - val_accuracy: 0.9820\n",
            "Epoch 4/10\n",
            "63/63 [==============================] - 0s 6ms/step - loss: 0.0595 - accuracy: 0.9849 - val_loss: 0.0571 - val_accuracy: 0.9820\n",
            "Epoch 5/10\n",
            "63/63 [==============================] - 0s 5ms/step - loss: 0.0579 - accuracy: 0.9834 - val_loss: 0.0555 - val_accuracy: 0.9820\n",
            "Epoch 6/10\n",
            "63/63 [==============================] - 0s 6ms/step - loss: 0.0577 - accuracy: 0.9814 - val_loss: 0.0630 - val_accuracy: 0.9820\n",
            "Epoch 7/10\n",
            "63/63 [==============================] - 0s 6ms/step - loss: 0.0588 - accuracy: 0.9819 - val_loss: 0.0575 - val_accuracy: 0.9865\n",
            "Epoch 8/10\n",
            "63/63 [==============================] - 0s 6ms/step - loss: 0.0571 - accuracy: 0.9819 - val_loss: 0.0548 - val_accuracy: 0.9865\n",
            "Epoch 9/10\n",
            "63/63 [==============================] - 0s 5ms/step - loss: 0.0553 - accuracy: 0.9839 - val_loss: 0.0533 - val_accuracy: 0.9865\n",
            "Epoch 10/10\n",
            "63/63 [==============================] - 0s 6ms/step - loss: 0.0540 - accuracy: 0.9844 - val_loss: 0.0550 - val_accuracy: 0.9865\n",
            "0.9783393740653992 0.994584858417511\n"
          ]
        }
      ]
    },
    {
      "cell_type": "code",
      "source": [
        "# Create TFLite model\n",
        "converter_aware = tf.lite.TFLiteConverter.from_keras_model(q_aware_model)\n",
        "converter_aware.optimizations = [tf.lite.Optimize.DEFAULT]\n",
        "quantized_tflite_model = converter_aware.convert()\n",
        "\n",
        "# Write tflite model to path\n",
        "tflite_models_dir = pathlib.Path(\"/tmp/\")\n",
        "tflite_model_file = tflite_models_dir/'model5.tflite' \n",
        "tflite_model_file.write_bytes(quantized_tflite_model)\n",
        "\n",
        "\n",
        "#Evaluate results with model\n",
        "interpreter = tf.lite.Interpreter(model_content=quantized_tflite_model)\n",
        "interpreter.allocate_tensors()\n",
        "test_accuracy_quant = evaluate_model_2(interpreter)\n",
        "\n",
        "print('Quant TFLite test_accuracy:', test_accuracy_quant)\n",
        "print('Quant TF test accuracy:', q_aware_model_accuracy)\n",
        "\n",
        "\n",
        "# Measure sizes of models.\n",
        "_, float_file = tempfile.mkstemp('.tflite')\n",
        "with open(float_file, 'wb') as f:\n",
        "  f.write(quantized_tflite_model)\n",
        "\n",
        "quantize_aware_size = os.path.getsize(float_file) / float(2**20)\n",
        "print(\"model in Mb:\", integer_quant_size)\n",
        "\n",
        "\n",
        "dict_summary['Quantize_Aware_TFLite'] = {}\n",
        "dict_summary['Quantize_Aware_TFLite']['Accuracy'] = test_accuracy_quant\n",
        "dict_summary['Quantize_Aware_TFLite']['Size'] = quantize_aware_size\n"
      ],
      "metadata": {
        "id": "CXdJvxFBzElK",
        "outputId": "9e754e96-de13-466b-ebfa-27cf2ec9af2e",
        "colab": {
          "base_uri": "https://localhost:8080/"
        }
      },
      "execution_count": null,
      "outputs": [
        {
          "output_type": "stream",
          "name": "stderr",
          "text": [
            "WARNING:absl:Found untraced functions such as dense_8_layer_call_fn, dense_8_layer_call_and_return_conditional_losses, dense_9_layer_call_fn, dense_9_layer_call_and_return_conditional_losses, dense_10_layer_call_fn while saving (showing 5 of 8). These functions will not be directly callable after loading.\n"
          ]
        },
        {
          "output_type": "stream",
          "name": "stdout",
          "text": [
            "INFO:tensorflow:Assets written to: /tmp/tmp9kys3xh3/assets\n"
          ]
        },
        {
          "output_type": "stream",
          "name": "stderr",
          "text": [
            "INFO:tensorflow:Assets written to: /tmp/tmp9kys3xh3/assets\n",
            "/usr/local/lib/python3.7/dist-packages/tensorflow/lite/python/convert.py:746: UserWarning: Statistics for quantized inputs were expected, but not specified; continuing anyway.\n",
            "  warnings.warn(\"Statistics for quantized inputs were expected, but not \"\n",
            "WARNING:absl:Buffer deduplication procedure will be skipped when flatbuffer library is not properly loaded\n"
          ]
        },
        {
          "output_type": "stream",
          "name": "stdout",
          "text": [
            "\n",
            "\n",
            "Quant TFLite test_accuracy: 0.9945848375451264\n",
            "Quant TF test accuracy: 0.994584858417511\n",
            "model in Mb: 0.0066680908203125\n"
          ]
        }
      ]
    },
    {
      "cell_type": "markdown",
      "source": [
        "# Summary"
      ],
      "metadata": {
        "id": "HyGcvanzC1dS"
      }
    },
    {
      "cell_type": "markdown",
      "source": [
        "Below, accuracies and sizes of TensorFlow model and Tensorflow Lite Models are prenseted. As you can see, the accuracy doesn't change with quantization. Qauntization aware training gives better results. It is an expected behaviour since it learns from errors during training and give more robust parameters. Integer only quantization gives very low accuracy which is Representative_Dataset_Int_Only. \n"
      ],
      "metadata": {
        "id": "Tk_nxlJQBbjc"
      }
    },
    {
      "cell_type": "code",
      "source": [
        "import pandas as pd\n",
        "pd.DataFrame.from_dict(dict_summary).T"
      ],
      "metadata": {
        "colab": {
          "base_uri": "https://localhost:8080/",
          "height": 268
        },
        "id": "vBvpXWNsC4O0",
        "outputId": "8cdda07d-cc75-4521-b86e-2723563feff2"
      },
      "execution_count": null,
      "outputs": [
        {
          "output_type": "execute_result",
          "data": {
            "text/plain": [
              "                                       Accuracy      Size\n",
              "TensorFlow Model                       0.978339  0.077835\n",
              "TFLite_no_quantization                 0.978339  0.015667\n",
              "Dynamic_range_quantization             0.978339  0.007126\n",
              "Representative_Dataset_Float_Fallback  0.978339  0.006653\n",
              "Representative_Dataset_Int_Only        0.333935  0.006668\n",
              "Q_Aware Model                          0.994585  0.077835\n",
              "Quantize_Aware_TFLite                  0.994585  0.007133"
            ],
            "text/html": [
              "\n",
              "  <div id=\"df-2e583c1d-0b8e-4d44-acaa-2fc4d690c053\">\n",
              "    <div class=\"colab-df-container\">\n",
              "      <div>\n",
              "<style scoped>\n",
              "    .dataframe tbody tr th:only-of-type {\n",
              "        vertical-align: middle;\n",
              "    }\n",
              "\n",
              "    .dataframe tbody tr th {\n",
              "        vertical-align: top;\n",
              "    }\n",
              "\n",
              "    .dataframe thead th {\n",
              "        text-align: right;\n",
              "    }\n",
              "</style>\n",
              "<table border=\"1\" class=\"dataframe\">\n",
              "  <thead>\n",
              "    <tr style=\"text-align: right;\">\n",
              "      <th></th>\n",
              "      <th>Accuracy</th>\n",
              "      <th>Size</th>\n",
              "    </tr>\n",
              "  </thead>\n",
              "  <tbody>\n",
              "    <tr>\n",
              "      <th>TensorFlow Model</th>\n",
              "      <td>0.978339</td>\n",
              "      <td>0.077835</td>\n",
              "    </tr>\n",
              "    <tr>\n",
              "      <th>TFLite_no_quantization</th>\n",
              "      <td>0.978339</td>\n",
              "      <td>0.015667</td>\n",
              "    </tr>\n",
              "    <tr>\n",
              "      <th>Dynamic_range_quantization</th>\n",
              "      <td>0.978339</td>\n",
              "      <td>0.007126</td>\n",
              "    </tr>\n",
              "    <tr>\n",
              "      <th>Representative_Dataset_Float_Fallback</th>\n",
              "      <td>0.978339</td>\n",
              "      <td>0.006653</td>\n",
              "    </tr>\n",
              "    <tr>\n",
              "      <th>Representative_Dataset_Int_Only</th>\n",
              "      <td>0.333935</td>\n",
              "      <td>0.006668</td>\n",
              "    </tr>\n",
              "    <tr>\n",
              "      <th>Q_Aware Model</th>\n",
              "      <td>0.994585</td>\n",
              "      <td>0.077835</td>\n",
              "    </tr>\n",
              "    <tr>\n",
              "      <th>Quantize_Aware_TFLite</th>\n",
              "      <td>0.994585</td>\n",
              "      <td>0.007133</td>\n",
              "    </tr>\n",
              "  </tbody>\n",
              "</table>\n",
              "</div>\n",
              "      <button class=\"colab-df-convert\" onclick=\"convertToInteractive('df-2e583c1d-0b8e-4d44-acaa-2fc4d690c053')\"\n",
              "              title=\"Convert this dataframe to an interactive table.\"\n",
              "              style=\"display:none;\">\n",
              "        \n",
              "  <svg xmlns=\"http://www.w3.org/2000/svg\" height=\"24px\"viewBox=\"0 0 24 24\"\n",
              "       width=\"24px\">\n",
              "    <path d=\"M0 0h24v24H0V0z\" fill=\"none\"/>\n",
              "    <path d=\"M18.56 5.44l.94 2.06.94-2.06 2.06-.94-2.06-.94-.94-2.06-.94 2.06-2.06.94zm-11 1L8.5 8.5l.94-2.06 2.06-.94-2.06-.94L8.5 2.5l-.94 2.06-2.06.94zm10 10l.94 2.06.94-2.06 2.06-.94-2.06-.94-.94-2.06-.94 2.06-2.06.94z\"/><path d=\"M17.41 7.96l-1.37-1.37c-.4-.4-.92-.59-1.43-.59-.52 0-1.04.2-1.43.59L10.3 9.45l-7.72 7.72c-.78.78-.78 2.05 0 2.83L4 21.41c.39.39.9.59 1.41.59.51 0 1.02-.2 1.41-.59l7.78-7.78 2.81-2.81c.8-.78.8-2.07 0-2.86zM5.41 20L4 18.59l7.72-7.72 1.47 1.35L5.41 20z\"/>\n",
              "  </svg>\n",
              "      </button>\n",
              "      \n",
              "  <style>\n",
              "    .colab-df-container {\n",
              "      display:flex;\n",
              "      flex-wrap:wrap;\n",
              "      gap: 12px;\n",
              "    }\n",
              "\n",
              "    .colab-df-convert {\n",
              "      background-color: #E8F0FE;\n",
              "      border: none;\n",
              "      border-radius: 50%;\n",
              "      cursor: pointer;\n",
              "      display: none;\n",
              "      fill: #1967D2;\n",
              "      height: 32px;\n",
              "      padding: 0 0 0 0;\n",
              "      width: 32px;\n",
              "    }\n",
              "\n",
              "    .colab-df-convert:hover {\n",
              "      background-color: #E2EBFA;\n",
              "      box-shadow: 0px 1px 2px rgba(60, 64, 67, 0.3), 0px 1px 3px 1px rgba(60, 64, 67, 0.15);\n",
              "      fill: #174EA6;\n",
              "    }\n",
              "\n",
              "    [theme=dark] .colab-df-convert {\n",
              "      background-color: #3B4455;\n",
              "      fill: #D2E3FC;\n",
              "    }\n",
              "\n",
              "    [theme=dark] .colab-df-convert:hover {\n",
              "      background-color: #434B5C;\n",
              "      box-shadow: 0px 1px 3px 1px rgba(0, 0, 0, 0.15);\n",
              "      filter: drop-shadow(0px 1px 2px rgba(0, 0, 0, 0.3));\n",
              "      fill: #FFFFFF;\n",
              "    }\n",
              "  </style>\n",
              "\n",
              "      <script>\n",
              "        const buttonEl =\n",
              "          document.querySelector('#df-2e583c1d-0b8e-4d44-acaa-2fc4d690c053 button.colab-df-convert');\n",
              "        buttonEl.style.display =\n",
              "          google.colab.kernel.accessAllowed ? 'block' : 'none';\n",
              "\n",
              "        async function convertToInteractive(key) {\n",
              "          const element = document.querySelector('#df-2e583c1d-0b8e-4d44-acaa-2fc4d690c053');\n",
              "          const dataTable =\n",
              "            await google.colab.kernel.invokeFunction('convertToInteractive',\n",
              "                                                     [key], {});\n",
              "          if (!dataTable) return;\n",
              "\n",
              "          const docLinkHtml = 'Like what you see? Visit the ' +\n",
              "            '<a target=\"_blank\" href=https://colab.research.google.com/notebooks/data_table.ipynb>data table notebook</a>'\n",
              "            + ' to learn more about interactive tables.';\n",
              "          element.innerHTML = '';\n",
              "          dataTable['output_type'] = 'display_data';\n",
              "          await google.colab.output.renderOutput(dataTable, element);\n",
              "          const docLink = document.createElement('div');\n",
              "          docLink.innerHTML = docLinkHtml;\n",
              "          element.appendChild(docLink);\n",
              "        }\n",
              "      </script>\n",
              "    </div>\n",
              "  </div>\n",
              "  "
            ]
          },
          "metadata": {},
          "execution_count": 115
        }
      ]
    },
    {
      "cell_type": "code",
      "source": [
        "summary = pd.DataFrame.from_dict(dict_summary).T.reset_index()\n",
        "summary.rename(columns={'index': 'Model'}, inplace=True)\n",
        "summary = summary[summary.Model != 'Representative_Dataset_Int_Only']"
      ],
      "metadata": {
        "id": "G_CEJyt1RRC6"
      },
      "execution_count": null,
      "outputs": []
    },
    {
      "cell_type": "code",
      "source": [
        "plt.scatter(summary.Model, summary.Accuracy, c=summary.Accuracy, s=summary.Size*10000)\n",
        "plt.ylim(ymax = 1, ymin = 0.9)\n",
        "plt.xticks(rotation = 90)\n",
        "plt.colorbar()\n",
        "plt.show()"
      ],
      "metadata": {
        "colab": {
          "base_uri": "https://localhost:8080/",
          "height": 454
        },
        "id": "1VRUlUy-Rouf",
        "outputId": "e4306800-ee44-4e63-a020-50a6661faab3"
      },
      "execution_count": null,
      "outputs": [
        {
          "output_type": "display_data",
          "data": {
            "text/plain": [
              "<Figure size 432x288 with 2 Axes>"
            ],
            "image/png": "[encoded data removed]"
          },
          "metadata": {
            "needs_background": "light"
          }
        }
      ]
    }
  ]
}